{
 "cells": [
  {
   "cell_type": "markdown",
   "metadata": {},
   "source": [
    "### Проект: Исследование сервиса аренды самокатов GoFast. "
   ]
  },
  {
   "cell_type": "markdown",
   "metadata": {},
   "source": [
    "Описание проекта : В ходе исследования будут проанализированны данные \n",
    "которые могут помочь найти точки для роста бизнеса. Пользователи сервиса GoFast \n",
    "пользуются мобильным приложением для аренды самокатов . Сервисом можно пользоваться: без подписки , \n",
    "абонентская плата отсутствует и с подпиской. В основных данных есть информация о \n",
    "пользователях, их поездках и подписках. Планируется сравнивать 2 группы(пользователи с подпиской и без нее) пользователей по части доходности, \n",
    "а также иных дополнительных параметров влияющие на выручку компании "
   ]
  },
  {
   "cell_type": "markdown",
   "metadata": {},
   "source": [
    "План работы: \n",
    "1. Изучение данных\n",
    "2. Предобработка данных\n",
    "3. Исследовательский анализ данных\n",
    "4. Объединение данных\n",
    "5. Подсчёт выручки\n",
    "6. Проверка гипотез\n",
    "7. Итог исследования"
   ]
  },
  {
   "cell_type": "markdown",
   "metadata": {},
   "source": [
    "Библмотеки для работы"
   ]
  },
  {
   "cell_type": "code",
   "execution_count": 1,
   "metadata": {},
   "outputs": [],
   "source": [
    "import pandas as pd\n",
    "import matplotlib.pyplot as plt\n",
    "import numpy as np\n",
    "from scipy import stats as st\n",
    "from math import factorial\n",
    "from scipy.stats import binom\n",
    "import statsmodels as sm"
   ]
  },
  {
   "cell_type": "markdown",
   "metadata": {},
   "source": [
    "#### Шаг 1. Загрузка данных"
   ]
  },
  {
   "cell_type": "code",
   "execution_count": 2,
   "metadata": {},
   "outputs": [],
   "source": [
    "df_users = pd.read_csv('C:/Users/User/Desktop/проекты/Самокаты/users_go.csv')\n",
    "df_rides = pd.read_csv('C:/Users/User/Desktop/проекты/Самокаты/rides_go.csv')\n",
    "df_subscription = pd.read_csv('C:/Users/User/Desktop/проекты/Самокаты/subscriptions_go.csv')"
   ]
  },
  {
   "cell_type": "code",
   "execution_count": 3,
   "metadata": {},
   "outputs": [
    {
     "name": "stdout",
     "output_type": "stream",
     "text": [
      "<class 'pandas.core.frame.DataFrame'>\n",
      "RangeIndex: 1565 entries, 0 to 1564\n",
      "Data columns (total 5 columns):\n",
      " #   Column             Non-Null Count  Dtype \n",
      "---  ------             --------------  ----- \n",
      " 0   user_id            1565 non-null   int64 \n",
      " 1   name               1565 non-null   object\n",
      " 2   age                1565 non-null   int64 \n",
      " 3   city               1565 non-null   object\n",
      " 4   subscription_type  1565 non-null   object\n",
      "dtypes: int64(2), object(3)\n",
      "memory usage: 61.3+ KB\n"
     ]
    }
   ],
   "source": [
    "#Выводим информацию о датасете\n",
    "df_users.info()"
   ]
  },
  {
   "cell_type": "code",
   "execution_count": 4,
   "metadata": {},
   "outputs": [
    {
     "data": {
      "text/html": [
       "<div>\n",
       "<style scoped>\n",
       "    .dataframe tbody tr th:only-of-type {\n",
       "        vertical-align: middle;\n",
       "    }\n",
       "\n",
       "    .dataframe tbody tr th {\n",
       "        vertical-align: top;\n",
       "    }\n",
       "\n",
       "    .dataframe thead th {\n",
       "        text-align: right;\n",
       "    }\n",
       "</style>\n",
       "<table border=\"1\" class=\"dataframe\">\n",
       "  <thead>\n",
       "    <tr style=\"text-align: right;\">\n",
       "      <th></th>\n",
       "      <th>user_id</th>\n",
       "      <th>name</th>\n",
       "      <th>age</th>\n",
       "      <th>city</th>\n",
       "      <th>subscription_type</th>\n",
       "    </tr>\n",
       "  </thead>\n",
       "  <tbody>\n",
       "    <tr>\n",
       "      <th>0</th>\n",
       "      <td>1</td>\n",
       "      <td>Кира</td>\n",
       "      <td>22</td>\n",
       "      <td>Тюмень</td>\n",
       "      <td>ultra</td>\n",
       "    </tr>\n",
       "    <tr>\n",
       "      <th>1</th>\n",
       "      <td>2</td>\n",
       "      <td>Станислав</td>\n",
       "      <td>31</td>\n",
       "      <td>Омск</td>\n",
       "      <td>ultra</td>\n",
       "    </tr>\n",
       "    <tr>\n",
       "      <th>2</th>\n",
       "      <td>3</td>\n",
       "      <td>Алексей</td>\n",
       "      <td>20</td>\n",
       "      <td>Москва</td>\n",
       "      <td>ultra</td>\n",
       "    </tr>\n",
       "    <tr>\n",
       "      <th>3</th>\n",
       "      <td>4</td>\n",
       "      <td>Константин</td>\n",
       "      <td>26</td>\n",
       "      <td>Ростов-на-Дону</td>\n",
       "      <td>ultra</td>\n",
       "    </tr>\n",
       "    <tr>\n",
       "      <th>4</th>\n",
       "      <td>5</td>\n",
       "      <td>Адель</td>\n",
       "      <td>28</td>\n",
       "      <td>Омск</td>\n",
       "      <td>ultra</td>\n",
       "    </tr>\n",
       "  </tbody>\n",
       "</table>\n",
       "</div>"
      ],
      "text/plain": [
       "   user_id        name  age            city subscription_type\n",
       "0        1        Кира   22          Тюмень             ultra\n",
       "1        2   Станислав   31            Омск             ultra\n",
       "2        3     Алексей   20          Москва             ultra\n",
       "3        4  Константин   26  Ростов-на-Дону             ultra\n",
       "4        5       Адель   28            Омск             ultra"
      ]
     },
     "execution_count": 4,
     "metadata": {},
     "output_type": "execute_result"
    }
   ],
   "source": [
    "#Выводим первые 5 строк датасета\n",
    "df_users.head()\n"
   ]
  },
  {
   "cell_type": "code",
   "execution_count": 5,
   "metadata": {},
   "outputs": [
    {
     "name": "stdout",
     "output_type": "stream",
     "text": [
      "<class 'pandas.core.frame.DataFrame'>\n",
      "RangeIndex: 18068 entries, 0 to 18067\n",
      "Data columns (total 4 columns):\n",
      " #   Column    Non-Null Count  Dtype  \n",
      "---  ------    --------------  -----  \n",
      " 0   user_id   18068 non-null  int64  \n",
      " 1   distance  18068 non-null  float64\n",
      " 2   duration  18068 non-null  float64\n",
      " 3   date      18068 non-null  object \n",
      "dtypes: float64(2), int64(1), object(1)\n",
      "memory usage: 564.8+ KB\n"
     ]
    }
   ],
   "source": [
    "#Выводим информацию о датасете\n",
    "df_rides.info()"
   ]
  },
  {
   "cell_type": "code",
   "execution_count": 6,
   "metadata": {},
   "outputs": [
    {
     "data": {
      "text/html": [
       "<div>\n",
       "<style scoped>\n",
       "    .dataframe tbody tr th:only-of-type {\n",
       "        vertical-align: middle;\n",
       "    }\n",
       "\n",
       "    .dataframe tbody tr th {\n",
       "        vertical-align: top;\n",
       "    }\n",
       "\n",
       "    .dataframe thead th {\n",
       "        text-align: right;\n",
       "    }\n",
       "</style>\n",
       "<table border=\"1\" class=\"dataframe\">\n",
       "  <thead>\n",
       "    <tr style=\"text-align: right;\">\n",
       "      <th></th>\n",
       "      <th>user_id</th>\n",
       "      <th>distance</th>\n",
       "      <th>duration</th>\n",
       "      <th>date</th>\n",
       "    </tr>\n",
       "  </thead>\n",
       "  <tbody>\n",
       "    <tr>\n",
       "      <th>0</th>\n",
       "      <td>1</td>\n",
       "      <td>4409.919140</td>\n",
       "      <td>25.599769</td>\n",
       "      <td>2021-01-01</td>\n",
       "    </tr>\n",
       "    <tr>\n",
       "      <th>1</th>\n",
       "      <td>1</td>\n",
       "      <td>2617.592153</td>\n",
       "      <td>15.816871</td>\n",
       "      <td>2021-01-18</td>\n",
       "    </tr>\n",
       "    <tr>\n",
       "      <th>2</th>\n",
       "      <td>1</td>\n",
       "      <td>754.159807</td>\n",
       "      <td>6.232113</td>\n",
       "      <td>2021-04-20</td>\n",
       "    </tr>\n",
       "    <tr>\n",
       "      <th>3</th>\n",
       "      <td>1</td>\n",
       "      <td>2694.783254</td>\n",
       "      <td>18.511000</td>\n",
       "      <td>2021-08-11</td>\n",
       "    </tr>\n",
       "    <tr>\n",
       "      <th>4</th>\n",
       "      <td>1</td>\n",
       "      <td>4028.687306</td>\n",
       "      <td>26.265803</td>\n",
       "      <td>2021-08-28</td>\n",
       "    </tr>\n",
       "  </tbody>\n",
       "</table>\n",
       "</div>"
      ],
      "text/plain": [
       "   user_id     distance   duration        date\n",
       "0        1  4409.919140  25.599769  2021-01-01\n",
       "1        1  2617.592153  15.816871  2021-01-18\n",
       "2        1   754.159807   6.232113  2021-04-20\n",
       "3        1  2694.783254  18.511000  2021-08-11\n",
       "4        1  4028.687306  26.265803  2021-08-28"
      ]
     },
     "execution_count": 6,
     "metadata": {},
     "output_type": "execute_result"
    }
   ],
   "source": [
    "#Выводим первые 5 строк датасета\n",
    "df_rides.head()"
   ]
  },
  {
   "cell_type": "code",
   "execution_count": 7,
   "metadata": {},
   "outputs": [
    {
     "name": "stdout",
     "output_type": "stream",
     "text": [
      "<class 'pandas.core.frame.DataFrame'>\n",
      "RangeIndex: 2 entries, 0 to 1\n",
      "Data columns (total 4 columns):\n",
      " #   Column             Non-Null Count  Dtype \n",
      "---  ------             --------------  ----- \n",
      " 0   subscription_type  2 non-null      object\n",
      " 1   minute_price       2 non-null      int64 \n",
      " 2   start_ride_price   2 non-null      int64 \n",
      " 3   subscription_fee   2 non-null      int64 \n",
      "dtypes: int64(3), object(1)\n",
      "memory usage: 192.0+ bytes\n"
     ]
    }
   ],
   "source": [
    "#Выводим информацию о датасете\n",
    "df_subscription.info()"
   ]
  },
  {
   "cell_type": "code",
   "execution_count": 8,
   "metadata": {},
   "outputs": [
    {
     "data": {
      "text/html": [
       "<div>\n",
       "<style scoped>\n",
       "    .dataframe tbody tr th:only-of-type {\n",
       "        vertical-align: middle;\n",
       "    }\n",
       "\n",
       "    .dataframe tbody tr th {\n",
       "        vertical-align: top;\n",
       "    }\n",
       "\n",
       "    .dataframe thead th {\n",
       "        text-align: right;\n",
       "    }\n",
       "</style>\n",
       "<table border=\"1\" class=\"dataframe\">\n",
       "  <thead>\n",
       "    <tr style=\"text-align: right;\">\n",
       "      <th></th>\n",
       "      <th>subscription_type</th>\n",
       "      <th>minute_price</th>\n",
       "      <th>start_ride_price</th>\n",
       "      <th>subscription_fee</th>\n",
       "    </tr>\n",
       "  </thead>\n",
       "  <tbody>\n",
       "    <tr>\n",
       "      <th>0</th>\n",
       "      <td>free</td>\n",
       "      <td>8</td>\n",
       "      <td>50</td>\n",
       "      <td>0</td>\n",
       "    </tr>\n",
       "    <tr>\n",
       "      <th>1</th>\n",
       "      <td>ultra</td>\n",
       "      <td>6</td>\n",
       "      <td>0</td>\n",
       "      <td>199</td>\n",
       "    </tr>\n",
       "  </tbody>\n",
       "</table>\n",
       "</div>"
      ],
      "text/plain": [
       "  subscription_type  minute_price  start_ride_price  subscription_fee\n",
       "0              free             8                50                 0\n",
       "1             ultra             6                 0               199"
      ]
     },
     "execution_count": 8,
     "metadata": {},
     "output_type": "execute_result"
    }
   ],
   "source": [
    "#Выводим первые  строки датасета\n",
    "df_subscription.head()"
   ]
  },
  {
   "cell_type": "markdown",
   "metadata": {},
   "source": [
    "Комментарии: Первый взгляд на таблицы показывает что у нас нет пропущенны значений в таблице что уже хорошо, \n",
    "    но требуется изменить тип данны date в таблице df_rides/"
   ]
  },
  {
   "cell_type": "markdown",
   "metadata": {},
   "source": [
    "#### Шаг 2. Предобработка данных"
   ]
  },
  {
   "cell_type": "code",
   "execution_count": 9,
   "metadata": {},
   "outputs": [],
   "source": [
    "#Приводим в нужный тип дату а также добавим новый столбец для обозначения номера месяца\n",
    "df_rides['date'] = pd.to_datetime(df_rides['date'], format='%Y-%m-%dT%H:%M:%S')\n",
    "df_rides['month_date'] = df_rides['date'].dt.month "
   ]
  },
  {
   "cell_type": "code",
   "execution_count": 10,
   "metadata": {},
   "outputs": [
    {
     "name": "stdout",
     "output_type": "stream",
     "text": [
      "<class 'pandas.core.frame.DataFrame'>\n",
      "RangeIndex: 18068 entries, 0 to 18067\n",
      "Data columns (total 5 columns):\n",
      " #   Column      Non-Null Count  Dtype         \n",
      "---  ------      --------------  -----         \n",
      " 0   user_id     18068 non-null  int64         \n",
      " 1   distance    18068 non-null  float64       \n",
      " 2   duration    18068 non-null  float64       \n",
      " 3   date        18068 non-null  datetime64[ns]\n",
      " 4   month_date  18068 non-null  int64         \n",
      "dtypes: datetime64[ns](1), float64(2), int64(2)\n",
      "memory usage: 705.9 KB\n"
     ]
    }
   ],
   "source": [
    "#Выводим информацию о датасете для проверки наших изменений \n",
    "df_rides.info()"
   ]
  },
  {
   "cell_type": "code",
   "execution_count": 11,
   "metadata": {},
   "outputs": [
    {
     "data": {
      "text/plain": [
       "0         1\n",
       "1         1\n",
       "2         4\n",
       "3         8\n",
       "4         8\n",
       "         ..\n",
       "18063    11\n",
       "18064    11\n",
       "18065    11\n",
       "18066    11\n",
       "18067    12\n",
       "Name: month_date, Length: 18068, dtype: int64"
      ]
     },
     "execution_count": 11,
     "metadata": {},
     "output_type": "execute_result"
    }
   ],
   "source": [
    "#Проверяем отдельно столбец month_date\n",
    "df_rides['month_date']"
   ]
  },
  {
   "cell_type": "code",
   "execution_count": 12,
   "metadata": {},
   "outputs": [
    {
     "data": {
      "text/plain": [
       "array(['2021-01-01T00:00:00.000000000', '2021-01-18T00:00:00.000000000',\n",
       "       '2021-04-20T00:00:00.000000000', '2021-08-11T00:00:00.000000000',\n",
       "       '2021-08-28T00:00:00.000000000', '2021-10-09T00:00:00.000000000',\n",
       "       '2021-10-19T00:00:00.000000000', '2021-11-06T00:00:00.000000000',\n",
       "       '2021-11-14T00:00:00.000000000', '2021-11-22T00:00:00.000000000',\n",
       "       '2021-12-14T00:00:00.000000000', '2021-12-22T00:00:00.000000000',\n",
       "       '2021-03-15T00:00:00.000000000', '2021-03-18T00:00:00.000000000',\n",
       "       '2021-03-23T00:00:00.000000000', '2021-04-08T00:00:00.000000000',\n",
       "       '2021-04-13T00:00:00.000000000', '2021-06-20T00:00:00.000000000',\n",
       "       '2021-07-02T00:00:00.000000000', '2021-07-18T00:00:00.000000000',\n",
       "       '2021-08-03T00:00:00.000000000', '2021-10-27T00:00:00.000000000',\n",
       "       '2021-12-18T00:00:00.000000000', '2021-01-31T00:00:00.000000000',\n",
       "       '2021-02-24T00:00:00.000000000', '2021-02-26T00:00:00.000000000',\n",
       "       '2021-04-12T00:00:00.000000000', '2021-05-07T00:00:00.000000000',\n",
       "       '2021-05-21T00:00:00.000000000', '2021-05-22T00:00:00.000000000',\n",
       "       '2021-07-04T00:00:00.000000000', '2021-07-07T00:00:00.000000000',\n",
       "       '2021-07-14T00:00:00.000000000', '2021-09-04T00:00:00.000000000',\n",
       "       '2021-02-10T00:00:00.000000000', '2021-02-16T00:00:00.000000000',\n",
       "       '2021-06-06T00:00:00.000000000', '2021-06-27T00:00:00.000000000',\n",
       "       '2021-07-06T00:00:00.000000000', '2021-07-17T00:00:00.000000000',\n",
       "       '2021-08-14T00:00:00.000000000', '2021-10-08T00:00:00.000000000',\n",
       "       '2021-10-24T00:00:00.000000000', '2021-10-30T00:00:00.000000000',\n",
       "       '2021-11-25T00:00:00.000000000', '2021-03-01T00:00:00.000000000',\n",
       "       '2021-03-13T00:00:00.000000000', '2021-03-25T00:00:00.000000000',\n",
       "       '2021-04-24T00:00:00.000000000', '2021-05-08T00:00:00.000000000',\n",
       "       '2021-05-30T00:00:00.000000000', '2021-07-24T00:00:00.000000000',\n",
       "       '2021-08-10T00:00:00.000000000', '2021-10-07T00:00:00.000000000',\n",
       "       '2021-02-25T00:00:00.000000000', '2021-05-04T00:00:00.000000000',\n",
       "       '2021-05-14T00:00:00.000000000', '2021-05-17T00:00:00.000000000',\n",
       "       '2021-08-15T00:00:00.000000000', '2021-09-27T00:00:00.000000000',\n",
       "       '2021-11-18T00:00:00.000000000', '2021-12-07T00:00:00.000000000',\n",
       "       '2021-12-08T00:00:00.000000000', '2021-01-10T00:00:00.000000000',\n",
       "       '2021-01-20T00:00:00.000000000', '2021-03-07T00:00:00.000000000',\n",
       "       '2021-04-09T00:00:00.000000000', '2021-04-28T00:00:00.000000000',\n",
       "       '2021-05-10T00:00:00.000000000', '2021-06-16T00:00:00.000000000',\n",
       "       '2021-11-05T00:00:00.000000000', '2021-11-08T00:00:00.000000000',\n",
       "       '2021-11-11T00:00:00.000000000', '2021-11-24T00:00:00.000000000',\n",
       "       '2021-12-19T00:00:00.000000000', '2021-12-27T00:00:00.000000000',\n",
       "       '2021-06-23T00:00:00.000000000', '2021-08-08T00:00:00.000000000',\n",
       "       '2021-08-19T00:00:00.000000000', '2021-12-09T00:00:00.000000000',\n",
       "       '2021-03-08T00:00:00.000000000', '2021-03-09T00:00:00.000000000',\n",
       "       '2021-04-17T00:00:00.000000000', '2021-06-30T00:00:00.000000000',\n",
       "       '2021-08-04T00:00:00.000000000', '2021-09-20T00:00:00.000000000',\n",
       "       '2021-02-04T00:00:00.000000000', '2021-02-21T00:00:00.000000000',\n",
       "       '2021-04-03T00:00:00.000000000', '2021-06-21T00:00:00.000000000',\n",
       "       '2021-08-12T00:00:00.000000000', '2021-11-21T00:00:00.000000000',\n",
       "       '2021-12-25T00:00:00.000000000', '2021-02-27T00:00:00.000000000',\n",
       "       '2021-09-01T00:00:00.000000000', '2021-12-06T00:00:00.000000000',\n",
       "       '2021-01-17T00:00:00.000000000', '2021-04-25T00:00:00.000000000',\n",
       "       '2021-05-23T00:00:00.000000000', '2021-07-11T00:00:00.000000000',\n",
       "       '2021-08-07T00:00:00.000000000', '2021-01-24T00:00:00.000000000',\n",
       "       '2021-01-27T00:00:00.000000000', '2021-04-14T00:00:00.000000000',\n",
       "       '2021-08-06T00:00:00.000000000', '2021-08-24T00:00:00.000000000',\n",
       "       '2021-09-23T00:00:00.000000000', '2021-09-26T00:00:00.000000000',\n",
       "       '2021-10-18T00:00:00.000000000', '2021-10-26T00:00:00.000000000',\n",
       "       '2021-11-10T00:00:00.000000000', '2021-12-23T00:00:00.000000000',\n",
       "       '2021-01-02T00:00:00.000000000', '2021-01-12T00:00:00.000000000',\n",
       "       '2021-03-27T00:00:00.000000000', '2021-03-29T00:00:00.000000000',\n",
       "       '2021-05-13T00:00:00.000000000', '2021-01-13T00:00:00.000000000',\n",
       "       '2021-02-13T00:00:00.000000000', '2021-03-02T00:00:00.000000000',\n",
       "       '2021-04-05T00:00:00.000000000', '2021-09-14T00:00:00.000000000',\n",
       "       '2021-10-04T00:00:00.000000000', '2021-11-15T00:00:00.000000000',\n",
       "       '2021-02-18T00:00:00.000000000', '2021-03-03T00:00:00.000000000',\n",
       "       '2021-03-06T00:00:00.000000000', '2021-04-02T00:00:00.000000000',\n",
       "       '2021-04-16T00:00:00.000000000', '2021-05-28T00:00:00.000000000',\n",
       "       '2021-06-15T00:00:00.000000000', '2021-07-19T00:00:00.000000000',\n",
       "       '2021-07-27T00:00:00.000000000', '2021-09-11T00:00:00.000000000',\n",
       "       '2021-09-21T00:00:00.000000000', '2021-05-25T00:00:00.000000000',\n",
       "       '2021-06-19T00:00:00.000000000', '2021-03-28T00:00:00.000000000',\n",
       "       '2021-04-10T00:00:00.000000000', '2021-05-19T00:00:00.000000000',\n",
       "       '2021-08-18T00:00:00.000000000', '2021-08-31T00:00:00.000000000',\n",
       "       '2021-09-07T00:00:00.000000000', '2021-09-17T00:00:00.000000000',\n",
       "       '2021-09-18T00:00:00.000000000', '2021-04-21T00:00:00.000000000',\n",
       "       '2021-04-27T00:00:00.000000000', '2021-05-18T00:00:00.000000000',\n",
       "       '2021-08-05T00:00:00.000000000', '2021-10-16T00:00:00.000000000',\n",
       "       '2021-11-17T00:00:00.000000000', '2021-05-03T00:00:00.000000000',\n",
       "       '2021-07-25T00:00:00.000000000', '2021-02-03T00:00:00.000000000',\n",
       "       '2021-02-12T00:00:00.000000000', '2021-02-19T00:00:00.000000000',\n",
       "       '2021-03-19T00:00:00.000000000', '2021-06-25T00:00:00.000000000',\n",
       "       '2021-10-01T00:00:00.000000000', '2021-11-09T00:00:00.000000000',\n",
       "       '2021-12-03T00:00:00.000000000', '2021-12-13T00:00:00.000000000',\n",
       "       '2021-01-14T00:00:00.000000000', '2021-05-06T00:00:00.000000000',\n",
       "       '2021-06-28T00:00:00.000000000', '2021-07-13T00:00:00.000000000',\n",
       "       '2021-09-25T00:00:00.000000000', '2021-02-20T00:00:00.000000000',\n",
       "       '2021-02-23T00:00:00.000000000', '2021-05-20T00:00:00.000000000',\n",
       "       '2021-07-16T00:00:00.000000000', '2021-08-26T00:00:00.000000000',\n",
       "       '2021-11-12T00:00:00.000000000', '2021-12-11T00:00:00.000000000',\n",
       "       '2021-03-14T00:00:00.000000000', '2021-03-24T00:00:00.000000000',\n",
       "       '2021-04-04T00:00:00.000000000', '2021-06-11T00:00:00.000000000',\n",
       "       '2021-11-20T00:00:00.000000000', '2021-01-26T00:00:00.000000000',\n",
       "       '2021-03-22T00:00:00.000000000', '2021-07-28T00:00:00.000000000',\n",
       "       '2021-10-20T00:00:00.000000000', '2021-12-29T00:00:00.000000000',\n",
       "       '2021-01-04T00:00:00.000000000', '2021-01-22T00:00:00.000000000',\n",
       "       '2021-04-22T00:00:00.000000000', '2021-06-08T00:00:00.000000000',\n",
       "       '2021-12-30T00:00:00.000000000', '2021-05-11T00:00:00.000000000',\n",
       "       '2021-07-12T00:00:00.000000000', '2021-08-17T00:00:00.000000000',\n",
       "       '2021-11-29T00:00:00.000000000', '2021-12-24T00:00:00.000000000',\n",
       "       '2021-07-31T00:00:00.000000000', '2021-08-16T00:00:00.000000000',\n",
       "       '2021-08-30T00:00:00.000000000', '2021-12-26T00:00:00.000000000',\n",
       "       '2021-07-10T00:00:00.000000000', '2021-08-20T00:00:00.000000000',\n",
       "       '2021-08-22T00:00:00.000000000', '2021-10-02T00:00:00.000000000',\n",
       "       '2021-01-28T00:00:00.000000000', '2021-04-11T00:00:00.000000000',\n",
       "       '2021-09-08T00:00:00.000000000', '2021-09-19T00:00:00.000000000',\n",
       "       '2021-10-11T00:00:00.000000000', '2021-10-21T00:00:00.000000000',\n",
       "       '2021-02-11T00:00:00.000000000', '2021-06-02T00:00:00.000000000',\n",
       "       '2021-06-10T00:00:00.000000000', '2021-07-15T00:00:00.000000000',\n",
       "       '2021-08-27T00:00:00.000000000', '2021-08-29T00:00:00.000000000',\n",
       "       '2021-01-25T00:00:00.000000000', '2021-05-01T00:00:00.000000000',\n",
       "       '2021-10-22T00:00:00.000000000', '2021-10-31T00:00:00.000000000',\n",
       "       '2021-06-22T00:00:00.000000000', '2021-11-13T00:00:00.000000000',\n",
       "       '2021-03-04T00:00:00.000000000', '2021-07-23T00:00:00.000000000',\n",
       "       '2021-08-02T00:00:00.000000000', '2021-02-22T00:00:00.000000000',\n",
       "       '2021-05-16T00:00:00.000000000', '2021-05-26T00:00:00.000000000',\n",
       "       '2021-06-04T00:00:00.000000000', '2021-06-24T00:00:00.000000000',\n",
       "       '2021-09-15T00:00:00.000000000', '2021-03-12T00:00:00.000000000',\n",
       "       '2021-06-05T00:00:00.000000000', '2021-06-14T00:00:00.000000000',\n",
       "       '2021-07-20T00:00:00.000000000', '2021-10-14T00:00:00.000000000',\n",
       "       '2021-09-28T00:00:00.000000000', '2021-11-19T00:00:00.000000000',\n",
       "       '2021-12-21T00:00:00.000000000', '2021-06-09T00:00:00.000000000',\n",
       "       '2021-11-04T00:00:00.000000000', '2021-07-22T00:00:00.000000000',\n",
       "       '2021-02-09T00:00:00.000000000', '2021-04-23T00:00:00.000000000',\n",
       "       '2021-08-13T00:00:00.000000000', '2021-08-21T00:00:00.000000000',\n",
       "       '2021-12-02T00:00:00.000000000', '2021-07-21T00:00:00.000000000',\n",
       "       '2021-10-25T00:00:00.000000000', '2021-12-05T00:00:00.000000000',\n",
       "       '2021-01-03T00:00:00.000000000', '2021-02-01T00:00:00.000000000',\n",
       "       '2021-02-07T00:00:00.000000000', '2021-07-08T00:00:00.000000000',\n",
       "       '2021-01-09T00:00:00.000000000', '2021-01-11T00:00:00.000000000',\n",
       "       '2021-06-26T00:00:00.000000000', '2021-10-28T00:00:00.000000000',\n",
       "       '2021-01-15T00:00:00.000000000', '2021-07-29T00:00:00.000000000',\n",
       "       '2021-09-02T00:00:00.000000000', '2021-09-24T00:00:00.000000000',\n",
       "       '2021-02-17T00:00:00.000000000', '2021-02-14T00:00:00.000000000',\n",
       "       '2021-04-29T00:00:00.000000000', '2021-06-07T00:00:00.000000000',\n",
       "       '2021-11-27T00:00:00.000000000', '2021-10-15T00:00:00.000000000',\n",
       "       '2021-02-08T00:00:00.000000000', '2021-03-26T00:00:00.000000000',\n",
       "       '2021-09-05T00:00:00.000000000', '2021-06-12T00:00:00.000000000',\n",
       "       '2021-08-23T00:00:00.000000000', '2021-09-10T00:00:00.000000000',\n",
       "       '2021-03-20T00:00:00.000000000', '2021-06-17T00:00:00.000000000',\n",
       "       '2021-03-21T00:00:00.000000000', '2021-05-12T00:00:00.000000000',\n",
       "       '2021-12-10T00:00:00.000000000', '2021-03-11T00:00:00.000000000',\n",
       "       '2021-12-01T00:00:00.000000000', '2021-01-29T00:00:00.000000000',\n",
       "       '2021-05-09T00:00:00.000000000', '2021-02-02T00:00:00.000000000',\n",
       "       '2021-04-30T00:00:00.000000000', '2021-05-29T00:00:00.000000000',\n",
       "       '2021-05-02T00:00:00.000000000', '2021-01-05T00:00:00.000000000',\n",
       "       '2021-05-15T00:00:00.000000000', '2021-09-22T00:00:00.000000000',\n",
       "       '2021-07-26T00:00:00.000000000', '2021-08-25T00:00:00.000000000',\n",
       "       '2021-10-03T00:00:00.000000000', '2021-01-07T00:00:00.000000000',\n",
       "       '2021-06-01T00:00:00.000000000', '2021-08-09T00:00:00.000000000',\n",
       "       '2021-09-13T00:00:00.000000000', '2021-12-17T00:00:00.000000000',\n",
       "       '2021-02-28T00:00:00.000000000', '2021-10-05T00:00:00.000000000',\n",
       "       '2021-03-10T00:00:00.000000000', '2021-03-17T00:00:00.000000000',\n",
       "       '2021-04-01T00:00:00.000000000', '2021-03-16T00:00:00.000000000',\n",
       "       '2021-04-26T00:00:00.000000000', '2021-12-15T00:00:00.000000000',\n",
       "       '2021-01-19T00:00:00.000000000', '2021-09-30T00:00:00.000000000',\n",
       "       '2021-10-12T00:00:00.000000000', '2021-11-07T00:00:00.000000000',\n",
       "       '2021-12-12T00:00:00.000000000', '2021-07-09T00:00:00.000000000',\n",
       "       '2021-07-30T00:00:00.000000000', '2021-08-01T00:00:00.000000000',\n",
       "       '2021-09-09T00:00:00.000000000', '2021-09-12T00:00:00.000000000',\n",
       "       '2021-10-06T00:00:00.000000000', '2021-12-04T00:00:00.000000000',\n",
       "       '2021-06-29T00:00:00.000000000', '2021-11-01T00:00:00.000000000',\n",
       "       '2021-04-15T00:00:00.000000000', '2021-05-24T00:00:00.000000000',\n",
       "       '2021-01-23T00:00:00.000000000', '2021-02-15T00:00:00.000000000',\n",
       "       '2021-12-28T00:00:00.000000000', '2021-01-08T00:00:00.000000000',\n",
       "       '2021-06-18T00:00:00.000000000', '2021-03-30T00:00:00.000000000',\n",
       "       '2021-04-06T00:00:00.000000000', '2021-04-19T00:00:00.000000000',\n",
       "       '2021-10-23T00:00:00.000000000', '2021-01-30T00:00:00.000000000',\n",
       "       '2021-07-05T00:00:00.000000000', '2021-06-13T00:00:00.000000000',\n",
       "       '2021-05-27T00:00:00.000000000', '2021-09-16T00:00:00.000000000',\n",
       "       '2021-03-31T00:00:00.000000000', '2021-11-23T00:00:00.000000000',\n",
       "       '2021-04-07T00:00:00.000000000', '2021-10-17T00:00:00.000000000',\n",
       "       '2021-05-05T00:00:00.000000000', '2021-12-20T00:00:00.000000000',\n",
       "       '2021-11-03T00:00:00.000000000', '2021-03-05T00:00:00.000000000',\n",
       "       '2021-01-06T00:00:00.000000000', '2021-09-06T00:00:00.000000000',\n",
       "       '2021-11-30T00:00:00.000000000', '2021-09-03T00:00:00.000000000',\n",
       "       '2021-01-16T00:00:00.000000000', '2021-09-29T00:00:00.000000000',\n",
       "       '2021-02-05T00:00:00.000000000', '2021-06-03T00:00:00.000000000',\n",
       "       '2021-10-13T00:00:00.000000000', '2021-07-01T00:00:00.000000000',\n",
       "       '2021-11-16T00:00:00.000000000', '2021-11-28T00:00:00.000000000',\n",
       "       '2021-10-10T00:00:00.000000000', '2021-11-02T00:00:00.000000000',\n",
       "       '2021-10-29T00:00:00.000000000', '2021-11-26T00:00:00.000000000',\n",
       "       '2021-04-18T00:00:00.000000000', '2021-07-03T00:00:00.000000000',\n",
       "       '2021-05-31T00:00:00.000000000', '2021-12-16T00:00:00.000000000',\n",
       "       '2021-01-21T00:00:00.000000000', '2021-02-06T00:00:00.000000000'],\n",
       "      dtype='datetime64[ns]')"
      ]
     },
     "execution_count": 12,
     "metadata": {},
     "output_type": "execute_result"
    }
   ],
   "source": [
    "#Просмотрим все уникальные значения встолбце с датой\n",
    "df_rides['date'].unique()"
   ]
  },
  {
   "cell_type": "markdown",
   "metadata": {},
   "source": [
    "Комментарии : Мы поменяли в таблице df_rides в строке date  тип данных datetime6. А также создали столбец  month_date с номером месяца. А также убедились что данные представлены за 2021 года "
   ]
  },
  {
   "cell_type": "code",
   "execution_count": 13,
   "metadata": {},
   "outputs": [
    {
     "data": {
      "text/plain": [
       "user_id       0\n",
       "distance      0\n",
       "duration      0\n",
       "date          0\n",
       "month_date    0\n",
       "dtype: int64"
      ]
     },
     "execution_count": 13,
     "metadata": {},
     "output_type": "execute_result"
    }
   ],
   "source": [
    "#Проверим наличие пропуской в датасете\n",
    "df_rides.isna().sum()"
   ]
  },
  {
   "cell_type": "code",
   "execution_count": 14,
   "metadata": {},
   "outputs": [
    {
     "data": {
      "text/plain": [
       "user_id              0\n",
       "name                 0\n",
       "age                  0\n",
       "city                 0\n",
       "subscription_type    0\n",
       "dtype: int64"
      ]
     },
     "execution_count": 14,
     "metadata": {},
     "output_type": "execute_result"
    }
   ],
   "source": [
    "#Проверим наличие пропуской в датасете\n",
    "df_users.isna().sum()"
   ]
  },
  {
   "cell_type": "code",
   "execution_count": 15,
   "metadata": {},
   "outputs": [
    {
     "data": {
      "text/plain": [
       "subscription_type    0\n",
       "minute_price         0\n",
       "start_ride_price     0\n",
       "subscription_fee     0\n",
       "dtype: int64"
      ]
     },
     "execution_count": 15,
     "metadata": {},
     "output_type": "execute_result"
    }
   ],
   "source": [
    "#Проверим наличие пропуской в датасете\n",
    "df_subscription.isna().sum()"
   ]
  },
  {
   "cell_type": "markdown",
   "metadata": {},
   "source": [
    "Коментарии  : Пропущенных значений типа Nan мы не обнаружили а значит можем приступать к исследовательскому анализу данных"
   ]
  },
  {
   "cell_type": "code",
   "execution_count": 16,
   "metadata": {},
   "outputs": [
    {
     "data": {
      "text/plain": [
       "0"
      ]
     },
     "execution_count": 16,
     "metadata": {},
     "output_type": "execute_result"
    }
   ],
   "source": [
    "#Проверим на наличие дублированныз записей в датасете\n",
    "df_rides.duplicated().sum()"
   ]
  },
  {
   "cell_type": "code",
   "execution_count": 17,
   "metadata": {},
   "outputs": [
    {
     "data": {
      "text/plain": [
       "31"
      ]
     },
     "execution_count": 17,
     "metadata": {},
     "output_type": "execute_result"
    }
   ],
   "source": [
    "#Проверим на наличие дублированных записей в датасете\n",
    "df_users.duplicated().sum()"
   ]
  },
  {
   "cell_type": "code",
   "execution_count": 63,
   "metadata": {},
   "outputs": [
    {
     "data": {
      "text/plain": [
       "0"
      ]
     },
     "execution_count": 63,
     "metadata": {},
     "output_type": "execute_result"
    }
   ],
   "source": [
    "#Проверим на наличие дублированныз записей в датасете\n",
    "df_subscription.duplicated().sum()"
   ]
  },
  {
   "cell_type": "code",
   "execution_count": 18,
   "metadata": {},
   "outputs": [],
   "source": [
    "#Удаялем дублированные записи в датасете\n",
    "df_users = df_users.drop_duplicates()"
   ]
  },
  {
   "cell_type": "code",
   "execution_count": 19,
   "metadata": {},
   "outputs": [
    {
     "data": {
      "text/plain": [
       "0"
      ]
     },
     "execution_count": 19,
     "metadata": {},
     "output_type": "execute_result"
    }
   ],
   "source": [
    "#Убедились в отсутствии дублированных записей\n",
    "df_users.duplicated().sum()"
   ]
  },
  {
   "cell_type": "markdown",
   "metadata": {},
   "source": [
    "Комментарии: В ходе проверки на дубликаты значений в строках были обнаружены дубликаты \n",
    "в столбце df_users. Они были удалены. В целом можно сказать о хорошем качестве данных. Пропущенны хначений не оказалось . Также были удалены дубликаты."
   ]
  },
  {
   "cell_type": "markdown",
   "metadata": {},
   "source": [
    "#### Шаг 3. Исследовательский анализ данных"
   ]
  },
  {
   "cell_type": "code",
   "execution_count": 20,
   "metadata": {},
   "outputs": [
    {
     "data": {
      "text/plain": [
       "Text(0.5, 1.0, 'Количество пользователей в каждом городе')"
      ]
     },
     "execution_count": 20,
     "metadata": {},
     "output_type": "execute_result"
    },
    {
     "data": {
      "image/png": "[encoded data removed]",
      "text/plain": [
       "<Figure size 432x288 with 1 Axes>"
      ]
     },
     "metadata": {
      "needs_background": "light"
     },
     "output_type": "display_data"
    }
   ],
   "source": [
    "# Построение столбчатой диаграммы по количеству пользователей в каждом городе\n",
    "df_users['city'].value_counts(ascending=False).plot.bar(x='city', y='counts', legend='False')\n",
    "plt.xlabel('Город')\n",
    "plt.ylabel('Количество')\n",
    "plt.title('Количество пользователей в каждом городе')"
   ]
  },
  {
   "cell_type": "markdown",
   "metadata": {},
   "source": [
    "Комментарий : Как видно из гистограммы частот построенной по столбцу city (города) в таблице user лидер по кличеству это город Пятигорск(упоминается чуть больше 200 раз)\n",
    "    Самое малое количество это город Москва примерно до 160 раз"
   ]
  },
  {
   "cell_type": "code",
   "execution_count": 21,
   "metadata": {},
   "outputs": [
    {
     "data": {
      "text/plain": [
       "Text(0.5, 1.0, 'Распределение возрастов среди пользователей')"
      ]
     },
     "execution_count": 21,
     "metadata": {},
     "output_type": "execute_result"
    },
    {
     "data": {
      "image/png": "[encoded data removed]",
      "text/plain": [
       "<Figure size 432x288 with 1 Axes>"
      ]
     },
     "metadata": {
      "needs_background": "light"
     },
     "output_type": "display_data"
    }
   ],
   "source": [
    "# Построение гистограммы распределения возврастов среди пользователей\n",
    "df_users.hist(bins=30, column='age')\n",
    "plt.xlabel('Возраст')\n",
    "plt.ylabel('Количество')\n",
    "plt.title('Распределение возрастов среди пользователей')"
   ]
  },
  {
   "cell_type": "code",
   "execution_count": 22,
   "metadata": {},
   "outputs": [
    {
     "data": {
      "text/plain": [
       "count    1534.000000\n",
       "mean       24.903520\n",
       "std         4.572367\n",
       "min        12.000000\n",
       "25%        22.000000\n",
       "50%        25.000000\n",
       "75%        28.000000\n",
       "max        43.000000\n",
       "Name: age, dtype: float64"
      ]
     },
     "execution_count": 22,
     "metadata": {},
     "output_type": "execute_result"
    }
   ],
   "source": [
    "# Просмотр основных статистик по столбцу возраста\n",
    "df_users['age'].describe()"
   ]
  },
  {
   "cell_type": "markdown",
   "metadata": {},
   "source": [
    "Комментарии : В таблице df_users нас интересует для анализа разброса данных именно столбец age(возраст). Мы видим что форма гистограммы имеет \n",
    "нормальное распределение со средним значением 25. Это ожидаемый результат так как большинство ездят на самокат именно молодые люди . График после 30 лет ожидаемо убывает "
   ]
  },
  {
   "cell_type": "code",
   "execution_count": 23,
   "metadata": {},
   "outputs": [
    {
     "data": {
      "text/plain": [
       "Text(0.5, 1.0, 'Распределение время сессий аренды самокатов среди пользователей')"
      ]
     },
     "execution_count": 23,
     "metadata": {},
     "output_type": "execute_result"
    },
    {
     "data": {
      "image/png": "[encoded data removed]",
      "text/plain": [
       "<Figure size 432x288 with 1 Axes>"
      ]
     },
     "metadata": {
      "needs_background": "light"
     },
     "output_type": "display_data"
    }
   ],
   "source": [
    "# Построение гистограммы распределения времени сессий аренды самокатов среди пользователей\n",
    "df_rides.hist(column='duration')\n",
    "plt.xlabel('Время поездки')\n",
    "plt.ylabel('Количество')\n",
    "plt.title('Распределение время сессий аренды самокатов среди пользователей')"
   ]
  },
  {
   "cell_type": "code",
   "execution_count": 24,
   "metadata": {},
   "outputs": [
    {
     "data": {
      "text/plain": [
       "count    18068.000000\n",
       "mean        17.805011\n",
       "std          6.091051\n",
       "min          0.500000\n",
       "25%         13.597563\n",
       "50%         17.678395\n",
       "75%         21.724800\n",
       "max         40.823963\n",
       "Name: duration, dtype: float64"
      ]
     },
     "execution_count": 24,
     "metadata": {},
     "output_type": "execute_result"
    }
   ],
   "source": [
    "# Просмотр основных статистик по столбцу времени поездки\n",
    "df_rides['duration'].describe()"
   ]
  },
  {
   "cell_type": "markdown",
   "metadata": {},
   "source": [
    "Комментарии  : Как видно из гистограммы частот значения в столбце duration таблицы  df_rides имеют нормальное распределение без выбросов.Среднее и медиана одинковы. В среднем поездка занимает 17 минут "
   ]
  },
  {
   "cell_type": "code",
   "execution_count": 25,
   "metadata": {},
   "outputs": [
    {
     "data": {
      "text/plain": [
       "Text(0.5, 1.0, 'Распределение пройденного расстояния среди пользователей')"
      ]
     },
     "execution_count": 25,
     "metadata": {},
     "output_type": "execute_result"
    },
    {
     "data": {
      "image/png": "[encoded data removed]",
      "text/plain": [
       "<Figure size 432x288 with 1 Axes>"
      ]
     },
     "metadata": {
      "needs_background": "light"
     },
     "output_type": "display_data"
    }
   ],
   "source": [
    "# Построение гистограммы распределения пройденного расстояния  среди пользователей\n",
    "df_rides.hist(bins=100, column='distance')\n",
    "plt.xlabel('Дистанция')\n",
    "plt.ylabel('Количество')\n",
    "plt.title('Распределение пройденного расстояния среди пользователей')"
   ]
  },
  {
   "cell_type": "markdown",
   "metadata": {},
   "source": [
    "Комментарий  : Как видно из гистограммы частот в  среднем одна поездка занимает от 3000 до 3500 метров . Пиковое значение будет в районе 3100 метров. Данные распределены относительно нормально за исключением несколько хвостов с правой стороны ."
   ]
  },
  {
   "cell_type": "code",
   "execution_count": 26,
   "metadata": {},
   "outputs": [
    {
     "data": {
      "image/png": "[encoded data removed]",
      "text/plain": [
       "<Figure size 432x288 with 1 Axes>"
      ]
     },
     "metadata": {},
     "output_type": "display_data"
    }
   ],
   "source": [
    "# Построение круговой диаграммы по доле подписки \n",
    "df_users['subscription_type'].value_counts().plot(kind='pie', autopct='%.1f%%')\n",
    "plt.ylabel(\"\")\n",
    "plt.show()"
   ]
  },
  {
   "cell_type": "markdown",
   "metadata": {},
   "source": [
    "Комментарий  : Пользователей с бесплатной подпиской выше чем с платной 54% против 46%. \n",
    "    Но разница не такая существенная что бы делать однозначные выводы о интересе пользовтелей к какому то конкретному типу подписки  "
   ]
  },
  {
   "cell_type": "code",
   "execution_count": 27,
   "metadata": {},
   "outputs": [
    {
     "data": {
      "text/html": [
       "<div>\n",
       "<style scoped>\n",
       "    .dataframe tbody tr th:only-of-type {\n",
       "        vertical-align: middle;\n",
       "    }\n",
       "\n",
       "    .dataframe tbody tr th {\n",
       "        vertical-align: top;\n",
       "    }\n",
       "\n",
       "    .dataframe thead th {\n",
       "        text-align: right;\n",
       "    }\n",
       "</style>\n",
       "<table border=\"1\" class=\"dataframe\">\n",
       "  <thead>\n",
       "    <tr style=\"text-align: right;\">\n",
       "      <th></th>\n",
       "      <th>user_id</th>\n",
       "      <th>distance</th>\n",
       "      <th>duration</th>\n",
       "      <th>date</th>\n",
       "      <th>month_date</th>\n",
       "    </tr>\n",
       "  </thead>\n",
       "  <tbody>\n",
       "    <tr>\n",
       "      <th>0</th>\n",
       "      <td>1</td>\n",
       "      <td>4409.919140</td>\n",
       "      <td>25.599769</td>\n",
       "      <td>2021-01-01</td>\n",
       "      <td>1</td>\n",
       "    </tr>\n",
       "    <tr>\n",
       "      <th>1</th>\n",
       "      <td>1</td>\n",
       "      <td>2617.592153</td>\n",
       "      <td>15.816871</td>\n",
       "      <td>2021-01-18</td>\n",
       "      <td>1</td>\n",
       "    </tr>\n",
       "    <tr>\n",
       "      <th>2</th>\n",
       "      <td>1</td>\n",
       "      <td>754.159807</td>\n",
       "      <td>6.232113</td>\n",
       "      <td>2021-04-20</td>\n",
       "      <td>4</td>\n",
       "    </tr>\n",
       "    <tr>\n",
       "      <th>3</th>\n",
       "      <td>1</td>\n",
       "      <td>2694.783254</td>\n",
       "      <td>18.511000</td>\n",
       "      <td>2021-08-11</td>\n",
       "      <td>8</td>\n",
       "    </tr>\n",
       "    <tr>\n",
       "      <th>4</th>\n",
       "      <td>1</td>\n",
       "      <td>4028.687306</td>\n",
       "      <td>26.265803</td>\n",
       "      <td>2021-08-28</td>\n",
       "      <td>8</td>\n",
       "    </tr>\n",
       "  </tbody>\n",
       "</table>\n",
       "</div>"
      ],
      "text/plain": [
       "   user_id     distance   duration       date  month_date\n",
       "0        1  4409.919140  25.599769 2021-01-01           1\n",
       "1        1  2617.592153  15.816871 2021-01-18           1\n",
       "2        1   754.159807   6.232113 2021-04-20           4\n",
       "3        1  2694.783254  18.511000 2021-08-11           8\n",
       "4        1  4028.687306  26.265803 2021-08-28           8"
      ]
     },
     "execution_count": 27,
     "metadata": {},
     "output_type": "execute_result"
    }
   ],
   "source": [
    "df_rides.head()"
   ]
  },
  {
   "cell_type": "markdown",
   "metadata": {},
   "source": [
    "#### Шаг 4. Объединение данных"
   ]
  },
  {
   "cell_type": "code",
   "execution_count": 28,
   "metadata": {},
   "outputs": [],
   "source": [
    "# Объедение датасетов \n",
    "df = df_users.merge(df_rides, on='user_id')\n",
    "df_all = df.merge(df_subscription, on='subscription_type')"
   ]
  },
  {
   "cell_type": "code",
   "execution_count": 29,
   "metadata": {},
   "outputs": [
    {
     "data": {
      "text/plain": [
       "(18068, 5)"
      ]
     },
     "execution_count": 29,
     "metadata": {},
     "output_type": "execute_result"
    }
   ],
   "source": [
    "df_rides.shape"
   ]
  },
  {
   "cell_type": "code",
   "execution_count": 30,
   "metadata": {},
   "outputs": [
    {
     "data": {
      "text/plain": [
       "(1534, 5)"
      ]
     },
     "execution_count": 30,
     "metadata": {},
     "output_type": "execute_result"
    }
   ],
   "source": [
    "df_users.shape"
   ]
  },
  {
   "cell_type": "code",
   "execution_count": 31,
   "metadata": {},
   "outputs": [
    {
     "data": {
      "text/plain": [
       "(2, 4)"
      ]
     },
     "execution_count": 31,
     "metadata": {},
     "output_type": "execute_result"
    }
   ],
   "source": [
    "df_subscription.shape"
   ]
  },
  {
   "cell_type": "code",
   "execution_count": 32,
   "metadata": {},
   "outputs": [
    {
     "data": {
      "text/plain": [
       "(18068, 12)"
      ]
     },
     "execution_count": 32,
     "metadata": {},
     "output_type": "execute_result"
    }
   ],
   "source": [
    "df_all.shape"
   ]
  },
  {
   "cell_type": "code",
   "execution_count": 33,
   "metadata": {},
   "outputs": [
    {
     "data": {
      "text/html": [
       "<div>\n",
       "<style scoped>\n",
       "    .dataframe tbody tr th:only-of-type {\n",
       "        vertical-align: middle;\n",
       "    }\n",
       "\n",
       "    .dataframe tbody tr th {\n",
       "        vertical-align: top;\n",
       "    }\n",
       "\n",
       "    .dataframe thead th {\n",
       "        text-align: right;\n",
       "    }\n",
       "</style>\n",
       "<table border=\"1\" class=\"dataframe\">\n",
       "  <thead>\n",
       "    <tr style=\"text-align: right;\">\n",
       "      <th></th>\n",
       "      <th>user_id</th>\n",
       "      <th>name</th>\n",
       "      <th>age</th>\n",
       "      <th>city</th>\n",
       "      <th>subscription_type</th>\n",
       "      <th>distance</th>\n",
       "      <th>duration</th>\n",
       "      <th>date</th>\n",
       "      <th>month_date</th>\n",
       "      <th>minute_price</th>\n",
       "      <th>start_ride_price</th>\n",
       "      <th>subscription_fee</th>\n",
       "    </tr>\n",
       "  </thead>\n",
       "  <tbody>\n",
       "    <tr>\n",
       "      <th>0</th>\n",
       "      <td>1</td>\n",
       "      <td>Кира</td>\n",
       "      <td>22</td>\n",
       "      <td>Тюмень</td>\n",
       "      <td>ultra</td>\n",
       "      <td>4409.919140</td>\n",
       "      <td>25.599769</td>\n",
       "      <td>2021-01-01</td>\n",
       "      <td>1</td>\n",
       "      <td>6</td>\n",
       "      <td>0</td>\n",
       "      <td>199</td>\n",
       "    </tr>\n",
       "    <tr>\n",
       "      <th>1</th>\n",
       "      <td>1</td>\n",
       "      <td>Кира</td>\n",
       "      <td>22</td>\n",
       "      <td>Тюмень</td>\n",
       "      <td>ultra</td>\n",
       "      <td>2617.592153</td>\n",
       "      <td>15.816871</td>\n",
       "      <td>2021-01-18</td>\n",
       "      <td>1</td>\n",
       "      <td>6</td>\n",
       "      <td>0</td>\n",
       "      <td>199</td>\n",
       "    </tr>\n",
       "    <tr>\n",
       "      <th>2</th>\n",
       "      <td>1</td>\n",
       "      <td>Кира</td>\n",
       "      <td>22</td>\n",
       "      <td>Тюмень</td>\n",
       "      <td>ultra</td>\n",
       "      <td>754.159807</td>\n",
       "      <td>6.232113</td>\n",
       "      <td>2021-04-20</td>\n",
       "      <td>4</td>\n",
       "      <td>6</td>\n",
       "      <td>0</td>\n",
       "      <td>199</td>\n",
       "    </tr>\n",
       "    <tr>\n",
       "      <th>3</th>\n",
       "      <td>1</td>\n",
       "      <td>Кира</td>\n",
       "      <td>22</td>\n",
       "      <td>Тюмень</td>\n",
       "      <td>ultra</td>\n",
       "      <td>2694.783254</td>\n",
       "      <td>18.511000</td>\n",
       "      <td>2021-08-11</td>\n",
       "      <td>8</td>\n",
       "      <td>6</td>\n",
       "      <td>0</td>\n",
       "      <td>199</td>\n",
       "    </tr>\n",
       "    <tr>\n",
       "      <th>4</th>\n",
       "      <td>1</td>\n",
       "      <td>Кира</td>\n",
       "      <td>22</td>\n",
       "      <td>Тюмень</td>\n",
       "      <td>ultra</td>\n",
       "      <td>4028.687306</td>\n",
       "      <td>26.265803</td>\n",
       "      <td>2021-08-28</td>\n",
       "      <td>8</td>\n",
       "      <td>6</td>\n",
       "      <td>0</td>\n",
       "      <td>199</td>\n",
       "    </tr>\n",
       "  </tbody>\n",
       "</table>\n",
       "</div>"
      ],
      "text/plain": [
       "   user_id  name  age    city subscription_type     distance   duration  \\\n",
       "0        1  Кира   22  Тюмень             ultra  4409.919140  25.599769   \n",
       "1        1  Кира   22  Тюмень             ultra  2617.592153  15.816871   \n",
       "2        1  Кира   22  Тюмень             ultra   754.159807   6.232113   \n",
       "3        1  Кира   22  Тюмень             ultra  2694.783254  18.511000   \n",
       "4        1  Кира   22  Тюмень             ultra  4028.687306  26.265803   \n",
       "\n",
       "        date  month_date  minute_price  start_ride_price  subscription_fee  \n",
       "0 2021-01-01           1             6                 0               199  \n",
       "1 2021-01-18           1             6                 0               199  \n",
       "2 2021-04-20           4             6                 0               199  \n",
       "3 2021-08-11           8             6                 0               199  \n",
       "4 2021-08-28           8             6                 0               199  "
      ]
     },
     "execution_count": 33,
     "metadata": {},
     "output_type": "execute_result"
    }
   ],
   "source": [
    "# Вывод на экран после объеденения\n",
    "df_all.head()"
   ]
  },
  {
   "cell_type": "markdown",
   "metadata": {},
   "source": [
    "Комментарий  : Соеденили все 3 таблицы. Количество строк соответствует количеству поездок 18068. Количество столбцов равно 12 что тоже совпадает с суммой стобцов 3 таблиц за минусом 2 по которому шло соеденение "
   ]
  },
  {
   "cell_type": "code",
   "execution_count": 34,
   "metadata": {},
   "outputs": [],
   "source": [
    "# Создаем два фрейма  в  дном пользователи с платной подпиской в другом с бесплатной \n",
    "df_ultra = df_all.query('subscription_type == \"ultra\"')\n",
    "df_free = df_all.query('subscription_type == \"free\"')"
   ]
  },
  {
   "cell_type": "code",
   "execution_count": 35,
   "metadata": {},
   "outputs": [
    {
     "data": {
      "text/html": [
       "<div>\n",
       "<style scoped>\n",
       "    .dataframe tbody tr th:only-of-type {\n",
       "        vertical-align: middle;\n",
       "    }\n",
       "\n",
       "    .dataframe tbody tr th {\n",
       "        vertical-align: top;\n",
       "    }\n",
       "\n",
       "    .dataframe thead th {\n",
       "        text-align: right;\n",
       "    }\n",
       "</style>\n",
       "<table border=\"1\" class=\"dataframe\">\n",
       "  <thead>\n",
       "    <tr style=\"text-align: right;\">\n",
       "      <th></th>\n",
       "      <th>user_id</th>\n",
       "      <th>name</th>\n",
       "      <th>age</th>\n",
       "      <th>city</th>\n",
       "      <th>subscription_type</th>\n",
       "      <th>distance</th>\n",
       "      <th>duration</th>\n",
       "      <th>date</th>\n",
       "      <th>month_date</th>\n",
       "      <th>minute_price</th>\n",
       "      <th>start_ride_price</th>\n",
       "      <th>subscription_fee</th>\n",
       "    </tr>\n",
       "  </thead>\n",
       "  <tbody>\n",
       "    <tr>\n",
       "      <th>6500</th>\n",
       "      <td>700</td>\n",
       "      <td>Айдар</td>\n",
       "      <td>22</td>\n",
       "      <td>Омск</td>\n",
       "      <td>free</td>\n",
       "      <td>2515.690719</td>\n",
       "      <td>14.944286</td>\n",
       "      <td>2021-01-02</td>\n",
       "      <td>1</td>\n",
       "      <td>8</td>\n",
       "      <td>50</td>\n",
       "      <td>0</td>\n",
       "    </tr>\n",
       "    <tr>\n",
       "      <th>6501</th>\n",
       "      <td>700</td>\n",
       "      <td>Айдар</td>\n",
       "      <td>22</td>\n",
       "      <td>Омск</td>\n",
       "      <td>free</td>\n",
       "      <td>846.932642</td>\n",
       "      <td>16.234663</td>\n",
       "      <td>2021-02-01</td>\n",
       "      <td>2</td>\n",
       "      <td>8</td>\n",
       "      <td>50</td>\n",
       "      <td>0</td>\n",
       "    </tr>\n",
       "    <tr>\n",
       "      <th>6502</th>\n",
       "      <td>700</td>\n",
       "      <td>Айдар</td>\n",
       "      <td>22</td>\n",
       "      <td>Омск</td>\n",
       "      <td>free</td>\n",
       "      <td>4004.434142</td>\n",
       "      <td>20.016628</td>\n",
       "      <td>2021-02-04</td>\n",
       "      <td>2</td>\n",
       "      <td>8</td>\n",
       "      <td>50</td>\n",
       "      <td>0</td>\n",
       "    </tr>\n",
       "    <tr>\n",
       "      <th>6503</th>\n",
       "      <td>700</td>\n",
       "      <td>Айдар</td>\n",
       "      <td>22</td>\n",
       "      <td>Омск</td>\n",
       "      <td>free</td>\n",
       "      <td>1205.911290</td>\n",
       "      <td>9.782872</td>\n",
       "      <td>2021-02-10</td>\n",
       "      <td>2</td>\n",
       "      <td>8</td>\n",
       "      <td>50</td>\n",
       "      <td>0</td>\n",
       "    </tr>\n",
       "    <tr>\n",
       "      <th>6504</th>\n",
       "      <td>700</td>\n",
       "      <td>Айдар</td>\n",
       "      <td>22</td>\n",
       "      <td>Омск</td>\n",
       "      <td>free</td>\n",
       "      <td>3047.379435</td>\n",
       "      <td>17.427673</td>\n",
       "      <td>2021-02-14</td>\n",
       "      <td>2</td>\n",
       "      <td>8</td>\n",
       "      <td>50</td>\n",
       "      <td>0</td>\n",
       "    </tr>\n",
       "  </tbody>\n",
       "</table>\n",
       "</div>"
      ],
      "text/plain": [
       "      user_id   name  age  city subscription_type     distance   duration  \\\n",
       "6500      700  Айдар   22  Омск              free  2515.690719  14.944286   \n",
       "6501      700  Айдар   22  Омск              free   846.932642  16.234663   \n",
       "6502      700  Айдар   22  Омск              free  4004.434142  20.016628   \n",
       "6503      700  Айдар   22  Омск              free  1205.911290   9.782872   \n",
       "6504      700  Айдар   22  Омск              free  3047.379435  17.427673   \n",
       "\n",
       "           date  month_date  minute_price  start_ride_price  subscription_fee  \n",
       "6500 2021-01-02           1             8                50                 0  \n",
       "6501 2021-02-01           2             8                50                 0  \n",
       "6502 2021-02-04           2             8                50                 0  \n",
       "6503 2021-02-10           2             8                50                 0  \n",
       "6504 2021-02-14           2             8                50                 0  "
      ]
     },
     "execution_count": 35,
     "metadata": {},
     "output_type": "execute_result"
    }
   ],
   "source": [
    "# Вывод на экран пользователей с бесплатной подпиской\n",
    "df_free.head()"
   ]
  },
  {
   "cell_type": "code",
   "execution_count": 36,
   "metadata": {},
   "outputs": [
    {
     "data": {
      "text/html": [
       "<div>\n",
       "<style scoped>\n",
       "    .dataframe tbody tr th:only-of-type {\n",
       "        vertical-align: middle;\n",
       "    }\n",
       "\n",
       "    .dataframe tbody tr th {\n",
       "        vertical-align: top;\n",
       "    }\n",
       "\n",
       "    .dataframe thead th {\n",
       "        text-align: right;\n",
       "    }\n",
       "</style>\n",
       "<table border=\"1\" class=\"dataframe\">\n",
       "  <thead>\n",
       "    <tr style=\"text-align: right;\">\n",
       "      <th></th>\n",
       "      <th>user_id</th>\n",
       "      <th>name</th>\n",
       "      <th>age</th>\n",
       "      <th>city</th>\n",
       "      <th>subscription_type</th>\n",
       "      <th>distance</th>\n",
       "      <th>duration</th>\n",
       "      <th>date</th>\n",
       "      <th>month_date</th>\n",
       "      <th>minute_price</th>\n",
       "      <th>start_ride_price</th>\n",
       "      <th>subscription_fee</th>\n",
       "    </tr>\n",
       "  </thead>\n",
       "  <tbody>\n",
       "    <tr>\n",
       "      <th>0</th>\n",
       "      <td>1</td>\n",
       "      <td>Кира</td>\n",
       "      <td>22</td>\n",
       "      <td>Тюмень</td>\n",
       "      <td>ultra</td>\n",
       "      <td>4409.919140</td>\n",
       "      <td>25.599769</td>\n",
       "      <td>2021-01-01</td>\n",
       "      <td>1</td>\n",
       "      <td>6</td>\n",
       "      <td>0</td>\n",
       "      <td>199</td>\n",
       "    </tr>\n",
       "    <tr>\n",
       "      <th>1</th>\n",
       "      <td>1</td>\n",
       "      <td>Кира</td>\n",
       "      <td>22</td>\n",
       "      <td>Тюмень</td>\n",
       "      <td>ultra</td>\n",
       "      <td>2617.592153</td>\n",
       "      <td>15.816871</td>\n",
       "      <td>2021-01-18</td>\n",
       "      <td>1</td>\n",
       "      <td>6</td>\n",
       "      <td>0</td>\n",
       "      <td>199</td>\n",
       "    </tr>\n",
       "    <tr>\n",
       "      <th>2</th>\n",
       "      <td>1</td>\n",
       "      <td>Кира</td>\n",
       "      <td>22</td>\n",
       "      <td>Тюмень</td>\n",
       "      <td>ultra</td>\n",
       "      <td>754.159807</td>\n",
       "      <td>6.232113</td>\n",
       "      <td>2021-04-20</td>\n",
       "      <td>4</td>\n",
       "      <td>6</td>\n",
       "      <td>0</td>\n",
       "      <td>199</td>\n",
       "    </tr>\n",
       "    <tr>\n",
       "      <th>3</th>\n",
       "      <td>1</td>\n",
       "      <td>Кира</td>\n",
       "      <td>22</td>\n",
       "      <td>Тюмень</td>\n",
       "      <td>ultra</td>\n",
       "      <td>2694.783254</td>\n",
       "      <td>18.511000</td>\n",
       "      <td>2021-08-11</td>\n",
       "      <td>8</td>\n",
       "      <td>6</td>\n",
       "      <td>0</td>\n",
       "      <td>199</td>\n",
       "    </tr>\n",
       "    <tr>\n",
       "      <th>4</th>\n",
       "      <td>1</td>\n",
       "      <td>Кира</td>\n",
       "      <td>22</td>\n",
       "      <td>Тюмень</td>\n",
       "      <td>ultra</td>\n",
       "      <td>4028.687306</td>\n",
       "      <td>26.265803</td>\n",
       "      <td>2021-08-28</td>\n",
       "      <td>8</td>\n",
       "      <td>6</td>\n",
       "      <td>0</td>\n",
       "      <td>199</td>\n",
       "    </tr>\n",
       "  </tbody>\n",
       "</table>\n",
       "</div>"
      ],
      "text/plain": [
       "   user_id  name  age    city subscription_type     distance   duration  \\\n",
       "0        1  Кира   22  Тюмень             ultra  4409.919140  25.599769   \n",
       "1        1  Кира   22  Тюмень             ultra  2617.592153  15.816871   \n",
       "2        1  Кира   22  Тюмень             ultra   754.159807   6.232113   \n",
       "3        1  Кира   22  Тюмень             ultra  2694.783254  18.511000   \n",
       "4        1  Кира   22  Тюмень             ultra  4028.687306  26.265803   \n",
       "\n",
       "        date  month_date  minute_price  start_ride_price  subscription_fee  \n",
       "0 2021-01-01           1             6                 0               199  \n",
       "1 2021-01-18           1             6                 0               199  \n",
       "2 2021-04-20           4             6                 0               199  \n",
       "3 2021-08-11           8             6                 0               199  \n",
       "4 2021-08-28           8             6                 0               199  "
      ]
     },
     "execution_count": 36,
     "metadata": {},
     "output_type": "execute_result"
    }
   ],
   "source": [
    "# Вывод на экран пользователей с платной подпиской\n",
    "df_ultra.head()"
   ]
  },
  {
   "cell_type": "markdown",
   "metadata": {},
   "source": [
    "Комментарий  : Создали 2 отдельных датафрейма с платной подпиской у пользователей  df_ultra и \n",
    "    беслпатной df_free"
   ]
  },
  {
   "cell_type": "code",
   "execution_count": 37,
   "metadata": {},
   "outputs": [
    {
     "data": {
      "image/png": "[encoded data removed]",
      "text/plain": [
       "<Figure size 432x288 with 1 Axes>"
      ]
     },
     "metadata": {
      "needs_background": "light"
     },
     "output_type": "display_data"
    },
    {
     "data": {
      "text/plain": [
       "Text(0.5, 1.0, 'Пройденное расстояние пользователей без платной подписки')"
      ]
     },
     "execution_count": 37,
     "metadata": {},
     "output_type": "execute_result"
    },
    {
     "data": {
      "image/png": "[encoded data removed]",
      "text/plain": [
       "<Figure size 432x288 with 1 Axes>"
      ]
     },
     "metadata": {
      "needs_background": "light"
     },
     "output_type": "display_data"
    }
   ],
   "source": [
    "# Построение гистограммы распределения пользователей с платной подпиской пройденного расстояния\n",
    "df_ultra.hist(bins=20, column='distance')\n",
    "plt.xlabel('Дистанция')\n",
    "plt.ylabel('Количество')\n",
    "plt.title('Пройденное расстояние пользователей с платной подпиской')\n",
    "plt.show()\n",
    "# Построение гистограммы распределения пользователей с бесплатной подпиской пройденного расстояния\n",
    "df_free.hist(bins=20, column='distance')\n",
    "plt.xlabel('Дистанция')\n",
    "plt.ylabel('Количество')\n",
    "plt.title('Пройденное расстояние пользователей без платной подписки')"
   ]
  },
  {
   "cell_type": "markdown",
   "metadata": {},
   "source": [
    "Комментарий  : Я поменял названия гистограмм что бы было понятнее что отображает каждая . А чем отличаются я указал в выводе ниже"
   ]
  },
  {
   "cell_type": "code",
   "execution_count": 38,
   "metadata": {},
   "outputs": [
    {
     "data": {
      "text/plain": [
       "count    6500.000000\n",
       "mean     3115.445388\n",
       "std       836.895330\n",
       "min       244.210438\n",
       "25%      2785.444017\n",
       "50%      3148.637229\n",
       "75%      3560.574425\n",
       "max      5699.769662\n",
       "Name: distance, dtype: float64"
      ]
     },
     "execution_count": 38,
     "metadata": {},
     "output_type": "execute_result"
    }
   ],
   "source": [
    "# Просмотр статистик пользователей с платной подпиской по пройденному расстоянию\n",
    "df_ultra['distance'].describe()"
   ]
  },
  {
   "cell_type": "code",
   "execution_count": 39,
   "metadata": {},
   "outputs": [
    {
     "data": {
      "text/plain": [
       "count    11568.000000\n",
       "mean      3045.495282\n",
       "std       1246.173806\n",
       "min          0.855683\n",
       "25%       2366.562689\n",
       "50%       3114.648465\n",
       "75%       3905.697894\n",
       "max       7211.007745\n",
       "Name: distance, dtype: float64"
      ]
     },
     "execution_count": 39,
     "metadata": {},
     "output_type": "execute_result"
    }
   ],
   "source": [
    "# Просмотр статистик пользователей с бесплатной подпиской по пройденному расстоянию\n",
    "df_free['distance'].describe()"
   ]
  },
  {
   "cell_type": "markdown",
   "metadata": {},
   "source": [
    "Комментарии  :  Как мы видим из гистограмм частот по продолжительности дистанции поездок  у пользователей с платной подпиской \n",
    "пиковое значение равно 3000 (до 1250 поездок) метров и дальше идет спад.На отметке ближе 4000 метров идёт быстрый спад за одну поездку(Количество поездок снижается с 1000 до 500).\n",
    "При рассмотрении гистограмм частот пользователей с бесплатной подпиской мы видим что количество поездок начинает возрастать примерно  на отметке 2300 (1200 поездок). Пиковое значение равно 2 500 около (1400 поездок).\n",
    "Дальше идет плавный спад до 4000 метров (до 1000 поездок). Если рассматривать  среднее пользователей с платной подпиской (3115) и бесплатной подпиской (3045). Мы видим что в значениях средних нет большой разницы но гистограмма часто показала нам как распределын данные. В таблице с пользователями бесплатной подпиской они распределены нормально, но имеют в тоже время хвосты оттого и стандартное отклонение у него большое (1246). Гистограмма частот с платной подписке тоже ближе к нормальному , но у него нет такого сильного разброса как у пользователей с бесплатной подпиской оттого и отклоение от среднего невысокое (836)  "
   ]
  },
  {
   "cell_type": "code",
   "execution_count": 40,
   "metadata": {},
   "outputs": [
    {
     "data": {
      "image/png": "[encoded data removed]",
      "text/plain": [
       "<Figure size 432x288 with 1 Axes>"
      ]
     },
     "metadata": {
      "needs_background": "light"
     },
     "output_type": "display_data"
    },
    {
     "data": {
      "text/plain": [
       "Text(0.5, 1.0, 'Время поездки пользователей с бесплатной подпиской')"
      ]
     },
     "execution_count": 40,
     "metadata": {},
     "output_type": "execute_result"
    },
    {
     "data": {
      "image/png": "[encoded data removed]",
      "text/plain": [
       "<Figure size 432x288 with 1 Axes>"
      ]
     },
     "metadata": {
      "needs_background": "light"
     },
     "output_type": "display_data"
    }
   ],
   "source": [
    "# Построение гистограммы распределения пользователей с платной подпиской времени поездки\n",
    "df_ultra.hist(bins=20, column='duration')\n",
    "plt.xlabel('Время поездки')\n",
    "plt.ylabel('Количество')\n",
    "plt.title('Время поездки пользователей с платной подпиской')\n",
    "plt.show()\n",
    "# Построение гистограммы распределения пользователей с бесплатной подпиской времени поездки\n",
    "df_free.hist(bins=20, column='duration')\n",
    "plt.xlabel('Время поездки')\n",
    "plt.ylabel('Количество')\n",
    "plt.title('Время поездки пользователей с бесплатной подпиской')"
   ]
  },
  {
   "cell_type": "code",
   "execution_count": 41,
   "metadata": {
    "scrolled": true
   },
   "outputs": [
    {
     "data": {
      "text/plain": [
       "count    6500.000000\n",
       "mean       18.541985\n",
       "std         5.572048\n",
       "min         3.760353\n",
       "25%        14.524654\n",
       "50%        18.178153\n",
       "75%        21.884129\n",
       "max        40.823963\n",
       "Name: duration, dtype: float64"
      ]
     },
     "execution_count": 41,
     "metadata": {},
     "output_type": "execute_result"
    }
   ],
   "source": [
    "# Просмотр статистик пользователей с платной подпиской по времени поездки\n",
    "df_ultra['duration'].describe()"
   ]
  },
  {
   "cell_type": "code",
   "execution_count": 42,
   "metadata": {},
   "outputs": [
    {
     "data": {
      "text/plain": [
       "count    11568.000000\n",
       "mean        17.390909\n",
       "std          6.326803\n",
       "min          0.500000\n",
       "25%         12.958437\n",
       "50%         17.326890\n",
       "75%         21.594071\n",
       "max         34.948498\n",
       "Name: duration, dtype: float64"
      ]
     },
     "execution_count": 42,
     "metadata": {},
     "output_type": "execute_result"
    }
   ],
   "source": [
    "# Просмотр статистик пользователей с бесплатной подпиской по времени поездки\n",
    "df_free['duration'].describe()"
   ]
  },
  {
   "cell_type": "markdown",
   "metadata": {},
   "source": [
    "Комментарий  : Как видно из гистограмм частот большинство пользователей с платной подпиской продолжительность поездки занимает то 15 до 20 минут (до 850 поездок)\n",
    "    пиковое значение находится на отметке примерно 17 минут. У пользователей с бесплатной подпиской тоже большинство значений лежат в пределахот 15 до 20 минут (до 1200 поездок).\n",
    "    Среднее количество минут с платной подпиской составляет 18 минут  у пользователей с бесплатной подпиской 17 минут что говорит о том чтов  среднем пользователи с платной подпиской и без нее продолжительность поездки одинаковая.\n",
    "    Также этому подтверждение дает медиана данных значений . С платной подпиской она равна 18 с беслпатной подпиской 17."
   ]
  },
  {
   "cell_type": "markdown",
   "metadata": {},
   "source": [
    "#### Шаг 5. Подсчёт выручки"
   ]
  },
  {
   "cell_type": "code",
   "execution_count": 43,
   "metadata": {},
   "outputs": [],
   "source": [
    "# Проведем округление значений в столбце duration\n",
    "df_all['duration'] = np.ceil(df_all['duration'])"
   ]
  },
  {
   "cell_type": "code",
   "execution_count": 44,
   "metadata": {},
   "outputs": [],
   "source": [
    "# Создадим сводную таблицу объединенную по месяцам и дням. \n",
    "# Для каждого пользователя и месяца указаны сумма расстояния, количество имен и продолжительность\n",
    "df_total = df_all.pivot_table(index=['user_id', 'month_date'], values = ['distance', 'name', \n",
    "'duration'], aggfunc={'distance': ['sum','first'], 'name': ['count','first'],'duration': ['sum','first']}).reset_index()"
   ]
  },
  {
   "cell_type": "code",
   "execution_count": 45,
   "metadata": {},
   "outputs": [],
   "source": [
    "df_total.columns = df_total.columns.map(''.join)"
   ]
  },
  {
   "cell_type": "code",
   "execution_count": 46,
   "metadata": {},
   "outputs": [
    {
     "data": {
      "text/html": [
       "<div>\n",
       "<style scoped>\n",
       "    .dataframe tbody tr th:only-of-type {\n",
       "        vertical-align: middle;\n",
       "    }\n",
       "\n",
       "    .dataframe tbody tr th {\n",
       "        vertical-align: top;\n",
       "    }\n",
       "\n",
       "    .dataframe thead th {\n",
       "        text-align: right;\n",
       "    }\n",
       "</style>\n",
       "<table border=\"1\" class=\"dataframe\">\n",
       "  <thead>\n",
       "    <tr style=\"text-align: right;\">\n",
       "      <th></th>\n",
       "      <th>user_id</th>\n",
       "      <th>month_date</th>\n",
       "      <th>distancefirst</th>\n",
       "      <th>distancesum</th>\n",
       "      <th>durationfirst</th>\n",
       "      <th>durationsum</th>\n",
       "      <th>namecount</th>\n",
       "      <th>namefirst</th>\n",
       "    </tr>\n",
       "  </thead>\n",
       "  <tbody>\n",
       "    <tr>\n",
       "      <th>0</th>\n",
       "      <td>1</td>\n",
       "      <td>1</td>\n",
       "      <td>4409.919140</td>\n",
       "      <td>7027.511294</td>\n",
       "      <td>26.0</td>\n",
       "      <td>42.0</td>\n",
       "      <td>2</td>\n",
       "      <td>Кира</td>\n",
       "    </tr>\n",
       "    <tr>\n",
       "      <th>1</th>\n",
       "      <td>1</td>\n",
       "      <td>4</td>\n",
       "      <td>754.159807</td>\n",
       "      <td>754.159807</td>\n",
       "      <td>7.0</td>\n",
       "      <td>7.0</td>\n",
       "      <td>1</td>\n",
       "      <td>Кира</td>\n",
       "    </tr>\n",
       "    <tr>\n",
       "      <th>2</th>\n",
       "      <td>1</td>\n",
       "      <td>8</td>\n",
       "      <td>2694.783254</td>\n",
       "      <td>6723.470560</td>\n",
       "      <td>19.0</td>\n",
       "      <td>46.0</td>\n",
       "      <td>2</td>\n",
       "      <td>Кира</td>\n",
       "    </tr>\n",
       "    <tr>\n",
       "      <th>3</th>\n",
       "      <td>1</td>\n",
       "      <td>10</td>\n",
       "      <td>2770.890808</td>\n",
       "      <td>5809.911100</td>\n",
       "      <td>17.0</td>\n",
       "      <td>32.0</td>\n",
       "      <td>2</td>\n",
       "      <td>Кира</td>\n",
       "    </tr>\n",
       "    <tr>\n",
       "      <th>4</th>\n",
       "      <td>1</td>\n",
       "      <td>11</td>\n",
       "      <td>2842.118050</td>\n",
       "      <td>7003.499363</td>\n",
       "      <td>24.0</td>\n",
       "      <td>56.0</td>\n",
       "      <td>3</td>\n",
       "      <td>Кира</td>\n",
       "    </tr>\n",
       "  </tbody>\n",
       "</table>\n",
       "</div>"
      ],
      "text/plain": [
       "   user_id  month_date  distancefirst  distancesum  durationfirst  \\\n",
       "0        1           1    4409.919140  7027.511294           26.0   \n",
       "1        1           4     754.159807   754.159807            7.0   \n",
       "2        1           8    2694.783254  6723.470560           19.0   \n",
       "3        1          10    2770.890808  5809.911100           17.0   \n",
       "4        1          11    2842.118050  7003.499363           24.0   \n",
       "\n",
       "   durationsum  namecount namefirst  \n",
       "0         42.0          2      Кира  \n",
       "1          7.0          1      Кира  \n",
       "2         46.0          2      Кира  \n",
       "3         32.0          2      Кира  \n",
       "4         56.0          3      Кира  "
      ]
     },
     "execution_count": 46,
     "metadata": {},
     "output_type": "execute_result"
    }
   ],
   "source": [
    "# Выодим 5 значений сводной таблицы\n",
    "df_total.head()"
   ]
  },
  {
   "cell_type": "code",
   "execution_count": 47,
   "metadata": {},
   "outputs": [],
   "source": [
    "# Создадим новый датафрейм в котором оставим только нужные таблицы для нашего анализа\n",
    "revenue = df_all[['user_id','subscription_fee','start_ride_price', 'minute_price', \n",
    "'subscription_type']]"
   ]
  },
  {
   "cell_type": "code",
   "execution_count": 48,
   "metadata": {},
   "outputs": [],
   "source": [
    "# Объединим два фрейма к созданному ранее revenue таблицу с df_total\n",
    "income_revenue = df_total.merge(revenue, on ='user_id', how = 'left')"
   ]
  },
  {
   "cell_type": "code",
   "execution_count": 49,
   "metadata": {},
   "outputs": [
    {
     "data": {
      "text/html": [
       "<div>\n",
       "<style scoped>\n",
       "    .dataframe tbody tr th:only-of-type {\n",
       "        vertical-align: middle;\n",
       "    }\n",
       "\n",
       "    .dataframe tbody tr th {\n",
       "        vertical-align: top;\n",
       "    }\n",
       "\n",
       "    .dataframe thead th {\n",
       "        text-align: right;\n",
       "    }\n",
       "</style>\n",
       "<table border=\"1\" class=\"dataframe\">\n",
       "  <thead>\n",
       "    <tr style=\"text-align: right;\">\n",
       "      <th></th>\n",
       "      <th>user_id</th>\n",
       "      <th>month_date</th>\n",
       "      <th>distancefirst</th>\n",
       "      <th>distancesum</th>\n",
       "      <th>durationfirst</th>\n",
       "      <th>durationsum</th>\n",
       "      <th>namecount</th>\n",
       "      <th>namefirst</th>\n",
       "      <th>subscription_fee</th>\n",
       "      <th>start_ride_price</th>\n",
       "      <th>minute_price</th>\n",
       "      <th>subscription_type</th>\n",
       "    </tr>\n",
       "  </thead>\n",
       "  <tbody>\n",
       "    <tr>\n",
       "      <th>0</th>\n",
       "      <td>1</td>\n",
       "      <td>1</td>\n",
       "      <td>4409.91914</td>\n",
       "      <td>7027.511294</td>\n",
       "      <td>26.0</td>\n",
       "      <td>42.0</td>\n",
       "      <td>2</td>\n",
       "      <td>Кира</td>\n",
       "      <td>199</td>\n",
       "      <td>0</td>\n",
       "      <td>6</td>\n",
       "      <td>ultra</td>\n",
       "    </tr>\n",
       "    <tr>\n",
       "      <th>1</th>\n",
       "      <td>1</td>\n",
       "      <td>1</td>\n",
       "      <td>4409.91914</td>\n",
       "      <td>7027.511294</td>\n",
       "      <td>26.0</td>\n",
       "      <td>42.0</td>\n",
       "      <td>2</td>\n",
       "      <td>Кира</td>\n",
       "      <td>199</td>\n",
       "      <td>0</td>\n",
       "      <td>6</td>\n",
       "      <td>ultra</td>\n",
       "    </tr>\n",
       "    <tr>\n",
       "      <th>2</th>\n",
       "      <td>1</td>\n",
       "      <td>1</td>\n",
       "      <td>4409.91914</td>\n",
       "      <td>7027.511294</td>\n",
       "      <td>26.0</td>\n",
       "      <td>42.0</td>\n",
       "      <td>2</td>\n",
       "      <td>Кира</td>\n",
       "      <td>199</td>\n",
       "      <td>0</td>\n",
       "      <td>6</td>\n",
       "      <td>ultra</td>\n",
       "    </tr>\n",
       "    <tr>\n",
       "      <th>3</th>\n",
       "      <td>1</td>\n",
       "      <td>1</td>\n",
       "      <td>4409.91914</td>\n",
       "      <td>7027.511294</td>\n",
       "      <td>26.0</td>\n",
       "      <td>42.0</td>\n",
       "      <td>2</td>\n",
       "      <td>Кира</td>\n",
       "      <td>199</td>\n",
       "      <td>0</td>\n",
       "      <td>6</td>\n",
       "      <td>ultra</td>\n",
       "    </tr>\n",
       "    <tr>\n",
       "      <th>4</th>\n",
       "      <td>1</td>\n",
       "      <td>1</td>\n",
       "      <td>4409.91914</td>\n",
       "      <td>7027.511294</td>\n",
       "      <td>26.0</td>\n",
       "      <td>42.0</td>\n",
       "      <td>2</td>\n",
       "      <td>Кира</td>\n",
       "      <td>199</td>\n",
       "      <td>0</td>\n",
       "      <td>6</td>\n",
       "      <td>ultra</td>\n",
       "    </tr>\n",
       "  </tbody>\n",
       "</table>\n",
       "</div>"
      ],
      "text/plain": [
       "   user_id  month_date  distancefirst  distancesum  durationfirst  \\\n",
       "0        1           1     4409.91914  7027.511294           26.0   \n",
       "1        1           1     4409.91914  7027.511294           26.0   \n",
       "2        1           1     4409.91914  7027.511294           26.0   \n",
       "3        1           1     4409.91914  7027.511294           26.0   \n",
       "4        1           1     4409.91914  7027.511294           26.0   \n",
       "\n",
       "   durationsum  namecount namefirst  subscription_fee  start_ride_price  \\\n",
       "0         42.0          2      Кира               199                 0   \n",
       "1         42.0          2      Кира               199                 0   \n",
       "2         42.0          2      Кира               199                 0   \n",
       "3         42.0          2      Кира               199                 0   \n",
       "4         42.0          2      Кира               199                 0   \n",
       "\n",
       "   minute_price subscription_type  \n",
       "0             6             ultra  \n",
       "1             6             ultra  \n",
       "2             6             ultra  \n",
       "3             6             ultra  \n",
       "4             6             ultra  "
      ]
     },
     "execution_count": 49,
     "metadata": {},
     "output_type": "execute_result"
    }
   ],
   "source": [
    "# Выведем 5 первых значений фрейма\n",
    "income_revenue.head()"
   ]
  },
  {
   "cell_type": "code",
   "execution_count": 50,
   "metadata": {},
   "outputs": [
    {
     "data": {
      "text/plain": [
       "143511"
      ]
     },
     "execution_count": 50,
     "metadata": {},
     "output_type": "execute_result"
    }
   ],
   "source": [
    "# Проверим количество строк в нашем  созданном фрейме\n",
    "income_revenue.shape[0]"
   ]
  },
  {
   "cell_type": "code",
   "execution_count": 51,
   "metadata": {},
   "outputs": [],
   "source": [
    "# Удалим дубликаты\n",
    "income_revenue = income_revenue.drop_duplicates()"
   ]
  },
  {
   "cell_type": "code",
   "execution_count": 52,
   "metadata": {},
   "outputs": [
    {
     "data": {
      "text/plain": [
       "11331"
      ]
     },
     "execution_count": 52,
     "metadata": {},
     "output_type": "execute_result"
    }
   ],
   "source": [
    "# Проверим количество строк после удаление дубликатов \n",
    "income_revenue.shape[0]"
   ]
  },
  {
   "cell_type": "code",
   "execution_count": 53,
   "metadata": {},
   "outputs": [],
   "source": [
    "# Создаем переменную в которой рассчитаем месячную выручку\n",
    "monthly_revenue = (income_revenue['start_ride_price'] * income_revenue['namecount']) + (income_revenue['minute_price'] * income_revenue['durationsum']) + income_revenue['subscription_fee']\n"
   ]
  },
  {
   "cell_type": "code",
   "execution_count": 54,
   "metadata": {},
   "outputs": [],
   "source": [
    "# Добавим в наш фрейм столбец в которой будет отражена помесячная выручка пользователя\n",
    "income_revenue['monthly_revenue'] = monthly_revenue"
   ]
  },
  {
   "cell_type": "code",
   "execution_count": 55,
   "metadata": {},
   "outputs": [
    {
     "data": {
      "text/html": [
       "<div>\n",
       "<style scoped>\n",
       "    .dataframe tbody tr th:only-of-type {\n",
       "        vertical-align: middle;\n",
       "    }\n",
       "\n",
       "    .dataframe tbody tr th {\n",
       "        vertical-align: top;\n",
       "    }\n",
       "\n",
       "    .dataframe thead th {\n",
       "        text-align: right;\n",
       "    }\n",
       "</style>\n",
       "<table border=\"1\" class=\"dataframe\">\n",
       "  <thead>\n",
       "    <tr style=\"text-align: right;\">\n",
       "      <th></th>\n",
       "      <th>user_id</th>\n",
       "      <th>month_date</th>\n",
       "      <th>distancefirst</th>\n",
       "      <th>distancesum</th>\n",
       "      <th>durationfirst</th>\n",
       "      <th>durationsum</th>\n",
       "      <th>namecount</th>\n",
       "      <th>namefirst</th>\n",
       "      <th>subscription_fee</th>\n",
       "      <th>start_ride_price</th>\n",
       "      <th>minute_price</th>\n",
       "      <th>subscription_type</th>\n",
       "      <th>monthly_revenue</th>\n",
       "    </tr>\n",
       "  </thead>\n",
       "  <tbody>\n",
       "    <tr>\n",
       "      <th>0</th>\n",
       "      <td>1</td>\n",
       "      <td>1</td>\n",
       "      <td>4409.919140</td>\n",
       "      <td>7027.511294</td>\n",
       "      <td>26.0</td>\n",
       "      <td>42.0</td>\n",
       "      <td>2</td>\n",
       "      <td>Кира</td>\n",
       "      <td>199</td>\n",
       "      <td>0</td>\n",
       "      <td>6</td>\n",
       "      <td>ultra</td>\n",
       "      <td>451.0</td>\n",
       "    </tr>\n",
       "    <tr>\n",
       "      <th>12</th>\n",
       "      <td>1</td>\n",
       "      <td>4</td>\n",
       "      <td>754.159807</td>\n",
       "      <td>754.159807</td>\n",
       "      <td>7.0</td>\n",
       "      <td>7.0</td>\n",
       "      <td>1</td>\n",
       "      <td>Кира</td>\n",
       "      <td>199</td>\n",
       "      <td>0</td>\n",
       "      <td>6</td>\n",
       "      <td>ultra</td>\n",
       "      <td>241.0</td>\n",
       "    </tr>\n",
       "    <tr>\n",
       "      <th>24</th>\n",
       "      <td>1</td>\n",
       "      <td>8</td>\n",
       "      <td>2694.783254</td>\n",
       "      <td>6723.470560</td>\n",
       "      <td>19.0</td>\n",
       "      <td>46.0</td>\n",
       "      <td>2</td>\n",
       "      <td>Кира</td>\n",
       "      <td>199</td>\n",
       "      <td>0</td>\n",
       "      <td>6</td>\n",
       "      <td>ultra</td>\n",
       "      <td>475.0</td>\n",
       "    </tr>\n",
       "    <tr>\n",
       "      <th>36</th>\n",
       "      <td>1</td>\n",
       "      <td>10</td>\n",
       "      <td>2770.890808</td>\n",
       "      <td>5809.911100</td>\n",
       "      <td>17.0</td>\n",
       "      <td>32.0</td>\n",
       "      <td>2</td>\n",
       "      <td>Кира</td>\n",
       "      <td>199</td>\n",
       "      <td>0</td>\n",
       "      <td>6</td>\n",
       "      <td>ultra</td>\n",
       "      <td>391.0</td>\n",
       "    </tr>\n",
       "    <tr>\n",
       "      <th>48</th>\n",
       "      <td>1</td>\n",
       "      <td>11</td>\n",
       "      <td>2842.118050</td>\n",
       "      <td>7003.499363</td>\n",
       "      <td>24.0</td>\n",
       "      <td>56.0</td>\n",
       "      <td>3</td>\n",
       "      <td>Кира</td>\n",
       "      <td>199</td>\n",
       "      <td>0</td>\n",
       "      <td>6</td>\n",
       "      <td>ultra</td>\n",
       "      <td>535.0</td>\n",
       "    </tr>\n",
       "  </tbody>\n",
       "</table>\n",
       "</div>"
      ],
      "text/plain": [
       "    user_id  month_date  distancefirst  distancesum  durationfirst  \\\n",
       "0         1           1    4409.919140  7027.511294           26.0   \n",
       "12        1           4     754.159807   754.159807            7.0   \n",
       "24        1           8    2694.783254  6723.470560           19.0   \n",
       "36        1          10    2770.890808  5809.911100           17.0   \n",
       "48        1          11    2842.118050  7003.499363           24.0   \n",
       "\n",
       "    durationsum  namecount namefirst  subscription_fee  start_ride_price  \\\n",
       "0          42.0          2      Кира               199                 0   \n",
       "12          7.0          1      Кира               199                 0   \n",
       "24         46.0          2      Кира               199                 0   \n",
       "36         32.0          2      Кира               199                 0   \n",
       "48         56.0          3      Кира               199                 0   \n",
       "\n",
       "    minute_price subscription_type  monthly_revenue  \n",
       "0              6             ultra            451.0  \n",
       "12             6             ultra            241.0  \n",
       "24             6             ultra            475.0  \n",
       "36             6             ultra            391.0  \n",
       "48             6             ultra            535.0  "
      ]
     },
     "execution_count": 55,
     "metadata": {},
     "output_type": "execute_result"
    }
   ],
   "source": [
    "# Выводим на эквран первые 5 записей нашего фрейма после добавления нового столбца \n",
    "income_revenue.head()"
   ]
  },
  {
   "cell_type": "code",
   "execution_count": 56,
   "metadata": {},
   "outputs": [
    {
     "data": {
      "text/plain": [
       "subscription_type\n",
       "free     328.641365\n",
       "ultra    362.792191\n",
       "Name: monthly_revenue, dtype: float64"
      ]
     },
     "execution_count": 56,
     "metadata": {},
     "output_type": "execute_result"
    }
   ],
   "source": [
    "#  Рассчитаем среднюю месячную выручку по группам с платной и бесплатной подпиской\n",
    "income_revenue.groupby('subscription_type')['monthly_revenue'].mean()"
   ]
  },
  {
   "cell_type": "markdown",
   "metadata": {},
   "source": [
    "Комментарий  : Как видно из подсчетов выручки пользователи которые покупают платную подписку выручку в среднем 362 рублей в то время как пользователи без подписки 328 рубль "
   ]
  },
  {
   "cell_type": "markdown",
   "metadata": {},
   "source": [
    "#### Шаг 6. Проверка гипотез"
   ]
  },
  {
   "cell_type": "markdown",
   "metadata": {},
   "source": [
    "6.1 Для начала требуетя сформулировать нулевую и альтернативную гипотезу.\n",
    "Нулевая гипотеза - Среднее время поездки у пользователей с подпиской равна среднему времени поездки пользователей без подписки \n",
    "Альтернативная гипотеза - Среднее время поездки у пользователей с подпиской больше чем  среднее время поездки у пользователей без подписки"
   ]
  },
  {
   "cell_type": "code",
   "execution_count": 57,
   "metadata": {},
   "outputs": [
    {
     "name": "stdout",
     "output_type": "stream",
     "text": [
      "p-значение: 2.5608196633291235e-34\n",
      "Отвергаем нулевую гипотезу\n"
     ]
    }
   ],
   "source": [
    "#  Проверка гипотезы\n",
    "alpha = 0.05\n",
    "\n",
    "results = st.ttest_ind(df_ultra['duration'], df_free['duration'])\n",
    "print('p-значение:', results.pvalue)\n",
    "if results.pvalue < alpha:\n",
    "    print('Отвергаем нулевую гипотезу')\n",
    "else:\n",
    "    print('Не получилось отвергнуть нулевую гипотезу')\n"
   ]
  },
  {
   "cell_type": "code",
   "execution_count": 58,
   "metadata": {},
   "outputs": [
    {
     "name": "stdout",
     "output_type": "stream",
     "text": [
      "\n",
      "Среднее время аренды у пользователей с подпиской: 18.54 минут, а у пользователей без подписки 17.39 минут\n",
      "\n",
      "В среднем пользователи с подпиской арендуют самокат на 1.15 минут больше, чем пользователи без подписки\n"
     ]
    }
   ],
   "source": [
    "#  Проверка гипотезы\n",
    "print()    \n",
    "print('Среднее время аренды у пользователей с подпиской:',\n",
    "      round(df_ultra['duration'].mean(), 2), 'минут, а у пользователей без подписки',\n",
    "      round(df_free['duration'].mean(), 2), 'минут')\n",
    "print()\n",
    "print('В среднем пользователи с подпиской арендуют самокат на',\n",
    "      round(round(df_ultra['duration'].mean(), 2) - round(df_free['duration'].mean(), 2), 2),\n",
    "      'минут больше, чем пользователи без подписки')"
   ]
  },
  {
   "cell_type": "markdown",
   "metadata": {},
   "source": [
    "Комментарий: Нулевая гипотеза была отвергнута . Принята альтернативная гипотеза о том что пользователи с платной подпиской в среднем время поездки больше чем у пользователей с бесплатной подпиской "
   ]
  },
  {
   "cell_type": "markdown",
   "metadata": {},
   "source": [
    "6.2 Сформулируем нулевую и альтернативную гипотезу. \n",
    "Нулевая гипотеза - Пользователи с подпиской в среднем проезжают расстояние не более 3130 метров\n",
    "Альтернативная гипотеза - Пользователи с подпиской в среднем проезжают расстояние  более 3130 метров"
   ]
  },
  {
   "cell_type": "code",
   "execution_count": 59,
   "metadata": {},
   "outputs": [
    {
     "name": "stdout",
     "output_type": "stream",
     "text": [
      "p-значение: 0.16092623043004292\n",
      "Не отвергаем нулевую гипотезу\n"
     ]
    }
   ],
   "source": [
    "#  Проверка гипотезы\n",
    "distance = 3130\n",
    "\n",
    "alpha = 0.05\n",
    "\n",
    "results = st.ttest_1samp(\n",
    "    df_ultra['distance'],\n",
    "    distance\n",
    "    )\n",
    "\n",
    "print('p-значение:', results.pvalue)\n",
    "\n",
    "if (results.pvalue < alpha):\n",
    "    print('Отвергаем нулевую гипотезу')\n",
    "else:\n",
    "    print('Не отвергаем нулевую гипотезу')\n",
    "\n"
   ]
  },
  {
   "cell_type": "markdown",
   "metadata": {},
   "source": [
    "Комментарий : Нулевая гипотеза не была отвергнута что дает нам уверенности предполагать в том что в среднем пользователи с подпиской не проезжаюьт более 3 130 метров"
   ]
  },
  {
   "cell_type": "markdown",
   "metadata": {},
   "source": [
    "6.3. Нулевая гипотеза: пользователи с платной подпиской приносят в среднем для компании столько же \n",
    "выручки, что и пользователи без подписки. Альтернативная гипотеза: пользователи с \n",
    "платной подпиской приносят в среднем для компании больше выручки, чем пользователи без подписки."
   ]
  },
  {
   "cell_type": "code",
   "execution_count": 60,
   "metadata": {},
   "outputs": [
    {
     "name": "stdout",
     "output_type": "stream",
     "text": [
      "p-значение: 1.774828178795375e-39\n",
      "Отвергаем нулевую гипотезу\n"
     ]
    }
   ],
   "source": [
    "#  Проверка гипотезы\n",
    "ultra = income_revenue.query('subscription_type == \"ultra\"')\n",
    "free = income_revenue.query('subscription_type == \"free\"')\n",
    "\n",
    "alpha = 0.05\n",
    "\n",
    "results = st.ttest_ind(ultra['monthly_revenue'],free['monthly_revenue'], equal_var=False)\n",
    "\n",
    "print('p-значение:', results.pvalue)\n",
    "\n",
    "if results.pvalue < alpha:\n",
    "    print('Отвергаем нулевую гипотезу')\n",
    "else:\n",
    "    print('Не получилось отвергнуть нулевую гипотезу')\n"
   ]
  },
  {
   "cell_type": "code",
   "execution_count": 61,
   "metadata": {},
   "outputs": [
    {
     "name": "stdout",
     "output_type": "stream",
     "text": [
      "В среднем в месяц  пользователи с платной подпиской приносят компании  362.79 руб , а пользователи без подписки 328.64 руб\n"
     ]
    }
   ],
   "source": [
    "print('В среднем в месяц  пользователи с платной подпиской приносят компании ',\n",
    "      round(ultra['monthly_revenue'].mean(), 2), 'руб',\n",
    "      ', а пользователи без подписки', round(free['monthly_revenue'].mean(), 2), 'руб')\n"
   ]
  },
  {
   "cell_type": "code",
   "execution_count": 62,
   "metadata": {},
   "outputs": [
    {
     "name": "stdout",
     "output_type": "stream",
     "text": [
      "<class 'pandas.core.frame.DataFrame'>\n",
      "Int64Index: 4533 entries, 0 to 45499\n",
      "Data columns (total 13 columns):\n",
      " #   Column             Non-Null Count  Dtype  \n",
      "---  ------             --------------  -----  \n",
      " 0   user_id            4533 non-null   int64  \n",
      " 1   month_date         4533 non-null   int64  \n",
      " 2   distancefirst      4533 non-null   float64\n",
      " 3   distancesum        4533 non-null   float64\n",
      " 4   durationfirst      4533 non-null   float64\n",
      " 5   durationsum        4533 non-null   float64\n",
      " 6   namecount          4533 non-null   int64  \n",
      " 7   namefirst          4533 non-null   object \n",
      " 8   subscription_fee   4533 non-null   int64  \n",
      " 9   start_ride_price   4533 non-null   int64  \n",
      " 10  minute_price       4533 non-null   int64  \n",
      " 11  subscription_type  4533 non-null   object \n",
      " 12  monthly_revenue    4533 non-null   float64\n",
      "dtypes: float64(5), int64(6), object(2)\n",
      "memory usage: 495.8+ KB\n"
     ]
    }
   ],
   "source": [
    "ultra.info()"
   ]
  },
  {
   "cell_type": "markdown",
   "metadata": {},
   "source": [
    "Комементарий  : Нулевая гипотеза была опровергнута . В среднем пользователи с подпиской приносят больше дохода нежели пользователи без подписки "
   ]
  },
  {
   "cell_type": "markdown",
   "metadata": {},
   "source": [
    "Общий вывод :\n",
    "    Мы располагаем данными за 2021 год, больще всего данных в январе, мае и июне. Явные \n",
    "дубликаты удалены, столбцы приведены к нужному для исследования типу данных, для \n",
    "будущих расчетов добавлены необходимые столбцы.\n",
    "Все данные разделены на три датафрейма: данные о пользователях, данные о поездках, \n",
    "данные о подписках. Всего у нас 1534 пользователя. Данные включают в себя 8 городов: \n",
    "Омск, Москва, Ростов-на-Дону, Сочи, Пятигорск, Тюмень, Екатеринбург, Краснодар. \n",
    "Больше всего пользователей пользуются мобильным приложением в Пятигорске - 219, \n",
    "меньше всего в Москве - 168. Из них тех, кто не пользуется подпиской больше примерно на \n",
    "8%, чем тех, кто с подпиской. Из пользователей заметен разброс по возрасту от 12 до 43 х \n",
    "лет. Больше всего пользуются самокатами в возрасте от 21 до 30 лет, с пиком в районе 25 \n",
    "лет. Наиболее частый диапозон преодоленного расстояния за одну поездку- 2500 - 3500 \n",
    "метров с пиком около 3000 метров. В среднем пользователи берут в прокат самокаты в \n",
    "интервале от 10 до 25 мин., но пользователи с подпиской делают это намного чаще. \n",
    "Пользователи, кто не пользуется подпиской, берут в основном самокаты на более \n",
    "длительное расстояние, чем те, у кого есть подписка. В среднем в месяц пользователи с \n",
    "платной подпиской приносят компании 364.0 руб , а пользователи без подписки 331.48 руб.\n",
    "Были проверены три гипотезы:\n",
    "1.Среднее время аренды самокатов у пользователей с платной подпиской равно времени \n",
    "аренды самокатов у пользователей без подписки. Гипотезу отвергаем. Среднее время \n",
    "аренды у пользователей с подпиской: 18.54 минут, а у пользователей без подписки 17.39 \n",
    "минут. В среднем пользователи с подпиской арендуют самокат на 1.15 минут больше, чем \n",
    "пользователи без подписки.\n",
    "2.Расстояние, которое проезжают пользователи с подпиской, не превышает оптимального \n",
    "расстояния в 3130 м. Гипотезу не отвергаем.В среднем платные пользователи проезжают \n",
    "3115.45 метров.\n",
    "3.Пользователи с платной подпиской приносят компании столько же выручки, что и \n",
    "пользователи без подписки. Гипотезу отвергаем. В среднем в месяц пользователи с платной \n",
    "подпиской приносят компании 364.0 руб , а пользователи без подписки 331.48 руб."
   ]
  }
 ],
 "metadata": {
  "ExecuteTimeLog": [
   {
    "duration": 377,
    "start_time": "2023-05-13T12:28:44.396Z"
   },
   {
    "duration": 101,
    "start_time": "2023-05-13T12:29:52.255Z"
   },
   {
    "duration": 16,
    "start_time": "2023-05-13T12:29:59.780Z"
   },
   {
    "duration": 543,
    "start_time": "2023-05-13T12:31:32.684Z"
   },
   {
    "duration": 8,
    "start_time": "2023-05-13T12:31:59.011Z"
   },
   {
    "duration": 10,
    "start_time": "2023-05-13T12:32:21.206Z"
   },
   {
    "duration": 17,
    "start_time": "2023-05-13T12:32:29.339Z"
   },
   {
    "duration": 11,
    "start_time": "2023-05-13T12:32:38.113Z"
   },
   {
    "duration": 9,
    "start_time": "2023-05-13T12:32:45.031Z"
   },
   {
    "duration": 15,
    "start_time": "2023-05-13T12:33:26.813Z"
   },
   {
    "duration": 17,
    "start_time": "2023-05-13T12:33:44.841Z"
   },
   {
    "duration": 12,
    "start_time": "2023-05-13T12:34:22.255Z"
   },
   {
    "duration": 713,
    "start_time": "2023-05-13T12:40:58.984Z"
   },
   {
    "duration": 341,
    "start_time": "2023-05-13T12:41:20.748Z"
   },
   {
    "duration": 554,
    "start_time": "2023-05-13T12:41:23.437Z"
   },
   {
    "duration": 348,
    "start_time": "2023-05-13T12:41:28.592Z"
   },
   {
    "duration": 306,
    "start_time": "2023-05-13T12:41:33.213Z"
   },
   {
    "duration": 8,
    "start_time": "2023-05-13T12:43:43.291Z"
   },
   {
    "duration": 82,
    "start_time": "2023-05-13T12:43:58.399Z"
   },
   {
    "duration": 6,
    "start_time": "2023-05-13T12:44:04.056Z"
   },
   {
    "duration": 11,
    "start_time": "2023-05-13T12:44:10.185Z"
   },
   {
    "duration": 9,
    "start_time": "2023-05-13T12:44:12.292Z"
   },
   {
    "duration": 4,
    "start_time": "2023-05-13T12:44:52.419Z"
   },
   {
    "duration": 10,
    "start_time": "2023-05-13T12:45:10.356Z"
   },
   {
    "duration": 16,
    "start_time": "2023-05-13T12:45:15.309Z"
   },
   {
    "duration": 167,
    "start_time": "2023-05-13T12:46:34.830Z"
   },
   {
    "duration": 10,
    "start_time": "2023-05-13T12:46:56.239Z"
   },
   {
    "duration": 2,
    "start_time": "2023-05-13T12:53:53.529Z"
   },
   {
    "duration": 303,
    "start_time": "2023-05-13T12:55:00.136Z"
   },
   {
    "duration": 12,
    "start_time": "2023-05-13T12:56:07.609Z"
   },
   {
    "duration": 10,
    "start_time": "2023-05-13T12:56:15.805Z"
   },
   {
    "duration": 9,
    "start_time": "2023-05-13T12:56:19.896Z"
   },
   {
    "duration": 9,
    "start_time": "2023-05-13T13:02:12.726Z"
   },
   {
    "duration": 6,
    "start_time": "2023-05-13T13:02:57.321Z"
   },
   {
    "duration": 7,
    "start_time": "2023-05-13T13:03:14.692Z"
   },
   {
    "duration": 109,
    "start_time": "2023-05-13T13:07:22.085Z"
   },
   {
    "duration": 13,
    "start_time": "2023-05-13T13:07:26.186Z"
   },
   {
    "duration": 7,
    "start_time": "2023-05-13T13:07:55.578Z"
   },
   {
    "duration": 8,
    "start_time": "2023-05-13T13:15:19.920Z"
   },
   {
    "duration": 7,
    "start_time": "2023-05-13T13:15:40.449Z"
   },
   {
    "duration": 9,
    "start_time": "2023-05-13T13:17:01.312Z"
   },
   {
    "duration": 19,
    "start_time": "2023-05-13T13:17:05.295Z"
   },
   {
    "duration": 8,
    "start_time": "2023-05-13T13:17:21.591Z"
   },
   {
    "duration": 8,
    "start_time": "2023-05-13T13:17:30.645Z"
   },
   {
    "duration": 9,
    "start_time": "2023-05-13T13:17:31.813Z"
   },
   {
    "duration": 784,
    "start_time": "2023-05-13T15:45:23.565Z"
   },
   {
    "duration": 215,
    "start_time": "2023-05-13T15:45:24.351Z"
   },
   {
    "duration": 13,
    "start_time": "2023-05-13T15:45:24.568Z"
   },
   {
    "duration": 21,
    "start_time": "2023-05-13T15:45:24.584Z"
   },
   {
    "duration": 12,
    "start_time": "2023-05-13T15:45:24.607Z"
   },
   {
    "duration": 9,
    "start_time": "2023-05-13T15:45:24.621Z"
   },
   {
    "duration": 28,
    "start_time": "2023-05-13T15:45:24.632Z"
   },
   {
    "duration": 20,
    "start_time": "2023-05-13T15:45:24.663Z"
   },
   {
    "duration": 18,
    "start_time": "2023-05-13T15:45:24.685Z"
   },
   {
    "duration": 11,
    "start_time": "2023-05-13T15:45:24.706Z"
   },
   {
    "duration": 18,
    "start_time": "2023-05-13T15:45:24.718Z"
   },
   {
    "duration": 19,
    "start_time": "2023-05-13T15:45:24.738Z"
   },
   {
    "duration": 10,
    "start_time": "2023-05-13T15:45:24.759Z"
   },
   {
    "duration": 9,
    "start_time": "2023-05-13T15:45:24.771Z"
   },
   {
    "duration": 10,
    "start_time": "2023-05-13T15:45:24.782Z"
   },
   {
    "duration": 7,
    "start_time": "2023-05-13T15:45:24.794Z"
   },
   {
    "duration": 10,
    "start_time": "2023-05-13T15:45:24.802Z"
   },
   {
    "duration": 10,
    "start_time": "2023-05-13T15:45:24.813Z"
   },
   {
    "duration": 189,
    "start_time": "2023-05-13T15:45:24.824Z"
   },
   {
    "duration": 10,
    "start_time": "2023-05-13T15:45:25.014Z"
   },
   {
    "duration": 296,
    "start_time": "2023-05-13T15:45:25.025Z"
   },
   {
    "duration": 10,
    "start_time": "2023-05-13T15:45:25.323Z"
   },
   {
    "duration": 26,
    "start_time": "2023-05-13T15:45:25.334Z"
   },
   {
    "duration": 74,
    "start_time": "2023-05-13T15:47:49.091Z"
   },
   {
    "duration": 7,
    "start_time": "2023-05-13T15:47:55.953Z"
   },
   {
    "duration": 197,
    "start_time": "2023-05-13T15:52:12.348Z"
   },
   {
    "duration": 127,
    "start_time": "2023-05-13T15:52:45.563Z"
   },
   {
    "duration": 148,
    "start_time": "2023-05-13T15:57:47.358Z"
   },
   {
    "duration": 4,
    "start_time": "2023-05-13T16:18:04.403Z"
   },
   {
    "duration": 14,
    "start_time": "2023-05-13T16:18:10.419Z"
   },
   {
    "duration": 3,
    "start_time": "2023-05-13T16:18:31.140Z"
   },
   {
    "duration": 12,
    "start_time": "2023-05-13T16:20:39.613Z"
   },
   {
    "duration": 15,
    "start_time": "2023-05-13T16:22:08.177Z"
   },
   {
    "duration": 4,
    "start_time": "2023-05-13T16:22:10.023Z"
   },
   {
    "duration": 4,
    "start_time": "2023-05-13T16:22:11.619Z"
   },
   {
    "duration": 7,
    "start_time": "2023-05-13T16:22:37.497Z"
   },
   {
    "duration": 5,
    "start_time": "2023-05-13T16:22:38.004Z"
   },
   {
    "duration": 4,
    "start_time": "2023-05-13T16:22:51.153Z"
   },
   {
    "duration": 10,
    "start_time": "2023-05-13T16:54:24.020Z"
   },
   {
    "duration": 929,
    "start_time": "2023-05-14T07:16:20.858Z"
   },
   {
    "duration": 346,
    "start_time": "2023-05-14T07:16:21.790Z"
   },
   {
    "duration": 13,
    "start_time": "2023-05-14T07:16:22.138Z"
   },
   {
    "duration": 13,
    "start_time": "2023-05-14T07:16:22.152Z"
   },
   {
    "duration": 10,
    "start_time": "2023-05-14T07:16:22.166Z"
   },
   {
    "duration": 10,
    "start_time": "2023-05-14T07:16:22.186Z"
   },
   {
    "duration": 12,
    "start_time": "2023-05-14T07:16:22.198Z"
   },
   {
    "duration": 9,
    "start_time": "2023-05-14T07:16:22.212Z"
   },
   {
    "duration": 13,
    "start_time": "2023-05-14T07:16:22.224Z"
   },
   {
    "duration": 11,
    "start_time": "2023-05-14T07:16:22.240Z"
   },
   {
    "duration": 41,
    "start_time": "2023-05-14T07:16:22.252Z"
   },
   {
    "duration": 7,
    "start_time": "2023-05-14T07:16:22.301Z"
   },
   {
    "duration": 7,
    "start_time": "2023-05-14T07:16:22.310Z"
   },
   {
    "duration": 7,
    "start_time": "2023-05-14T07:16:22.318Z"
   },
   {
    "duration": 14,
    "start_time": "2023-05-14T07:16:22.327Z"
   },
   {
    "duration": 7,
    "start_time": "2023-05-14T07:16:22.343Z"
   },
   {
    "duration": 4,
    "start_time": "2023-05-14T07:16:22.352Z"
   },
   {
    "duration": 28,
    "start_time": "2023-05-14T07:16:22.358Z"
   },
   {
    "duration": 175,
    "start_time": "2023-05-14T07:16:22.389Z"
   },
   {
    "duration": 210,
    "start_time": "2023-05-14T07:16:22.566Z"
   },
   {
    "duration": 18,
    "start_time": "2023-05-14T07:16:22.778Z"
   },
   {
    "duration": 168,
    "start_time": "2023-05-14T07:16:22.798Z"
   },
   {
    "duration": 23,
    "start_time": "2023-05-14T07:16:22.968Z"
   },
   {
    "duration": 10,
    "start_time": "2023-05-14T07:16:22.993Z"
   },
   {
    "duration": 10,
    "start_time": "2023-05-14T07:16:23.005Z"
   },
   {
    "duration": 9,
    "start_time": "2023-05-14T07:16:23.018Z"
   },
   {
    "duration": 11,
    "start_time": "2023-05-14T07:16:23.029Z"
   },
   {
    "duration": 14,
    "start_time": "2023-05-14T07:18:38.411Z"
   },
   {
    "duration": 16,
    "start_time": "2023-05-14T07:18:51.471Z"
   },
   {
    "duration": 133,
    "start_time": "2023-05-14T07:22:28.903Z"
   },
   {
    "duration": 34,
    "start_time": "2023-05-14T07:22:33.672Z"
   },
   {
    "duration": 20,
    "start_time": "2023-05-14T07:22:34.267Z"
   },
   {
    "duration": 403,
    "start_time": "2023-05-14T07:32:42.224Z"
   },
   {
    "duration": 97,
    "start_time": "2023-05-14T07:37:49.439Z"
   },
   {
    "duration": 25,
    "start_time": "2023-05-14T07:41:31.804Z"
   },
   {
    "duration": 18,
    "start_time": "2023-05-14T07:41:36.102Z"
   },
   {
    "duration": 40,
    "start_time": "2023-05-14T07:43:01.863Z"
   },
   {
    "duration": 23,
    "start_time": "2023-05-14T07:44:34.659Z"
   },
   {
    "duration": 21,
    "start_time": "2023-05-14T07:44:34.880Z"
   },
   {
    "duration": 54,
    "start_time": "2023-05-14T07:44:37.168Z"
   },
   {
    "duration": 11,
    "start_time": "2023-05-14T07:48:27.958Z"
   },
   {
    "duration": 14,
    "start_time": "2023-05-14T07:48:40.820Z"
   },
   {
    "duration": 13,
    "start_time": "2023-05-14T07:48:49.313Z"
   },
   {
    "duration": 19,
    "start_time": "2023-05-14T07:49:01.477Z"
   },
   {
    "duration": 11,
    "start_time": "2023-05-14T07:49:29.859Z"
   },
   {
    "duration": 18,
    "start_time": "2023-05-14T07:49:39.509Z"
   },
   {
    "duration": 14,
    "start_time": "2023-05-14T07:50:00.214Z"
   },
   {
    "duration": 31,
    "start_time": "2023-05-14T08:21:34.709Z"
   },
   {
    "duration": 413,
    "start_time": "2023-05-14T08:21:54.205Z"
   },
   {
    "duration": 20,
    "start_time": "2023-05-14T08:22:43.445Z"
   },
   {
    "duration": 23,
    "start_time": "2023-05-14T08:22:56.423Z"
   },
   {
    "duration": 13,
    "start_time": "2023-05-14T08:23:00.619Z"
   },
   {
    "duration": 27,
    "start_time": "2023-05-14T08:23:49.318Z"
   },
   {
    "duration": 445,
    "start_time": "2023-05-14T08:24:00.947Z"
   },
   {
    "duration": 455,
    "start_time": "2023-05-14T08:24:11.353Z"
   },
   {
    "duration": 427,
    "start_time": "2023-05-14T08:26:49.899Z"
   },
   {
    "duration": 479,
    "start_time": "2023-05-14T09:12:21.815Z"
   },
   {
    "duration": 11,
    "start_time": "2023-05-14T09:12:45.035Z"
   },
   {
    "duration": 12,
    "start_time": "2023-05-14T09:12:57.251Z"
   },
   {
    "duration": 8,
    "start_time": "2023-05-14T09:14:12.394Z"
   },
   {
    "duration": 30,
    "start_time": "2023-05-14T09:26:57.894Z"
   },
   {
    "duration": 22,
    "start_time": "2023-05-14T09:27:33.947Z"
   },
   {
    "duration": 19,
    "start_time": "2023-05-14T09:27:43.304Z"
   },
   {
    "duration": 9,
    "start_time": "2023-05-14T09:31:53.717Z"
   },
   {
    "duration": 5,
    "start_time": "2023-05-14T09:32:08.243Z"
   },
   {
    "duration": 13,
    "start_time": "2023-05-14T09:32:19.558Z"
   },
   {
    "duration": 31,
    "start_time": "2023-05-14T09:33:12.746Z"
   },
   {
    "duration": 12,
    "start_time": "2023-05-14T09:33:26.642Z"
   },
   {
    "duration": 709,
    "start_time": "2023-05-14T12:23:33.795Z"
   },
   {
    "duration": 216,
    "start_time": "2023-05-14T12:23:34.506Z"
   },
   {
    "duration": 11,
    "start_time": "2023-05-14T12:23:34.723Z"
   },
   {
    "duration": 17,
    "start_time": "2023-05-14T12:23:34.736Z"
   },
   {
    "duration": 11,
    "start_time": "2023-05-14T12:23:34.754Z"
   },
   {
    "duration": 7,
    "start_time": "2023-05-14T12:23:34.766Z"
   },
   {
    "duration": 11,
    "start_time": "2023-05-14T12:23:34.774Z"
   },
   {
    "duration": 15,
    "start_time": "2023-05-14T12:23:34.787Z"
   },
   {
    "duration": 17,
    "start_time": "2023-05-14T12:23:34.803Z"
   },
   {
    "duration": 10,
    "start_time": "2023-05-14T12:23:34.822Z"
   },
   {
    "duration": 6,
    "start_time": "2023-05-14T12:23:34.834Z"
   },
   {
    "duration": 12,
    "start_time": "2023-05-14T12:23:34.841Z"
   },
   {
    "duration": 9,
    "start_time": "2023-05-14T12:23:34.855Z"
   },
   {
    "duration": 8,
    "start_time": "2023-05-14T12:23:34.865Z"
   },
   {
    "duration": 15,
    "start_time": "2023-05-14T12:23:34.874Z"
   },
   {
    "duration": 4,
    "start_time": "2023-05-14T12:23:34.890Z"
   },
   {
    "duration": 7,
    "start_time": "2023-05-14T12:23:34.895Z"
   },
   {
    "duration": 7,
    "start_time": "2023-05-14T12:23:34.903Z"
   },
   {
    "duration": 127,
    "start_time": "2023-05-14T12:23:34.912Z"
   },
   {
    "duration": 136,
    "start_time": "2023-05-14T12:23:35.040Z"
   },
   {
    "duration": 7,
    "start_time": "2023-05-14T12:23:35.177Z"
   },
   {
    "duration": 122,
    "start_time": "2023-05-14T12:23:35.185Z"
   },
   {
    "duration": 7,
    "start_time": "2023-05-14T12:23:35.308Z"
   },
   {
    "duration": 257,
    "start_time": "2023-05-14T12:23:35.316Z"
   },
   {
    "duration": 70,
    "start_time": "2023-05-14T12:23:35.574Z"
   },
   {
    "duration": 7,
    "start_time": "2023-05-14T12:23:35.645Z"
   },
   {
    "duration": 15,
    "start_time": "2023-05-14T12:23:35.654Z"
   },
   {
    "duration": 9,
    "start_time": "2023-05-14T12:23:35.672Z"
   },
   {
    "duration": 30,
    "start_time": "2023-05-14T12:23:35.682Z"
   },
   {
    "duration": 19,
    "start_time": "2023-05-14T12:23:35.713Z"
   },
   {
    "duration": 12,
    "start_time": "2023-05-14T12:23:35.733Z"
   },
   {
    "duration": 260,
    "start_time": "2023-05-14T12:23:35.747Z"
   },
   {
    "duration": 6,
    "start_time": "2023-05-14T12:23:36.009Z"
   },
   {
    "duration": 8,
    "start_time": "2023-05-14T12:23:36.016Z"
   },
   {
    "duration": 245,
    "start_time": "2023-05-14T12:23:36.025Z"
   },
   {
    "duration": 6,
    "start_time": "2023-05-14T12:23:36.271Z"
   },
   {
    "duration": 11,
    "start_time": "2023-05-14T12:23:36.278Z"
   },
   {
    "duration": 25,
    "start_time": "2023-05-14T12:23:36.290Z"
   },
   {
    "duration": 6,
    "start_time": "2023-05-14T12:23:36.316Z"
   },
   {
    "duration": 6,
    "start_time": "2023-05-14T12:23:36.323Z"
   },
   {
    "duration": 26,
    "start_time": "2023-05-14T12:23:36.330Z"
   },
   {
    "duration": 8,
    "start_time": "2023-05-14T12:23:36.357Z"
   },
   {
    "duration": 46,
    "start_time": "2023-05-14T12:25:38.904Z"
   },
   {
    "duration": 3,
    "start_time": "2023-05-14T12:26:26.292Z"
   },
   {
    "duration": 19,
    "start_time": "2023-05-14T12:26:26.641Z"
   },
   {
    "duration": 10,
    "start_time": "2023-05-14T12:26:27.020Z"
   },
   {
    "duration": 41,
    "start_time": "2023-05-14T12:26:27.604Z"
   },
   {
    "duration": 45,
    "start_time": "2023-05-14T12:26:44.708Z"
   },
   {
    "duration": 6,
    "start_time": "2023-05-14T12:27:31.059Z"
   },
   {
    "duration": 3,
    "start_time": "2023-05-14T12:27:54.529Z"
   },
   {
    "duration": 9,
    "start_time": "2023-05-14T12:28:12.648Z"
   },
   {
    "duration": 13,
    "start_time": "2023-05-14T12:30:05.288Z"
   },
   {
    "duration": 71,
    "start_time": "2023-05-14T12:39:50.542Z"
   },
   {
    "duration": 427,
    "start_time": "2023-05-14T12:40:33.054Z"
   },
   {
    "duration": 985,
    "start_time": "2023-05-14T12:40:37.559Z"
   },
   {
    "duration": 58,
    "start_time": "2023-05-14T12:40:38.545Z"
   },
   {
    "duration": 12,
    "start_time": "2023-05-14T12:40:38.607Z"
   },
   {
    "duration": 29,
    "start_time": "2023-05-14T12:40:38.622Z"
   },
   {
    "duration": 23,
    "start_time": "2023-05-14T12:40:38.652Z"
   },
   {
    "duration": 11,
    "start_time": "2023-05-14T12:40:38.677Z"
   },
   {
    "duration": 16,
    "start_time": "2023-05-14T12:40:38.690Z"
   },
   {
    "duration": 15,
    "start_time": "2023-05-14T12:40:38.707Z"
   },
   {
    "duration": 12,
    "start_time": "2023-05-14T12:40:38.723Z"
   },
   {
    "duration": 10,
    "start_time": "2023-05-14T12:40:38.737Z"
   },
   {
    "duration": 5,
    "start_time": "2023-05-14T12:40:38.748Z"
   },
   {
    "duration": 10,
    "start_time": "2023-05-14T12:40:38.754Z"
   },
   {
    "duration": 5,
    "start_time": "2023-05-14T12:40:38.767Z"
   },
   {
    "duration": 34,
    "start_time": "2023-05-14T12:40:38.773Z"
   },
   {
    "duration": 26,
    "start_time": "2023-05-14T12:40:38.809Z"
   },
   {
    "duration": 6,
    "start_time": "2023-05-14T12:40:38.837Z"
   },
   {
    "duration": 6,
    "start_time": "2023-05-14T12:40:38.844Z"
   },
   {
    "duration": 11,
    "start_time": "2023-05-14T12:40:38.852Z"
   },
   {
    "duration": 123,
    "start_time": "2023-05-14T12:40:38.865Z"
   },
   {
    "duration": 150,
    "start_time": "2023-05-14T12:40:38.990Z"
   },
   {
    "duration": 8,
    "start_time": "2023-05-14T12:40:39.142Z"
   },
   {
    "duration": 131,
    "start_time": "2023-05-14T12:40:39.151Z"
   },
   {
    "duration": 9,
    "start_time": "2023-05-14T12:40:39.284Z"
   },
   {
    "duration": 244,
    "start_time": "2023-05-14T12:40:39.295Z"
   },
   {
    "duration": 69,
    "start_time": "2023-05-14T12:40:39.540Z"
   },
   {
    "duration": 9,
    "start_time": "2023-05-14T12:40:39.610Z"
   },
   {
    "duration": 18,
    "start_time": "2023-05-14T12:40:39.620Z"
   },
   {
    "duration": 10,
    "start_time": "2023-05-14T12:40:39.640Z"
   },
   {
    "duration": 17,
    "start_time": "2023-05-14T12:40:39.652Z"
   },
   {
    "duration": 10,
    "start_time": "2023-05-14T12:40:39.671Z"
   },
   {
    "duration": 29,
    "start_time": "2023-05-14T12:40:39.683Z"
   },
   {
    "duration": 257,
    "start_time": "2023-05-14T12:40:39.713Z"
   },
   {
    "duration": 8,
    "start_time": "2023-05-14T12:40:39.971Z"
   },
   {
    "duration": 7,
    "start_time": "2023-05-14T12:40:39.980Z"
   },
   {
    "duration": 318,
    "start_time": "2023-05-14T12:40:39.988Z"
   },
   {
    "duration": 7,
    "start_time": "2023-05-14T12:40:40.307Z"
   },
   {
    "duration": 7,
    "start_time": "2023-05-14T12:40:40.316Z"
   },
   {
    "duration": 14,
    "start_time": "2023-05-14T12:40:40.325Z"
   },
   {
    "duration": 7,
    "start_time": "2023-05-14T12:40:40.341Z"
   },
   {
    "duration": 3,
    "start_time": "2023-05-14T12:40:40.351Z"
   },
   {
    "duration": 21,
    "start_time": "2023-05-14T12:40:40.356Z"
   },
   {
    "duration": 34,
    "start_time": "2023-05-14T12:40:40.379Z"
   },
   {
    "duration": 6,
    "start_time": "2023-05-14T12:40:40.414Z"
   },
   {
    "duration": 3,
    "start_time": "2023-05-14T12:40:40.421Z"
   },
   {
    "duration": 10,
    "start_time": "2023-05-14T12:40:40.425Z"
   },
   {
    "duration": 15,
    "start_time": "2023-05-14T12:40:40.436Z"
   },
   {
    "duration": 5,
    "start_time": "2023-05-14T12:40:40.452Z"
   },
   {
    "duration": 5,
    "start_time": "2023-05-14T12:55:00.520Z"
   },
   {
    "duration": 34,
    "start_time": "2023-05-14T12:58:29.764Z"
   },
   {
    "duration": 81,
    "start_time": "2023-05-14T12:59:34.080Z"
   },
   {
    "duration": 25,
    "start_time": "2023-05-14T12:59:38.710Z"
   },
   {
    "duration": 3,
    "start_time": "2023-05-14T13:09:12.064Z"
   },
   {
    "duration": 1046,
    "start_time": "2023-05-14T13:12:40.804Z"
   },
   {
    "duration": 74,
    "start_time": "2023-05-14T13:12:41.852Z"
   },
   {
    "duration": 14,
    "start_time": "2023-05-14T13:12:41.928Z"
   },
   {
    "duration": 15,
    "start_time": "2023-05-14T13:12:41.944Z"
   },
   {
    "duration": 10,
    "start_time": "2023-05-14T13:12:41.962Z"
   },
   {
    "duration": 10,
    "start_time": "2023-05-14T13:12:41.974Z"
   },
   {
    "duration": 9,
    "start_time": "2023-05-14T13:12:41.986Z"
   },
   {
    "duration": 22,
    "start_time": "2023-05-14T13:12:41.997Z"
   },
   {
    "duration": 10,
    "start_time": "2023-05-14T13:12:42.021Z"
   },
   {
    "duration": 10,
    "start_time": "2023-05-14T13:12:42.032Z"
   },
   {
    "duration": 4,
    "start_time": "2023-05-14T13:12:42.044Z"
   },
   {
    "duration": 5,
    "start_time": "2023-05-14T13:12:42.050Z"
   },
   {
    "duration": 6,
    "start_time": "2023-05-14T13:12:42.057Z"
   },
   {
    "duration": 5,
    "start_time": "2023-05-14T13:12:42.066Z"
   },
   {
    "duration": 53,
    "start_time": "2023-05-14T13:12:42.072Z"
   },
   {
    "duration": 6,
    "start_time": "2023-05-14T13:12:42.126Z"
   },
   {
    "duration": 5,
    "start_time": "2023-05-14T13:12:42.134Z"
   },
   {
    "duration": 5,
    "start_time": "2023-05-14T13:12:42.141Z"
   },
   {
    "duration": 161,
    "start_time": "2023-05-14T13:12:42.148Z"
   },
   {
    "duration": 183,
    "start_time": "2023-05-14T13:12:42.315Z"
   },
   {
    "duration": 9,
    "start_time": "2023-05-14T13:12:42.500Z"
   },
   {
    "duration": 164,
    "start_time": "2023-05-14T13:12:42.511Z"
   },
   {
    "duration": 9,
    "start_time": "2023-05-14T13:12:42.677Z"
   },
   {
    "duration": 243,
    "start_time": "2023-05-14T13:12:42.687Z"
   },
   {
    "duration": 76,
    "start_time": "2023-05-14T13:12:42.932Z"
   },
   {
    "duration": 20,
    "start_time": "2023-05-14T13:12:43.009Z"
   },
   {
    "duration": 18,
    "start_time": "2023-05-14T13:12:43.030Z"
   },
   {
    "duration": 11,
    "start_time": "2023-05-14T13:12:43.050Z"
   },
   {
    "duration": 13,
    "start_time": "2023-05-14T13:12:43.063Z"
   },
   {
    "duration": 16,
    "start_time": "2023-05-14T13:12:43.078Z"
   },
   {
    "duration": 26,
    "start_time": "2023-05-14T13:12:43.096Z"
   },
   {
    "duration": 266,
    "start_time": "2023-05-14T13:12:43.123Z"
   },
   {
    "duration": 32,
    "start_time": "2023-05-14T13:12:43.391Z"
   },
   {
    "duration": 8,
    "start_time": "2023-05-14T13:12:43.427Z"
   },
   {
    "duration": 328,
    "start_time": "2023-05-14T13:12:43.437Z"
   },
   {
    "duration": 7,
    "start_time": "2023-05-14T13:12:43.766Z"
   },
   {
    "duration": 6,
    "start_time": "2023-05-14T13:12:43.775Z"
   },
   {
    "duration": 43,
    "start_time": "2023-05-14T13:12:43.783Z"
   },
   {
    "duration": 12,
    "start_time": "2023-05-14T13:12:43.828Z"
   },
   {
    "duration": 4,
    "start_time": "2023-05-14T13:12:43.841Z"
   },
   {
    "duration": 21,
    "start_time": "2023-05-14T13:12:43.849Z"
   },
   {
    "duration": 11,
    "start_time": "2023-05-14T13:12:43.872Z"
   },
   {
    "duration": 31,
    "start_time": "2023-05-14T13:12:43.884Z"
   },
   {
    "duration": 5,
    "start_time": "2023-05-14T13:12:43.919Z"
   },
   {
    "duration": 13,
    "start_time": "2023-05-14T13:12:43.926Z"
   },
   {
    "duration": 22,
    "start_time": "2023-05-14T13:12:43.941Z"
   },
   {
    "duration": 7,
    "start_time": "2023-05-14T13:12:43.964Z"
   },
   {
    "duration": 5,
    "start_time": "2023-05-14T13:12:43.972Z"
   },
   {
    "duration": 60,
    "start_time": "2023-05-14T13:12:43.979Z"
   },
   {
    "duration": 1140,
    "start_time": "2023-05-14T15:04:56.315Z"
   },
   {
    "duration": 69,
    "start_time": "2023-05-14T15:04:57.457Z"
   },
   {
    "duration": 9,
    "start_time": "2023-05-14T15:04:57.528Z"
   },
   {
    "duration": 10,
    "start_time": "2023-05-14T15:04:57.539Z"
   },
   {
    "duration": 9,
    "start_time": "2023-05-14T15:04:57.551Z"
   },
   {
    "duration": 8,
    "start_time": "2023-05-14T15:04:57.561Z"
   },
   {
    "duration": 9,
    "start_time": "2023-05-14T15:04:57.570Z"
   },
   {
    "duration": 7,
    "start_time": "2023-05-14T15:04:57.581Z"
   },
   {
    "duration": 27,
    "start_time": "2023-05-14T15:04:57.589Z"
   },
   {
    "duration": 12,
    "start_time": "2023-05-14T15:04:57.618Z"
   },
   {
    "duration": 5,
    "start_time": "2023-05-14T15:04:57.632Z"
   },
   {
    "duration": 12,
    "start_time": "2023-05-14T15:04:57.638Z"
   },
   {
    "duration": 8,
    "start_time": "2023-05-14T15:04:57.651Z"
   },
   {
    "duration": 8,
    "start_time": "2023-05-14T15:04:57.662Z"
   },
   {
    "duration": 23,
    "start_time": "2023-05-14T15:04:57.671Z"
   },
   {
    "duration": 18,
    "start_time": "2023-05-14T15:04:57.696Z"
   },
   {
    "duration": 6,
    "start_time": "2023-05-14T15:04:57.715Z"
   },
   {
    "duration": 7,
    "start_time": "2023-05-14T15:04:57.722Z"
   },
   {
    "duration": 118,
    "start_time": "2023-05-14T15:04:57.730Z"
   },
   {
    "duration": 123,
    "start_time": "2023-05-14T15:04:57.850Z"
   },
   {
    "duration": 22,
    "start_time": "2023-05-14T15:04:57.975Z"
   },
   {
    "duration": 132,
    "start_time": "2023-05-14T15:04:57.998Z"
   },
   {
    "duration": 6,
    "start_time": "2023-05-14T15:04:58.132Z"
   },
   {
    "duration": 204,
    "start_time": "2023-05-14T15:04:58.139Z"
   },
   {
    "duration": 74,
    "start_time": "2023-05-14T15:04:58.345Z"
   },
   {
    "duration": 7,
    "start_time": "2023-05-14T15:04:58.421Z"
   },
   {
    "duration": 22,
    "start_time": "2023-05-14T15:04:58.430Z"
   },
   {
    "duration": 11,
    "start_time": "2023-05-14T15:04:58.453Z"
   },
   {
    "duration": 24,
    "start_time": "2023-05-14T15:04:58.465Z"
   },
   {
    "duration": 16,
    "start_time": "2023-05-14T15:04:58.490Z"
   },
   {
    "duration": 11,
    "start_time": "2023-05-14T15:04:58.507Z"
   },
   {
    "duration": 279,
    "start_time": "2023-05-14T15:04:58.519Z"
   },
   {
    "duration": 7,
    "start_time": "2023-05-14T15:04:58.800Z"
   },
   {
    "duration": 9,
    "start_time": "2023-05-14T15:04:58.808Z"
   },
   {
    "duration": 292,
    "start_time": "2023-05-14T15:04:58.818Z"
   },
   {
    "duration": 7,
    "start_time": "2023-05-14T15:04:59.111Z"
   },
   {
    "duration": 6,
    "start_time": "2023-05-14T15:04:59.119Z"
   },
   {
    "duration": 15,
    "start_time": "2023-05-14T15:04:59.127Z"
   },
   {
    "duration": 6,
    "start_time": "2023-05-14T15:04:59.144Z"
   },
   {
    "duration": 9,
    "start_time": "2023-05-14T15:04:59.185Z"
   },
   {
    "duration": 28,
    "start_time": "2023-05-14T15:04:59.197Z"
   },
   {
    "duration": 8,
    "start_time": "2023-05-14T15:04:59.227Z"
   },
   {
    "duration": 7,
    "start_time": "2023-05-14T15:04:59.236Z"
   },
   {
    "duration": 4,
    "start_time": "2023-05-14T15:04:59.245Z"
   },
   {
    "duration": 11,
    "start_time": "2023-05-14T15:04:59.250Z"
   },
   {
    "duration": 28,
    "start_time": "2023-05-14T15:04:59.262Z"
   },
   {
    "duration": 4,
    "start_time": "2023-05-14T15:04:59.291Z"
   },
   {
    "duration": 9,
    "start_time": "2023-05-14T15:04:59.297Z"
   },
   {
    "duration": 39,
    "start_time": "2023-05-14T15:04:59.308Z"
   },
   {
    "duration": 28,
    "start_time": "2023-05-14T15:08:38.181Z"
   },
   {
    "duration": 14,
    "start_time": "2023-05-14T15:13:32.947Z"
   },
   {
    "duration": 4,
    "start_time": "2023-05-14T15:13:41.904Z"
   },
   {
    "duration": 1348,
    "start_time": "2023-05-14T15:24:15.443Z"
   },
   {
    "duration": 77,
    "start_time": "2023-05-14T15:24:16.794Z"
   },
   {
    "duration": 15,
    "start_time": "2023-05-14T15:24:16.873Z"
   },
   {
    "duration": 39,
    "start_time": "2023-05-14T15:24:16.890Z"
   },
   {
    "duration": 12,
    "start_time": "2023-05-14T15:24:16.932Z"
   },
   {
    "duration": 12,
    "start_time": "2023-05-14T15:24:16.946Z"
   },
   {
    "duration": 24,
    "start_time": "2023-05-14T15:24:16.959Z"
   },
   {
    "duration": 59,
    "start_time": "2023-05-14T15:24:16.987Z"
   },
   {
    "duration": 16,
    "start_time": "2023-05-14T15:24:17.047Z"
   },
   {
    "duration": 16,
    "start_time": "2023-05-14T15:24:17.064Z"
   },
   {
    "duration": 8,
    "start_time": "2023-05-14T15:24:17.082Z"
   },
   {
    "duration": 56,
    "start_time": "2023-05-14T15:24:17.092Z"
   },
   {
    "duration": 34,
    "start_time": "2023-05-14T15:24:17.150Z"
   },
   {
    "duration": 48,
    "start_time": "2023-05-14T15:24:17.187Z"
   },
   {
    "duration": 24,
    "start_time": "2023-05-14T15:24:17.237Z"
   },
   {
    "duration": 9,
    "start_time": "2023-05-14T15:24:17.262Z"
   },
   {
    "duration": 7,
    "start_time": "2023-05-14T15:24:17.272Z"
   },
   {
    "duration": 54,
    "start_time": "2023-05-14T15:24:17.280Z"
   },
   {
    "duration": 174,
    "start_time": "2023-05-14T15:24:17.336Z"
   },
   {
    "duration": 177,
    "start_time": "2023-05-14T15:24:17.512Z"
   },
   {
    "duration": 8,
    "start_time": "2023-05-14T15:24:17.691Z"
   },
   {
    "duration": 179,
    "start_time": "2023-05-14T15:24:17.700Z"
   },
   {
    "duration": 31,
    "start_time": "2023-05-14T15:24:17.882Z"
   },
   {
    "duration": 307,
    "start_time": "2023-05-14T15:24:17.914Z"
   },
   {
    "duration": 101,
    "start_time": "2023-05-14T15:24:18.222Z"
   },
   {
    "duration": 16,
    "start_time": "2023-05-14T15:24:18.325Z"
   },
   {
    "duration": 31,
    "start_time": "2023-05-14T15:24:18.342Z"
   },
   {
    "duration": 29,
    "start_time": "2023-05-14T15:24:18.375Z"
   },
   {
    "duration": 38,
    "start_time": "2023-05-14T15:24:18.407Z"
   },
   {
    "duration": 15,
    "start_time": "2023-05-14T15:24:18.446Z"
   },
   {
    "duration": 15,
    "start_time": "2023-05-14T15:24:18.462Z"
   },
   {
    "duration": 345,
    "start_time": "2023-05-14T15:24:18.478Z"
   },
   {
    "duration": 6,
    "start_time": "2023-05-14T15:24:18.828Z"
   },
   {
    "duration": 63,
    "start_time": "2023-05-14T15:24:18.836Z"
   },
   {
    "duration": 358,
    "start_time": "2023-05-14T15:24:18.907Z"
   },
   {
    "duration": 7,
    "start_time": "2023-05-14T15:24:19.267Z"
   },
   {
    "duration": 64,
    "start_time": "2023-05-14T15:24:19.276Z"
   },
   {
    "duration": 28,
    "start_time": "2023-05-14T15:24:19.341Z"
   },
   {
    "duration": 12,
    "start_time": "2023-05-14T15:24:19.371Z"
   },
   {
    "duration": 40,
    "start_time": "2023-05-14T15:24:19.384Z"
   },
   {
    "duration": 26,
    "start_time": "2023-05-14T15:24:19.430Z"
   },
   {
    "duration": 10,
    "start_time": "2023-05-14T15:24:19.457Z"
   },
   {
    "duration": 43,
    "start_time": "2023-05-14T15:24:19.468Z"
   },
   {
    "duration": 11,
    "start_time": "2023-05-14T15:24:19.513Z"
   },
   {
    "duration": 8,
    "start_time": "2023-05-14T15:24:19.525Z"
   },
   {
    "duration": 27,
    "start_time": "2023-05-14T15:24:19.535Z"
   },
   {
    "duration": 41,
    "start_time": "2023-05-14T15:24:19.564Z"
   },
   {
    "duration": 14,
    "start_time": "2023-05-14T15:24:19.617Z"
   },
   {
    "duration": 15,
    "start_time": "2023-05-14T15:24:19.632Z"
   },
   {
    "duration": 50,
    "start_time": "2023-05-14T15:24:19.649Z"
   },
   {
    "duration": 1361,
    "start_time": "2023-05-15T05:44:11.090Z"
   },
   {
    "duration": 334,
    "start_time": "2023-05-15T05:44:12.453Z"
   },
   {
    "duration": 14,
    "start_time": "2023-05-15T05:44:12.789Z"
   },
   {
    "duration": 15,
    "start_time": "2023-05-15T05:44:12.805Z"
   },
   {
    "duration": 12,
    "start_time": "2023-05-15T05:44:12.822Z"
   },
   {
    "duration": 9,
    "start_time": "2023-05-15T05:44:12.836Z"
   },
   {
    "duration": 10,
    "start_time": "2023-05-15T05:44:12.847Z"
   },
   {
    "duration": 16,
    "start_time": "2023-05-15T05:44:12.858Z"
   },
   {
    "duration": 16,
    "start_time": "2023-05-15T05:44:12.875Z"
   },
   {
    "duration": 27,
    "start_time": "2023-05-15T05:44:12.893Z"
   },
   {
    "duration": 7,
    "start_time": "2023-05-15T05:44:12.922Z"
   },
   {
    "duration": 13,
    "start_time": "2023-05-15T05:44:12.930Z"
   },
   {
    "duration": 14,
    "start_time": "2023-05-15T05:44:12.944Z"
   },
   {
    "duration": 11,
    "start_time": "2023-05-15T05:44:12.960Z"
   },
   {
    "duration": 8,
    "start_time": "2023-05-15T05:44:12.973Z"
   },
   {
    "duration": 5,
    "start_time": "2023-05-15T05:44:12.983Z"
   },
   {
    "duration": 6,
    "start_time": "2023-05-15T05:44:12.989Z"
   },
   {
    "duration": 24,
    "start_time": "2023-05-15T05:44:12.996Z"
   },
   {
    "duration": 164,
    "start_time": "2023-05-15T05:44:13.022Z"
   },
   {
    "duration": 154,
    "start_time": "2023-05-15T05:44:13.188Z"
   },
   {
    "duration": 7,
    "start_time": "2023-05-15T05:44:13.344Z"
   },
   {
    "duration": 131,
    "start_time": "2023-05-15T05:44:13.352Z"
   },
   {
    "duration": 8,
    "start_time": "2023-05-15T05:44:13.485Z"
   },
   {
    "duration": 229,
    "start_time": "2023-05-15T05:44:13.494Z"
   },
   {
    "duration": 65,
    "start_time": "2023-05-15T05:44:13.724Z"
   },
   {
    "duration": 9,
    "start_time": "2023-05-15T05:44:13.790Z"
   },
   {
    "duration": 41,
    "start_time": "2023-05-15T05:44:13.800Z"
   },
   {
    "duration": 11,
    "start_time": "2023-05-15T05:44:13.845Z"
   },
   {
    "duration": 38,
    "start_time": "2023-05-15T05:44:13.857Z"
   },
   {
    "duration": 17,
    "start_time": "2023-05-15T05:44:13.896Z"
   },
   {
    "duration": 21,
    "start_time": "2023-05-15T05:44:13.914Z"
   },
   {
    "duration": 269,
    "start_time": "2023-05-15T05:44:13.936Z"
   },
   {
    "duration": 16,
    "start_time": "2023-05-15T05:44:14.206Z"
   },
   {
    "duration": 7,
    "start_time": "2023-05-15T05:44:14.223Z"
   },
   {
    "duration": 337,
    "start_time": "2023-05-15T05:44:14.231Z"
   },
   {
    "duration": 7,
    "start_time": "2023-05-15T05:44:14.570Z"
   },
   {
    "duration": 16,
    "start_time": "2023-05-15T05:44:14.578Z"
   },
   {
    "duration": 30,
    "start_time": "2023-05-15T05:44:14.596Z"
   },
   {
    "duration": 8,
    "start_time": "2023-05-15T05:44:14.627Z"
   },
   {
    "duration": 19,
    "start_time": "2023-05-15T05:44:14.636Z"
   },
   {
    "duration": 26,
    "start_time": "2023-05-15T05:44:14.657Z"
   },
   {
    "duration": 9,
    "start_time": "2023-05-15T05:44:14.685Z"
   },
   {
    "duration": 64,
    "start_time": "2023-05-15T05:44:14.695Z"
   },
   {
    "duration": 14,
    "start_time": "2023-05-15T05:44:14.760Z"
   },
   {
    "duration": 4,
    "start_time": "2023-05-15T05:44:14.775Z"
   },
   {
    "duration": 10,
    "start_time": "2023-05-15T05:44:14.780Z"
   },
   {
    "duration": 18,
    "start_time": "2023-05-15T05:44:14.791Z"
   },
   {
    "duration": 5,
    "start_time": "2023-05-15T05:44:14.810Z"
   },
   {
    "duration": 6,
    "start_time": "2023-05-15T05:44:14.817Z"
   },
   {
    "duration": 34,
    "start_time": "2023-05-15T05:44:14.824Z"
   },
   {
    "duration": 8,
    "start_time": "2023-05-15T05:45:43.312Z"
   },
   {
    "duration": 8,
    "start_time": "2023-05-15T05:46:42.613Z"
   },
   {
    "duration": 170,
    "start_time": "2023-05-15T05:51:12.460Z"
   },
   {
    "duration": 124,
    "start_time": "2023-05-15T05:55:10.552Z"
   },
   {
    "duration": 210,
    "start_time": "2023-05-15T05:56:26.528Z"
   },
   {
    "duration": 128,
    "start_time": "2023-05-15T05:56:35.315Z"
   },
   {
    "duration": 171,
    "start_time": "2023-05-15T06:00:17.059Z"
   },
   {
    "duration": 214,
    "start_time": "2023-05-15T06:00:46.489Z"
   },
   {
    "duration": 88,
    "start_time": "2023-05-15T06:01:32.079Z"
   },
   {
    "duration": 194,
    "start_time": "2023-05-15T06:01:37.476Z"
   },
   {
    "duration": 137,
    "start_time": "2023-05-15T06:02:51.664Z"
   },
   {
    "duration": 159,
    "start_time": "2023-05-15T06:03:00.590Z"
   },
   {
    "duration": 70,
    "start_time": "2023-05-15T06:09:54.839Z"
   },
   {
    "duration": 72,
    "start_time": "2023-05-15T06:10:06.348Z"
   },
   {
    "duration": 4,
    "start_time": "2023-05-15T06:13:37.451Z"
   },
   {
    "duration": 5,
    "start_time": "2023-05-15T06:14:03.466Z"
   },
   {
    "duration": 3,
    "start_time": "2023-05-15T06:14:17.213Z"
   },
   {
    "duration": 4,
    "start_time": "2023-05-15T06:14:31.857Z"
   },
   {
    "duration": 118,
    "start_time": "2023-05-15T06:17:37.316Z"
   },
   {
    "duration": 399,
    "start_time": "2023-05-15T06:18:04.499Z"
   },
   {
    "duration": 137,
    "start_time": "2023-05-15T06:22:05.894Z"
   },
   {
    "duration": 270,
    "start_time": "2023-05-15T06:22:41.489Z"
   },
   {
    "duration": 302,
    "start_time": "2023-05-15T06:23:03.687Z"
   },
   {
    "duration": 144,
    "start_time": "2023-05-15T06:24:32.848Z"
   },
   {
    "duration": 250,
    "start_time": "2023-05-15T06:25:45.293Z"
   },
   {
    "duration": 156,
    "start_time": "2023-05-15T06:26:07.008Z"
   },
   {
    "duration": 217,
    "start_time": "2023-05-15T06:26:20.578Z"
   },
   {
    "duration": 156,
    "start_time": "2023-05-15T06:26:26.010Z"
   },
   {
    "duration": 203,
    "start_time": "2023-05-15T06:51:05.484Z"
   },
   {
    "duration": 189,
    "start_time": "2023-05-15T06:51:35.154Z"
   },
   {
    "duration": 168,
    "start_time": "2023-05-15T06:53:26.942Z"
   },
   {
    "duration": 230,
    "start_time": "2023-05-15T06:53:54.100Z"
   },
   {
    "duration": 163,
    "start_time": "2023-05-15T06:54:07.608Z"
   },
   {
    "duration": 155,
    "start_time": "2023-05-15T06:54:45.037Z"
   },
   {
    "duration": 278,
    "start_time": "2023-05-15T06:55:05.950Z"
   },
   {
    "duration": 332,
    "start_time": "2023-05-15T06:55:48.001Z"
   },
   {
    "duration": 445,
    "start_time": "2023-05-15T06:55:57.098Z"
   },
   {
    "duration": 318,
    "start_time": "2023-05-15T06:58:03.610Z"
   },
   {
    "duration": 317,
    "start_time": "2023-05-15T06:58:30.153Z"
   },
   {
    "duration": 345,
    "start_time": "2023-05-15T06:58:43.785Z"
   },
   {
    "duration": 3,
    "start_time": "2023-05-15T07:00:33.093Z"
   },
   {
    "duration": 27,
    "start_time": "2023-05-15T07:00:34.766Z"
   },
   {
    "duration": 9,
    "start_time": "2023-05-15T07:00:39.394Z"
   },
   {
    "duration": 358,
    "start_time": "2023-05-15T07:04:43.596Z"
   },
   {
    "duration": 32,
    "start_time": "2023-05-15T07:06:59.139Z"
   },
   {
    "duration": 4,
    "start_time": "2023-05-15T07:07:26.409Z"
   },
   {
    "duration": 7,
    "start_time": "2023-05-15T07:07:41.903Z"
   },
   {
    "duration": 61,
    "start_time": "2023-05-15T07:07:42.282Z"
   },
   {
    "duration": 15,
    "start_time": "2023-05-15T07:07:42.652Z"
   },
   {
    "duration": 7,
    "start_time": "2023-05-15T07:07:43.043Z"
   },
   {
    "duration": 68,
    "start_time": "2023-05-15T07:07:43.795Z"
   },
   {
    "duration": 19,
    "start_time": "2023-05-15T07:07:45.462Z"
   },
   {
    "duration": 5,
    "start_time": "2023-05-15T07:07:48.472Z"
   },
   {
    "duration": 1638,
    "start_time": "2023-05-15T07:08:01.785Z"
   },
   {
    "duration": 89,
    "start_time": "2023-05-15T07:08:03.426Z"
   },
   {
    "duration": 31,
    "start_time": "2023-05-15T07:08:03.517Z"
   },
   {
    "duration": 20,
    "start_time": "2023-05-15T07:08:03.551Z"
   },
   {
    "duration": 28,
    "start_time": "2023-05-15T07:08:03.573Z"
   },
   {
    "duration": 30,
    "start_time": "2023-05-15T07:08:03.603Z"
   },
   {
    "duration": 45,
    "start_time": "2023-05-15T07:08:03.634Z"
   },
   {
    "duration": 31,
    "start_time": "2023-05-15T07:08:03.681Z"
   },
   {
    "duration": 51,
    "start_time": "2023-05-15T07:08:03.714Z"
   },
   {
    "duration": 17,
    "start_time": "2023-05-15T07:08:03.768Z"
   },
   {
    "duration": 6,
    "start_time": "2023-05-15T07:08:03.787Z"
   },
   {
    "duration": 31,
    "start_time": "2023-05-15T07:08:03.796Z"
   },
   {
    "duration": 30,
    "start_time": "2023-05-15T07:08:03.829Z"
   },
   {
    "duration": 13,
    "start_time": "2023-05-15T07:08:03.861Z"
   },
   {
    "duration": 16,
    "start_time": "2023-05-15T07:08:03.876Z"
   },
   {
    "duration": 27,
    "start_time": "2023-05-15T07:08:03.894Z"
   },
   {
    "duration": 30,
    "start_time": "2023-05-15T07:08:03.925Z"
   },
   {
    "duration": 22,
    "start_time": "2023-05-15T07:08:03.957Z"
   },
   {
    "duration": 11,
    "start_time": "2023-05-15T07:08:03.981Z"
   },
   {
    "duration": 300,
    "start_time": "2023-05-15T07:08:03.994Z"
   },
   {
    "duration": 263,
    "start_time": "2023-05-15T07:08:04.296Z"
   },
   {
    "duration": 11,
    "start_time": "2023-05-15T07:08:04.561Z"
   },
   {
    "duration": 253,
    "start_time": "2023-05-15T07:08:04.574Z"
   },
   {
    "duration": 14,
    "start_time": "2023-05-15T07:08:04.829Z"
   },
   {
    "duration": 426,
    "start_time": "2023-05-15T07:08:04.845Z"
   },
   {
    "duration": 103,
    "start_time": "2023-05-15T07:08:05.273Z"
   },
   {
    "duration": 12,
    "start_time": "2023-05-15T07:08:05.377Z"
   },
   {
    "duration": 656,
    "start_time": "2023-05-15T07:08:05.394Z"
   },
   {
    "duration": 0,
    "start_time": "2023-05-15T07:08:06.052Z"
   },
   {
    "duration": 0,
    "start_time": "2023-05-15T07:08:06.055Z"
   },
   {
    "duration": 0,
    "start_time": "2023-05-15T07:08:06.056Z"
   },
   {
    "duration": 0,
    "start_time": "2023-05-15T07:08:06.057Z"
   },
   {
    "duration": 0,
    "start_time": "2023-05-15T07:08:06.058Z"
   },
   {
    "duration": 0,
    "start_time": "2023-05-15T07:08:06.060Z"
   },
   {
    "duration": 0,
    "start_time": "2023-05-15T07:08:06.062Z"
   },
   {
    "duration": 0,
    "start_time": "2023-05-15T07:08:06.063Z"
   },
   {
    "duration": 0,
    "start_time": "2023-05-15T07:08:06.064Z"
   },
   {
    "duration": 0,
    "start_time": "2023-05-15T07:08:06.066Z"
   },
   {
    "duration": 0,
    "start_time": "2023-05-15T07:08:06.068Z"
   },
   {
    "duration": 0,
    "start_time": "2023-05-15T07:08:06.069Z"
   },
   {
    "duration": 0,
    "start_time": "2023-05-15T07:08:06.070Z"
   },
   {
    "duration": 0,
    "start_time": "2023-05-15T07:08:06.071Z"
   },
   {
    "duration": 0,
    "start_time": "2023-05-15T07:08:06.072Z"
   },
   {
    "duration": 0,
    "start_time": "2023-05-15T07:08:06.073Z"
   },
   {
    "duration": 0,
    "start_time": "2023-05-15T07:08:06.074Z"
   },
   {
    "duration": 0,
    "start_time": "2023-05-15T07:08:06.075Z"
   },
   {
    "duration": 0,
    "start_time": "2023-05-15T07:08:06.076Z"
   },
   {
    "duration": 0,
    "start_time": "2023-05-15T07:08:06.077Z"
   },
   {
    "duration": 0,
    "start_time": "2023-05-15T07:08:06.078Z"
   },
   {
    "duration": 0,
    "start_time": "2023-05-15T07:08:06.080Z"
   },
   {
    "duration": 0,
    "start_time": "2023-05-15T07:08:06.081Z"
   },
   {
    "duration": 0,
    "start_time": "2023-05-15T07:08:06.084Z"
   },
   {
    "duration": 0,
    "start_time": "2023-05-15T07:08:06.085Z"
   },
   {
    "duration": 0,
    "start_time": "2023-05-15T07:08:06.086Z"
   },
   {
    "duration": 0,
    "start_time": "2023-05-15T07:08:06.087Z"
   },
   {
    "duration": 0,
    "start_time": "2023-05-15T07:08:06.088Z"
   },
   {
    "duration": 1470,
    "start_time": "2023-05-15T07:08:42.838Z"
   },
   {
    "duration": 86,
    "start_time": "2023-05-15T07:08:44.313Z"
   },
   {
    "duration": 13,
    "start_time": "2023-05-15T07:08:44.401Z"
   },
   {
    "duration": 82,
    "start_time": "2023-05-15T07:08:44.416Z"
   },
   {
    "duration": 24,
    "start_time": "2023-05-15T07:08:44.501Z"
   },
   {
    "duration": 58,
    "start_time": "2023-05-15T07:08:44.526Z"
   },
   {
    "duration": 22,
    "start_time": "2023-05-15T07:08:44.586Z"
   },
   {
    "duration": 70,
    "start_time": "2023-05-15T07:08:44.609Z"
   },
   {
    "duration": 33,
    "start_time": "2023-05-15T07:08:44.681Z"
   },
   {
    "duration": 54,
    "start_time": "2023-05-15T07:08:44.717Z"
   },
   {
    "duration": 15,
    "start_time": "2023-05-15T07:08:44.773Z"
   },
   {
    "duration": 32,
    "start_time": "2023-05-15T07:08:44.790Z"
   },
   {
    "duration": 50,
    "start_time": "2023-05-15T07:08:44.824Z"
   },
   {
    "duration": 26,
    "start_time": "2023-05-15T07:08:44.878Z"
   },
   {
    "duration": 85,
    "start_time": "2023-05-15T07:08:44.906Z"
   },
   {
    "duration": 68,
    "start_time": "2023-05-15T07:08:44.993Z"
   },
   {
    "duration": 14,
    "start_time": "2023-05-15T07:08:45.063Z"
   },
   {
    "duration": 15,
    "start_time": "2023-05-15T07:08:45.079Z"
   },
   {
    "duration": 19,
    "start_time": "2023-05-15T07:08:45.096Z"
   },
   {
    "duration": 241,
    "start_time": "2023-05-15T07:08:45.117Z"
   },
   {
    "duration": 219,
    "start_time": "2023-05-15T07:08:45.360Z"
   },
   {
    "duration": 9,
    "start_time": "2023-05-15T07:08:45.580Z"
   },
   {
    "duration": 225,
    "start_time": "2023-05-15T07:08:45.591Z"
   },
   {
    "duration": 20,
    "start_time": "2023-05-15T07:08:45.827Z"
   },
   {
    "duration": 315,
    "start_time": "2023-05-15T07:08:45.856Z"
   },
   {
    "duration": 124,
    "start_time": "2023-05-15T07:08:46.173Z"
   },
   {
    "duration": 11,
    "start_time": "2023-05-15T07:08:46.299Z"
   },
   {
    "duration": 66,
    "start_time": "2023-05-15T07:08:46.312Z"
   },
   {
    "duration": 12,
    "start_time": "2023-05-15T07:08:46.380Z"
   },
   {
    "duration": 11,
    "start_time": "2023-05-15T07:08:46.394Z"
   },
   {
    "duration": 53,
    "start_time": "2023-05-15T07:08:46.407Z"
   },
   {
    "duration": 18,
    "start_time": "2023-05-15T07:08:46.462Z"
   },
   {
    "duration": 31,
    "start_time": "2023-05-15T07:08:46.482Z"
   },
   {
    "duration": 64,
    "start_time": "2023-05-15T07:08:46.515Z"
   },
   {
    "duration": 24,
    "start_time": "2023-05-15T07:08:46.581Z"
   },
   {
    "duration": 21,
    "start_time": "2023-05-15T07:08:46.607Z"
   },
   {
    "duration": 415,
    "start_time": "2023-05-15T07:08:46.629Z"
   },
   {
    "duration": 15,
    "start_time": "2023-05-15T07:08:47.046Z"
   },
   {
    "duration": 16,
    "start_time": "2023-05-15T07:08:47.063Z"
   },
   {
    "duration": 434,
    "start_time": "2023-05-15T07:08:47.081Z"
   },
   {
    "duration": 10,
    "start_time": "2023-05-15T07:08:47.521Z"
   },
   {
    "duration": 43,
    "start_time": "2023-05-15T07:08:47.532Z"
   },
   {
    "duration": 16,
    "start_time": "2023-05-15T07:08:47.577Z"
   },
   {
    "duration": 49,
    "start_time": "2023-05-15T07:08:47.594Z"
   },
   {
    "duration": 20,
    "start_time": "2023-05-15T07:08:47.659Z"
   },
   {
    "duration": 17,
    "start_time": "2023-05-15T07:08:47.680Z"
   },
   {
    "duration": 66,
    "start_time": "2023-05-15T07:08:47.699Z"
   },
   {
    "duration": 36,
    "start_time": "2023-05-15T07:08:47.767Z"
   },
   {
    "duration": 20,
    "start_time": "2023-05-15T07:08:47.805Z"
   },
   {
    "duration": 6190,
    "start_time": "2023-05-15T07:08:47.826Z"
   },
   {
    "duration": 0,
    "start_time": "2023-05-15T07:08:54.021Z"
   },
   {
    "duration": 0,
    "start_time": "2023-05-15T07:08:54.022Z"
   },
   {
    "duration": 0,
    "start_time": "2023-05-15T07:08:54.023Z"
   },
   {
    "duration": 0,
    "start_time": "2023-05-15T07:08:54.025Z"
   },
   {
    "duration": 0,
    "start_time": "2023-05-15T07:08:54.026Z"
   },
   {
    "duration": 1,
    "start_time": "2023-05-15T07:08:54.027Z"
   },
   {
    "duration": 38,
    "start_time": "2023-05-15T07:09:36.278Z"
   },
   {
    "duration": 22,
    "start_time": "2023-05-15T07:10:26.517Z"
   },
   {
    "duration": 28,
    "start_time": "2023-05-15T07:10:27.613Z"
   },
   {
    "duration": 4,
    "start_time": "2023-05-15T07:10:28.402Z"
   },
   {
    "duration": 27,
    "start_time": "2023-05-15T07:10:29.388Z"
   },
   {
    "duration": 10,
    "start_time": "2023-05-15T07:10:30.695Z"
   },
   {
    "duration": 10,
    "start_time": "2023-05-15T07:11:24.632Z"
   },
   {
    "duration": 4,
    "start_time": "2023-05-15T07:11:32.690Z"
   },
   {
    "duration": 19,
    "start_time": "2023-05-15T07:11:33.321Z"
   },
   {
    "duration": 7,
    "start_time": "2023-05-15T07:13:14.109Z"
   },
   {
    "duration": 6,
    "start_time": "2023-05-15T07:13:56.605Z"
   },
   {
    "duration": 234,
    "start_time": "2023-05-15T07:15:12.209Z"
   },
   {
    "duration": 19,
    "start_time": "2023-05-15T07:15:17.994Z"
   },
   {
    "duration": 46,
    "start_time": "2023-05-15T07:15:27.781Z"
   },
   {
    "duration": 7,
    "start_time": "2023-05-15T07:15:28.850Z"
   },
   {
    "duration": 1236,
    "start_time": "2023-05-15T17:14:38.970Z"
   },
   {
    "duration": 73,
    "start_time": "2023-05-15T17:14:40.211Z"
   },
   {
    "duration": 21,
    "start_time": "2023-05-15T17:14:40.287Z"
   },
   {
    "duration": 26,
    "start_time": "2023-05-15T17:14:40.312Z"
   },
   {
    "duration": 15,
    "start_time": "2023-05-15T17:14:40.340Z"
   },
   {
    "duration": 11,
    "start_time": "2023-05-15T17:14:40.357Z"
   },
   {
    "duration": 39,
    "start_time": "2023-05-15T17:14:40.370Z"
   },
   {
    "duration": 15,
    "start_time": "2023-05-15T17:14:40.411Z"
   },
   {
    "duration": 13,
    "start_time": "2023-05-15T17:14:40.430Z"
   },
   {
    "duration": 14,
    "start_time": "2023-05-15T17:14:40.446Z"
   },
   {
    "duration": 29,
    "start_time": "2023-05-15T17:14:40.462Z"
   },
   {
    "duration": 32,
    "start_time": "2023-05-15T17:14:40.493Z"
   },
   {
    "duration": 9,
    "start_time": "2023-05-15T17:14:40.528Z"
   },
   {
    "duration": 9,
    "start_time": "2023-05-15T17:14:40.539Z"
   },
   {
    "duration": 8,
    "start_time": "2023-05-15T17:14:40.550Z"
   },
   {
    "duration": 11,
    "start_time": "2023-05-15T17:14:40.560Z"
   },
   {
    "duration": 11,
    "start_time": "2023-05-15T17:14:40.593Z"
   },
   {
    "duration": 9,
    "start_time": "2023-05-15T17:14:40.615Z"
   },
   {
    "duration": 9,
    "start_time": "2023-05-15T17:14:40.627Z"
   },
   {
    "duration": 232,
    "start_time": "2023-05-15T17:14:40.638Z"
   },
   {
    "duration": 229,
    "start_time": "2023-05-15T17:14:40.872Z"
   },
   {
    "duration": 19,
    "start_time": "2023-05-15T17:14:41.111Z"
   },
   {
    "duration": 178,
    "start_time": "2023-05-15T17:14:41.132Z"
   },
   {
    "duration": 13,
    "start_time": "2023-05-15T17:14:41.311Z"
   },
   {
    "duration": 315,
    "start_time": "2023-05-15T17:14:41.325Z"
   },
   {
    "duration": 96,
    "start_time": "2023-05-15T17:14:41.642Z"
   },
   {
    "duration": 9,
    "start_time": "2023-05-15T17:14:41.740Z"
   },
   {
    "duration": 45,
    "start_time": "2023-05-15T17:14:41.752Z"
   },
   {
    "duration": 12,
    "start_time": "2023-05-15T17:14:41.806Z"
   },
   {
    "duration": 5,
    "start_time": "2023-05-15T17:14:41.820Z"
   },
   {
    "duration": 7,
    "start_time": "2023-05-15T17:14:41.826Z"
   },
   {
    "duration": 5,
    "start_time": "2023-05-15T17:14:41.834Z"
   },
   {
    "duration": 15,
    "start_time": "2023-05-15T17:14:41.840Z"
   },
   {
    "duration": 36,
    "start_time": "2023-05-15T17:14:41.856Z"
   },
   {
    "duration": 26,
    "start_time": "2023-05-15T17:14:41.895Z"
   },
   {
    "duration": 13,
    "start_time": "2023-05-15T17:14:41.923Z"
   },
   {
    "duration": 397,
    "start_time": "2023-05-15T17:14:41.938Z"
   },
   {
    "duration": 9,
    "start_time": "2023-05-15T17:14:42.336Z"
   },
   {
    "duration": 8,
    "start_time": "2023-05-15T17:14:42.347Z"
   },
   {
    "duration": 499,
    "start_time": "2023-05-15T17:14:42.357Z"
   },
   {
    "duration": 12,
    "start_time": "2023-05-15T17:14:42.858Z"
   },
   {
    "duration": 23,
    "start_time": "2023-05-15T17:14:42.872Z"
   },
   {
    "duration": 13,
    "start_time": "2023-05-15T17:14:42.906Z"
   },
   {
    "duration": 26,
    "start_time": "2023-05-15T17:14:42.924Z"
   },
   {
    "duration": 10,
    "start_time": "2023-05-15T17:14:42.952Z"
   },
   {
    "duration": 6,
    "start_time": "2023-05-15T17:14:42.964Z"
   },
   {
    "duration": 51,
    "start_time": "2023-05-15T17:14:42.973Z"
   },
   {
    "duration": 12,
    "start_time": "2023-05-15T17:14:43.025Z"
   },
   {
    "duration": 5,
    "start_time": "2023-05-15T17:14:43.039Z"
   },
   {
    "duration": 8,
    "start_time": "2023-05-15T17:14:43.046Z"
   },
   {
    "duration": 4,
    "start_time": "2023-05-15T17:14:43.056Z"
   },
   {
    "duration": 52,
    "start_time": "2023-05-15T17:14:43.061Z"
   },
   {
    "duration": 25,
    "start_time": "2023-05-15T17:14:43.115Z"
   },
   {
    "duration": 5,
    "start_time": "2023-05-15T17:14:43.142Z"
   },
   {
    "duration": 9,
    "start_time": "2023-05-15T17:14:43.149Z"
   },
   {
    "duration": 6,
    "start_time": "2023-05-15T17:14:43.160Z"
   },
   {
    "duration": 64,
    "start_time": "2023-05-15T17:14:43.168Z"
   },
   {
    "duration": 5,
    "start_time": "2023-05-15T17:14:43.234Z"
   },
   {
    "duration": 81,
    "start_time": "2023-05-15T17:19:06.961Z"
   },
   {
    "duration": 73,
    "start_time": "2023-05-15T17:19:29.010Z"
   },
   {
    "duration": 18,
    "start_time": "2023-05-15T17:31:26.741Z"
   },
   {
    "duration": 7,
    "start_time": "2023-05-15T17:31:34.996Z"
   },
   {
    "duration": 7,
    "start_time": "2023-05-15T17:31:44.052Z"
   },
   {
    "duration": 1188,
    "start_time": "2023-05-15T17:34:44.352Z"
   },
   {
    "duration": 72,
    "start_time": "2023-05-15T17:34:45.542Z"
   },
   {
    "duration": 15,
    "start_time": "2023-05-15T17:34:45.616Z"
   },
   {
    "duration": 19,
    "start_time": "2023-05-15T17:34:45.633Z"
   },
   {
    "duration": 14,
    "start_time": "2023-05-15T17:34:45.654Z"
   },
   {
    "duration": 19,
    "start_time": "2023-05-15T17:34:45.670Z"
   },
   {
    "duration": 18,
    "start_time": "2023-05-15T17:34:45.691Z"
   },
   {
    "duration": 12,
    "start_time": "2023-05-15T17:34:45.711Z"
   },
   {
    "duration": 14,
    "start_time": "2023-05-15T17:34:45.724Z"
   },
   {
    "duration": 14,
    "start_time": "2023-05-15T17:34:45.742Z"
   },
   {
    "duration": 44,
    "start_time": "2023-05-15T17:34:45.758Z"
   },
   {
    "duration": 11,
    "start_time": "2023-05-15T17:34:45.804Z"
   },
   {
    "duration": 8,
    "start_time": "2023-05-15T17:34:45.817Z"
   },
   {
    "duration": 10,
    "start_time": "2023-05-15T17:34:45.826Z"
   },
   {
    "duration": 12,
    "start_time": "2023-05-15T17:34:45.838Z"
   },
   {
    "duration": 38,
    "start_time": "2023-05-15T17:34:45.851Z"
   },
   {
    "duration": 12,
    "start_time": "2023-05-15T17:34:45.891Z"
   },
   {
    "duration": 6,
    "start_time": "2023-05-15T17:34:45.905Z"
   },
   {
    "duration": 9,
    "start_time": "2023-05-15T17:34:45.913Z"
   },
   {
    "duration": 220,
    "start_time": "2023-05-15T17:34:45.924Z"
   },
   {
    "duration": 200,
    "start_time": "2023-05-15T17:34:46.145Z"
   },
   {
    "duration": 8,
    "start_time": "2023-05-15T17:34:46.347Z"
   },
   {
    "duration": 186,
    "start_time": "2023-05-15T17:34:46.357Z"
   },
   {
    "duration": 10,
    "start_time": "2023-05-15T17:34:46.545Z"
   },
   {
    "duration": 325,
    "start_time": "2023-05-15T17:34:46.557Z"
   },
   {
    "duration": 89,
    "start_time": "2023-05-15T17:34:46.884Z"
   },
   {
    "duration": 26,
    "start_time": "2023-05-15T17:34:46.975Z"
   },
   {
    "duration": 17,
    "start_time": "2023-05-15T17:34:47.005Z"
   },
   {
    "duration": 4,
    "start_time": "2023-05-15T17:34:47.023Z"
   },
   {
    "duration": 7,
    "start_time": "2023-05-15T17:34:47.029Z"
   },
   {
    "duration": 10,
    "start_time": "2023-05-15T17:34:47.038Z"
   },
   {
    "duration": 13,
    "start_time": "2023-05-15T17:34:47.050Z"
   },
   {
    "duration": 37,
    "start_time": "2023-05-15T17:34:47.065Z"
   },
   {
    "duration": 14,
    "start_time": "2023-05-15T17:34:47.104Z"
   },
   {
    "duration": 13,
    "start_time": "2023-05-15T17:34:47.120Z"
   },
   {
    "duration": 31,
    "start_time": "2023-05-15T17:34:47.134Z"
   },
   {
    "duration": 382,
    "start_time": "2023-05-15T17:34:47.167Z"
   },
   {
    "duration": 9,
    "start_time": "2023-05-15T17:34:47.551Z"
   },
   {
    "duration": 11,
    "start_time": "2023-05-15T17:34:47.561Z"
   },
   {
    "duration": 450,
    "start_time": "2023-05-15T17:34:47.574Z"
   },
   {
    "duration": 10,
    "start_time": "2023-05-15T17:34:48.025Z"
   },
   {
    "duration": 21,
    "start_time": "2023-05-15T17:34:48.036Z"
   },
   {
    "duration": 20,
    "start_time": "2023-05-15T17:34:48.059Z"
   },
   {
    "duration": 52,
    "start_time": "2023-05-15T17:34:48.081Z"
   },
   {
    "duration": 18,
    "start_time": "2023-05-15T17:34:48.135Z"
   },
   {
    "duration": 34,
    "start_time": "2023-05-15T17:34:48.155Z"
   },
   {
    "duration": 37,
    "start_time": "2023-05-15T17:34:48.200Z"
   },
   {
    "duration": 11,
    "start_time": "2023-05-15T17:34:48.239Z"
   },
   {
    "duration": 5,
    "start_time": "2023-05-15T17:34:48.251Z"
   },
   {
    "duration": 8,
    "start_time": "2023-05-15T17:34:48.258Z"
   },
   {
    "duration": 4,
    "start_time": "2023-05-15T17:34:48.268Z"
   },
   {
    "duration": 28,
    "start_time": "2023-05-15T17:34:48.274Z"
   },
   {
    "duration": 16,
    "start_time": "2023-05-15T17:34:48.304Z"
   },
   {
    "duration": 5,
    "start_time": "2023-05-15T17:34:48.322Z"
   },
   {
    "duration": 10,
    "start_time": "2023-05-15T17:34:48.329Z"
   },
   {
    "duration": 5,
    "start_time": "2023-05-15T17:34:48.341Z"
   },
   {
    "duration": 68,
    "start_time": "2023-05-15T17:34:48.348Z"
   },
   {
    "duration": 5,
    "start_time": "2023-05-15T17:34:48.418Z"
   },
   {
    "duration": 53,
    "start_time": "2023-05-15T17:57:03.241Z"
   },
   {
    "duration": 1435,
    "start_time": "2023-05-15T17:57:11.063Z"
   },
   {
    "duration": 204,
    "start_time": "2023-05-15T17:57:12.500Z"
   },
   {
    "duration": 14,
    "start_time": "2023-05-15T17:57:12.706Z"
   },
   {
    "duration": 35,
    "start_time": "2023-05-15T17:57:12.723Z"
   },
   {
    "duration": 14,
    "start_time": "2023-05-15T17:57:12.759Z"
   },
   {
    "duration": 17,
    "start_time": "2023-05-15T17:57:12.775Z"
   },
   {
    "duration": 20,
    "start_time": "2023-05-15T17:57:12.794Z"
   },
   {
    "duration": 20,
    "start_time": "2023-05-15T17:57:12.816Z"
   },
   {
    "duration": 15,
    "start_time": "2023-05-15T17:57:12.838Z"
   },
   {
    "duration": 12,
    "start_time": "2023-05-15T17:57:12.857Z"
   },
   {
    "duration": 8,
    "start_time": "2023-05-15T17:57:12.871Z"
   },
   {
    "duration": 22,
    "start_time": "2023-05-15T17:57:12.881Z"
   },
   {
    "duration": 12,
    "start_time": "2023-05-15T17:57:12.905Z"
   },
   {
    "duration": 7,
    "start_time": "2023-05-15T17:57:12.918Z"
   },
   {
    "duration": 10,
    "start_time": "2023-05-15T17:57:12.927Z"
   },
   {
    "duration": 21,
    "start_time": "2023-05-15T17:57:12.939Z"
   },
   {
    "duration": 17,
    "start_time": "2023-05-15T17:57:12.962Z"
   },
   {
    "duration": 15,
    "start_time": "2023-05-15T17:57:12.981Z"
   },
   {
    "duration": 12,
    "start_time": "2023-05-15T17:57:12.998Z"
   },
   {
    "duration": 202,
    "start_time": "2023-05-15T17:57:13.012Z"
   },
   {
    "duration": 121,
    "start_time": "2023-05-15T17:57:13.216Z"
   },
   {
    "duration": 0,
    "start_time": "2023-05-15T17:57:13.340Z"
   },
   {
    "duration": 0,
    "start_time": "2023-05-15T17:57:13.342Z"
   },
   {
    "duration": 0,
    "start_time": "2023-05-15T17:57:13.343Z"
   },
   {
    "duration": 0,
    "start_time": "2023-05-15T17:57:13.344Z"
   },
   {
    "duration": 0,
    "start_time": "2023-05-15T17:57:13.346Z"
   },
   {
    "duration": 0,
    "start_time": "2023-05-15T17:57:13.347Z"
   },
   {
    "duration": 0,
    "start_time": "2023-05-15T17:57:13.348Z"
   },
   {
    "duration": 0,
    "start_time": "2023-05-15T17:57:13.349Z"
   },
   {
    "duration": 0,
    "start_time": "2023-05-15T17:57:13.350Z"
   },
   {
    "duration": 0,
    "start_time": "2023-05-15T17:57:13.351Z"
   },
   {
    "duration": 0,
    "start_time": "2023-05-15T17:57:13.353Z"
   },
   {
    "duration": 0,
    "start_time": "2023-05-15T17:57:13.354Z"
   },
   {
    "duration": 0,
    "start_time": "2023-05-15T17:57:13.355Z"
   },
   {
    "duration": 0,
    "start_time": "2023-05-15T17:57:13.356Z"
   },
   {
    "duration": 0,
    "start_time": "2023-05-15T17:57:13.358Z"
   },
   {
    "duration": 0,
    "start_time": "2023-05-15T17:57:13.359Z"
   },
   {
    "duration": 0,
    "start_time": "2023-05-15T17:57:13.397Z"
   },
   {
    "duration": 0,
    "start_time": "2023-05-15T17:57:13.398Z"
   },
   {
    "duration": 0,
    "start_time": "2023-05-15T17:57:13.400Z"
   },
   {
    "duration": 0,
    "start_time": "2023-05-15T17:57:13.401Z"
   },
   {
    "duration": 0,
    "start_time": "2023-05-15T17:57:13.402Z"
   },
   {
    "duration": 0,
    "start_time": "2023-05-15T17:57:13.403Z"
   },
   {
    "duration": 0,
    "start_time": "2023-05-15T17:57:13.405Z"
   },
   {
    "duration": 0,
    "start_time": "2023-05-15T17:57:13.406Z"
   },
   {
    "duration": 0,
    "start_time": "2023-05-15T17:57:13.407Z"
   },
   {
    "duration": 0,
    "start_time": "2023-05-15T17:57:13.409Z"
   },
   {
    "duration": 0,
    "start_time": "2023-05-15T17:57:13.410Z"
   },
   {
    "duration": 0,
    "start_time": "2023-05-15T17:57:13.411Z"
   },
   {
    "duration": 0,
    "start_time": "2023-05-15T17:57:13.412Z"
   },
   {
    "duration": 0,
    "start_time": "2023-05-15T17:57:13.413Z"
   },
   {
    "duration": 0,
    "start_time": "2023-05-15T17:57:13.415Z"
   },
   {
    "duration": 0,
    "start_time": "2023-05-15T17:57:13.416Z"
   },
   {
    "duration": 0,
    "start_time": "2023-05-15T17:57:13.417Z"
   },
   {
    "duration": 0,
    "start_time": "2023-05-15T17:57:13.418Z"
   },
   {
    "duration": 0,
    "start_time": "2023-05-15T17:57:13.420Z"
   },
   {
    "duration": 0,
    "start_time": "2023-05-15T17:57:13.421Z"
   },
   {
    "duration": 0,
    "start_time": "2023-05-15T17:57:13.422Z"
   },
   {
    "duration": 199,
    "start_time": "2023-05-15T17:57:36.962Z"
   },
   {
    "duration": 164,
    "start_time": "2023-05-15T17:58:11.969Z"
   },
   {
    "duration": 74,
    "start_time": "2023-05-15T17:58:58.173Z"
   },
   {
    "duration": 189,
    "start_time": "2023-05-15T18:00:27.065Z"
   },
   {
    "duration": 187,
    "start_time": "2023-05-15T18:01:20.041Z"
   },
   {
    "duration": 1393,
    "start_time": "2023-05-15T18:03:37.135Z"
   },
   {
    "duration": 77,
    "start_time": "2023-05-15T18:03:38.531Z"
   },
   {
    "duration": 16,
    "start_time": "2023-05-15T18:03:38.610Z"
   },
   {
    "duration": 42,
    "start_time": "2023-05-15T18:03:38.628Z"
   },
   {
    "duration": 13,
    "start_time": "2023-05-15T18:03:38.672Z"
   },
   {
    "duration": 17,
    "start_time": "2023-05-15T18:03:38.688Z"
   },
   {
    "duration": 23,
    "start_time": "2023-05-15T18:03:38.706Z"
   },
   {
    "duration": 16,
    "start_time": "2023-05-15T18:03:38.731Z"
   },
   {
    "duration": 42,
    "start_time": "2023-05-15T18:03:38.749Z"
   },
   {
    "duration": 17,
    "start_time": "2023-05-15T18:03:38.795Z"
   },
   {
    "duration": 17,
    "start_time": "2023-05-15T18:03:38.814Z"
   },
   {
    "duration": 27,
    "start_time": "2023-05-15T18:03:38.833Z"
   },
   {
    "duration": 12,
    "start_time": "2023-05-15T18:03:38.862Z"
   },
   {
    "duration": 22,
    "start_time": "2023-05-15T18:03:38.876Z"
   },
   {
    "duration": 13,
    "start_time": "2023-05-15T18:03:38.900Z"
   },
   {
    "duration": 18,
    "start_time": "2023-05-15T18:03:38.916Z"
   },
   {
    "duration": 12,
    "start_time": "2023-05-15T18:03:38.936Z"
   },
   {
    "duration": 7,
    "start_time": "2023-05-15T18:03:38.951Z"
   },
   {
    "duration": 12,
    "start_time": "2023-05-15T18:03:38.960Z"
   },
   {
    "duration": 254,
    "start_time": "2023-05-15T18:03:38.974Z"
   },
   {
    "duration": 217,
    "start_time": "2023-05-15T18:03:39.230Z"
   },
   {
    "duration": 9,
    "start_time": "2023-05-15T18:03:39.450Z"
   },
   {
    "duration": 256,
    "start_time": "2023-05-15T18:03:39.461Z"
   },
   {
    "duration": 12,
    "start_time": "2023-05-15T18:03:39.718Z"
   },
   {
    "duration": 431,
    "start_time": "2023-05-15T18:03:39.733Z"
   },
   {
    "duration": 90,
    "start_time": "2023-05-15T18:03:40.166Z"
   },
   {
    "duration": 11,
    "start_time": "2023-05-15T18:03:40.258Z"
   },
   {
    "duration": 34,
    "start_time": "2023-05-15T18:03:40.273Z"
   },
   {
    "duration": 5,
    "start_time": "2023-05-15T18:03:40.309Z"
   },
   {
    "duration": 21,
    "start_time": "2023-05-15T18:03:40.315Z"
   },
   {
    "duration": 43,
    "start_time": "2023-05-15T18:03:40.338Z"
   },
   {
    "duration": 7,
    "start_time": "2023-05-15T18:03:40.383Z"
   },
   {
    "duration": 18,
    "start_time": "2023-05-15T18:03:40.392Z"
   },
   {
    "duration": 18,
    "start_time": "2023-05-15T18:03:40.411Z"
   },
   {
    "duration": 12,
    "start_time": "2023-05-15T18:03:40.431Z"
   },
   {
    "duration": 22,
    "start_time": "2023-05-15T18:03:40.446Z"
   },
   {
    "duration": 442,
    "start_time": "2023-05-15T18:03:40.470Z"
   },
   {
    "duration": 10,
    "start_time": "2023-05-15T18:03:40.913Z"
   },
   {
    "duration": 10,
    "start_time": "2023-05-15T18:03:40.924Z"
   },
   {
    "duration": 452,
    "start_time": "2023-05-15T18:03:40.936Z"
   },
   {
    "duration": 12,
    "start_time": "2023-05-15T18:03:41.389Z"
   },
   {
    "duration": 29,
    "start_time": "2023-05-15T18:03:41.403Z"
   },
   {
    "duration": 7,
    "start_time": "2023-05-15T18:03:41.434Z"
   },
   {
    "duration": 34,
    "start_time": "2023-05-15T18:03:41.443Z"
   },
   {
    "duration": 20,
    "start_time": "2023-05-15T18:03:41.480Z"
   },
   {
    "duration": 4,
    "start_time": "2023-05-15T18:03:41.502Z"
   },
   {
    "duration": 45,
    "start_time": "2023-05-15T18:03:41.508Z"
   },
   {
    "duration": 12,
    "start_time": "2023-05-15T18:03:41.555Z"
   },
   {
    "duration": 30,
    "start_time": "2023-05-15T18:03:41.570Z"
   },
   {
    "duration": 17,
    "start_time": "2023-05-15T18:03:41.602Z"
   },
   {
    "duration": 7,
    "start_time": "2023-05-15T18:03:41.621Z"
   },
   {
    "duration": 20,
    "start_time": "2023-05-15T18:03:41.630Z"
   },
   {
    "duration": 20,
    "start_time": "2023-05-15T18:03:41.653Z"
   },
   {
    "duration": 25,
    "start_time": "2023-05-15T18:03:41.676Z"
   },
   {
    "duration": 17,
    "start_time": "2023-05-15T18:03:41.703Z"
   },
   {
    "duration": 17,
    "start_time": "2023-05-15T18:03:41.722Z"
   },
   {
    "duration": 63,
    "start_time": "2023-05-15T18:03:41.741Z"
   },
   {
    "duration": 14,
    "start_time": "2023-05-15T18:03:41.806Z"
   },
   {
    "duration": 272,
    "start_time": "2023-05-15T18:04:42.582Z"
   },
   {
    "duration": 279,
    "start_time": "2023-05-15T18:05:04.346Z"
   },
   {
    "duration": 311,
    "start_time": "2023-05-15T18:05:38.546Z"
   },
   {
    "duration": 320,
    "start_time": "2023-05-15T18:06:19.484Z"
   },
   {
    "duration": 348,
    "start_time": "2023-05-15T18:06:37.903Z"
   },
   {
    "duration": 336,
    "start_time": "2023-05-15T18:06:56.042Z"
   },
   {
    "duration": 183,
    "start_time": "2023-05-15T18:07:06.648Z"
   },
   {
    "duration": 157,
    "start_time": "2023-05-15T18:07:13.864Z"
   },
   {
    "duration": 165,
    "start_time": "2023-05-15T18:10:38.812Z"
   },
   {
    "duration": 153,
    "start_time": "2023-05-15T18:11:17.772Z"
   },
   {
    "duration": 251,
    "start_time": "2023-05-15T18:11:43.809Z"
   },
   {
    "duration": 260,
    "start_time": "2023-05-15T18:11:56.185Z"
   },
   {
    "duration": 540,
    "start_time": "2023-05-15T18:15:46.103Z"
   },
   {
    "duration": 20,
    "start_time": "2023-05-15T18:21:40.519Z"
   },
   {
    "duration": 9,
    "start_time": "2023-05-15T18:21:42.985Z"
   },
   {
    "duration": 79,
    "start_time": "2023-05-15T18:24:53.862Z"
   },
   {
    "duration": 37,
    "start_time": "2023-05-15T18:25:04.702Z"
   },
   {
    "duration": 4,
    "start_time": "2023-05-15T18:25:31.562Z"
   },
   {
    "duration": 35,
    "start_time": "2023-05-15T18:25:32.645Z"
   },
   {
    "duration": 15,
    "start_time": "2023-05-15T19:28:01.886Z"
   },
   {
    "duration": 1589,
    "start_time": "2023-05-15T19:28:24.364Z"
   },
   {
    "duration": 0,
    "start_time": "2023-05-15T19:28:25.955Z"
   },
   {
    "duration": 1036,
    "start_time": "2023-05-15T19:28:42.302Z"
   },
   {
    "duration": 72,
    "start_time": "2023-05-15T19:28:43.340Z"
   },
   {
    "duration": 12,
    "start_time": "2023-05-15T19:28:43.417Z"
   },
   {
    "duration": 37,
    "start_time": "2023-05-15T19:28:43.431Z"
   },
   {
    "duration": 19,
    "start_time": "2023-05-15T19:28:43.470Z"
   },
   {
    "duration": 31,
    "start_time": "2023-05-15T19:28:43.490Z"
   },
   {
    "duration": 31,
    "start_time": "2023-05-15T19:28:43.522Z"
   },
   {
    "duration": 18,
    "start_time": "2023-05-15T19:28:43.555Z"
   },
   {
    "duration": 41,
    "start_time": "2023-05-15T19:28:43.574Z"
   },
   {
    "duration": 12,
    "start_time": "2023-05-15T19:28:43.616Z"
   },
   {
    "duration": 17,
    "start_time": "2023-05-15T19:28:43.629Z"
   },
   {
    "duration": 14,
    "start_time": "2023-05-15T19:28:43.648Z"
   },
   {
    "duration": 14,
    "start_time": "2023-05-15T19:28:43.663Z"
   },
   {
    "duration": 23,
    "start_time": "2023-05-15T19:28:43.679Z"
   },
   {
    "duration": 20,
    "start_time": "2023-05-15T19:28:43.703Z"
   },
   {
    "duration": 25,
    "start_time": "2023-05-15T19:28:43.726Z"
   },
   {
    "duration": 11,
    "start_time": "2023-05-15T19:28:43.753Z"
   },
   {
    "duration": 30,
    "start_time": "2023-05-15T19:28:43.765Z"
   },
   {
    "duration": 23,
    "start_time": "2023-05-15T19:28:43.797Z"
   },
   {
    "duration": 186,
    "start_time": "2023-05-15T19:28:43.821Z"
   },
   {
    "duration": 157,
    "start_time": "2023-05-15T19:28:44.011Z"
   },
   {
    "duration": 8,
    "start_time": "2023-05-15T19:28:44.170Z"
   },
   {
    "duration": 159,
    "start_time": "2023-05-15T19:28:44.179Z"
   },
   {
    "duration": 8,
    "start_time": "2023-05-15T19:28:44.340Z"
   },
   {
    "duration": 285,
    "start_time": "2023-05-15T19:28:44.349Z"
   },
   {
    "duration": 78,
    "start_time": "2023-05-15T19:28:44.636Z"
   },
   {
    "duration": 9,
    "start_time": "2023-05-15T19:28:44.716Z"
   },
   {
    "duration": 65,
    "start_time": "2023-05-15T19:28:44.727Z"
   },
   {
    "duration": 48,
    "start_time": "2023-05-15T19:28:44.794Z"
   },
   {
    "duration": 16,
    "start_time": "2023-05-15T19:28:44.844Z"
   },
   {
    "duration": 89,
    "start_time": "2023-05-15T19:28:44.862Z"
   },
   {
    "duration": 30,
    "start_time": "2023-05-15T19:28:44.953Z"
   },
   {
    "duration": 21,
    "start_time": "2023-05-15T19:28:44.985Z"
   },
   {
    "duration": 50,
    "start_time": "2023-05-15T19:28:45.009Z"
   },
   {
    "duration": 35,
    "start_time": "2023-05-15T19:28:45.061Z"
   },
   {
    "duration": 59,
    "start_time": "2023-05-15T19:28:45.097Z"
   },
   {
    "duration": 356,
    "start_time": "2023-05-15T19:28:45.158Z"
   },
   {
    "duration": 7,
    "start_time": "2023-05-15T19:28:45.515Z"
   },
   {
    "duration": 63,
    "start_time": "2023-05-15T19:28:45.524Z"
   },
   {
    "duration": 389,
    "start_time": "2023-05-15T19:28:45.588Z"
   },
   {
    "duration": 25,
    "start_time": "2023-05-15T19:28:45.980Z"
   },
   {
    "duration": 10,
    "start_time": "2023-05-15T19:28:46.006Z"
   },
   {
    "duration": 24,
    "start_time": "2023-05-15T19:28:46.017Z"
   },
   {
    "duration": 65,
    "start_time": "2023-05-15T19:28:46.043Z"
   },
   {
    "duration": 16,
    "start_time": "2023-05-15T19:28:46.110Z"
   },
   {
    "duration": 16,
    "start_time": "2023-05-15T19:28:46.128Z"
   },
   {
    "duration": 53,
    "start_time": "2023-05-15T19:28:46.146Z"
   },
   {
    "duration": 16,
    "start_time": "2023-05-15T19:28:46.200Z"
   },
   {
    "duration": 21,
    "start_time": "2023-05-15T19:28:46.217Z"
   },
   {
    "duration": 1572,
    "start_time": "2023-05-15T19:28:46.240Z"
   },
   {
    "duration": 0,
    "start_time": "2023-05-15T19:28:47.814Z"
   },
   {
    "duration": 0,
    "start_time": "2023-05-15T19:28:47.815Z"
   },
   {
    "duration": 0,
    "start_time": "2023-05-15T19:28:47.816Z"
   },
   {
    "duration": 0,
    "start_time": "2023-05-15T19:28:47.817Z"
   },
   {
    "duration": 0,
    "start_time": "2023-05-15T19:28:47.818Z"
   },
   {
    "duration": 0,
    "start_time": "2023-05-15T19:28:47.819Z"
   },
   {
    "duration": 0,
    "start_time": "2023-05-15T19:28:47.820Z"
   },
   {
    "duration": 0,
    "start_time": "2023-05-15T19:28:47.821Z"
   },
   {
    "duration": 0,
    "start_time": "2023-05-15T19:28:47.822Z"
   },
   {
    "duration": 1322,
    "start_time": "2023-05-15T19:28:56.840Z"
   },
   {
    "duration": 27,
    "start_time": "2023-05-15T19:31:30.861Z"
   },
   {
    "duration": 7,
    "start_time": "2023-05-15T19:37:40.928Z"
   },
   {
    "duration": 16,
    "start_time": "2023-05-15T19:38:22.557Z"
   },
   {
    "duration": 14,
    "start_time": "2023-05-15T19:38:34.697Z"
   },
   {
    "duration": 3,
    "start_time": "2023-05-15T19:41:06.886Z"
   },
   {
    "duration": 13,
    "start_time": "2023-05-15T19:41:12.002Z"
   },
   {
    "duration": 12,
    "start_time": "2023-05-15T19:41:24.296Z"
   },
   {
    "duration": 16,
    "start_time": "2023-05-15T19:41:24.804Z"
   },
   {
    "duration": 1447,
    "start_time": "2023-05-16T06:14:06.964Z"
   },
   {
    "duration": 212,
    "start_time": "2023-05-16T06:14:08.413Z"
   },
   {
    "duration": 12,
    "start_time": "2023-05-16T06:14:08.627Z"
   },
   {
    "duration": 16,
    "start_time": "2023-05-16T06:14:08.641Z"
   },
   {
    "duration": 15,
    "start_time": "2023-05-16T06:14:08.659Z"
   },
   {
    "duration": 8,
    "start_time": "2023-05-16T06:14:08.676Z"
   },
   {
    "duration": 12,
    "start_time": "2023-05-16T06:14:08.686Z"
   },
   {
    "duration": 9,
    "start_time": "2023-05-16T06:14:08.700Z"
   },
   {
    "duration": 15,
    "start_time": "2023-05-16T06:14:08.711Z"
   },
   {
    "duration": 11,
    "start_time": "2023-05-16T06:14:08.730Z"
   },
   {
    "duration": 6,
    "start_time": "2023-05-16T06:14:08.743Z"
   },
   {
    "duration": 12,
    "start_time": "2023-05-16T06:14:08.751Z"
   },
   {
    "duration": 34,
    "start_time": "2023-05-16T06:14:08.765Z"
   },
   {
    "duration": 10,
    "start_time": "2023-05-16T06:14:08.801Z"
   },
   {
    "duration": 14,
    "start_time": "2023-05-16T06:14:08.813Z"
   },
   {
    "duration": 13,
    "start_time": "2023-05-16T06:14:08.828Z"
   },
   {
    "duration": 5,
    "start_time": "2023-05-16T06:14:08.843Z"
   },
   {
    "duration": 7,
    "start_time": "2023-05-16T06:14:08.849Z"
   },
   {
    "duration": 7,
    "start_time": "2023-05-16T06:14:08.857Z"
   },
   {
    "duration": 226,
    "start_time": "2023-05-16T06:14:08.866Z"
   },
   {
    "duration": 213,
    "start_time": "2023-05-16T06:14:09.097Z"
   },
   {
    "duration": 8,
    "start_time": "2023-05-16T06:14:09.313Z"
   },
   {
    "duration": 186,
    "start_time": "2023-05-16T06:14:09.323Z"
   },
   {
    "duration": 9,
    "start_time": "2023-05-16T06:14:09.511Z"
   },
   {
    "duration": 304,
    "start_time": "2023-05-16T06:14:09.522Z"
   },
   {
    "duration": 82,
    "start_time": "2023-05-16T06:14:09.828Z"
   },
   {
    "duration": 9,
    "start_time": "2023-05-16T06:14:09.912Z"
   },
   {
    "duration": 22,
    "start_time": "2023-05-16T06:14:09.925Z"
   },
   {
    "duration": 4,
    "start_time": "2023-05-16T06:14:09.948Z"
   },
   {
    "duration": 11,
    "start_time": "2023-05-16T06:14:09.954Z"
   },
   {
    "duration": 7,
    "start_time": "2023-05-16T06:14:09.967Z"
   },
   {
    "duration": 22,
    "start_time": "2023-05-16T06:14:09.976Z"
   },
   {
    "duration": 28,
    "start_time": "2023-05-16T06:14:10.000Z"
   },
   {
    "duration": 17,
    "start_time": "2023-05-16T06:14:10.030Z"
   },
   {
    "duration": 33,
    "start_time": "2023-05-16T06:14:10.049Z"
   },
   {
    "duration": 39,
    "start_time": "2023-05-16T06:14:10.084Z"
   },
   {
    "duration": 348,
    "start_time": "2023-05-16T06:14:10.125Z"
   },
   {
    "duration": 9,
    "start_time": "2023-05-16T06:14:10.475Z"
   },
   {
    "duration": 19,
    "start_time": "2023-05-16T06:14:10.486Z"
   },
   {
    "duration": 429,
    "start_time": "2023-05-16T06:14:10.507Z"
   },
   {
    "duration": 8,
    "start_time": "2023-05-16T06:14:10.938Z"
   },
   {
    "duration": 12,
    "start_time": "2023-05-16T06:14:10.948Z"
   },
   {
    "duration": 8,
    "start_time": "2023-05-16T06:14:10.961Z"
   },
   {
    "duration": 50,
    "start_time": "2023-05-16T06:14:10.970Z"
   },
   {
    "duration": 3,
    "start_time": "2023-05-16T06:14:11.022Z"
   },
   {
    "duration": 20,
    "start_time": "2023-05-16T06:14:11.026Z"
   },
   {
    "duration": 7,
    "start_time": "2023-05-16T06:14:11.047Z"
   },
   {
    "duration": 123,
    "start_time": "2023-05-16T06:14:11.055Z"
   },
   {
    "duration": 0,
    "start_time": "2023-05-16T06:14:11.180Z"
   },
   {
    "duration": 0,
    "start_time": "2023-05-16T06:14:11.182Z"
   },
   {
    "duration": 0,
    "start_time": "2023-05-16T06:14:11.183Z"
   },
   {
    "duration": 0,
    "start_time": "2023-05-16T06:14:11.186Z"
   },
   {
    "duration": 0,
    "start_time": "2023-05-16T06:14:11.187Z"
   },
   {
    "duration": 0,
    "start_time": "2023-05-16T06:14:11.188Z"
   },
   {
    "duration": 0,
    "start_time": "2023-05-16T06:14:11.197Z"
   },
   {
    "duration": 0,
    "start_time": "2023-05-16T06:14:11.199Z"
   },
   {
    "duration": 0,
    "start_time": "2023-05-16T06:14:11.200Z"
   },
   {
    "duration": 0,
    "start_time": "2023-05-16T06:14:11.201Z"
   },
   {
    "duration": 0,
    "start_time": "2023-05-16T06:14:11.202Z"
   },
   {
    "duration": 0,
    "start_time": "2023-05-16T06:14:11.203Z"
   },
   {
    "duration": 34,
    "start_time": "2023-05-16T06:14:41.375Z"
   },
   {
    "duration": 12,
    "start_time": "2023-05-16T06:14:42.265Z"
   },
   {
    "duration": 38,
    "start_time": "2023-05-16T06:14:46.180Z"
   },
   {
    "duration": 19,
    "start_time": "2023-05-16T06:16:58.184Z"
   },
   {
    "duration": 5,
    "start_time": "2023-05-16T06:17:08.485Z"
   },
   {
    "duration": 1468,
    "start_time": "2023-05-16T06:17:41.027Z"
   },
   {
    "duration": 1437,
    "start_time": "2023-05-16T06:17:51.990Z"
   },
   {
    "duration": 76,
    "start_time": "2023-05-16T06:20:32.270Z"
   },
   {
    "duration": 19,
    "start_time": "2023-05-16T06:20:47.012Z"
   },
   {
    "duration": 20,
    "start_time": "2023-05-16T06:20:59.862Z"
   },
   {
    "duration": 22,
    "start_time": "2023-05-16T06:21:07.388Z"
   },
   {
    "duration": 20,
    "start_time": "2023-05-16T06:21:16.165Z"
   },
   {
    "duration": 32,
    "start_time": "2023-05-16T06:21:22.857Z"
   },
   {
    "duration": 14,
    "start_time": "2023-05-16T06:21:26.461Z"
   },
   {
    "duration": 48,
    "start_time": "2023-05-16T15:48:45.118Z"
   },
   {
    "duration": 8,
    "start_time": "2023-05-16T15:48:50.642Z"
   },
   {
    "duration": 7,
    "start_time": "2023-05-16T15:48:51.434Z"
   },
   {
    "duration": 1471,
    "start_time": "2023-05-16T15:48:57.813Z"
   },
   {
    "duration": 434,
    "start_time": "2023-05-16T15:48:59.288Z"
   },
   {
    "duration": 13,
    "start_time": "2023-05-16T15:48:59.723Z"
   },
   {
    "duration": 23,
    "start_time": "2023-05-16T15:48:59.738Z"
   },
   {
    "duration": 23,
    "start_time": "2023-05-16T15:48:59.763Z"
   },
   {
    "duration": 22,
    "start_time": "2023-05-16T15:48:59.796Z"
   },
   {
    "duration": 10,
    "start_time": "2023-05-16T15:48:59.820Z"
   },
   {
    "duration": 8,
    "start_time": "2023-05-16T15:48:59.831Z"
   },
   {
    "duration": 10,
    "start_time": "2023-05-16T15:48:59.840Z"
   },
   {
    "duration": 10,
    "start_time": "2023-05-16T15:48:59.851Z"
   },
   {
    "duration": 6,
    "start_time": "2023-05-16T15:48:59.862Z"
   },
   {
    "duration": 27,
    "start_time": "2023-05-16T15:48:59.880Z"
   },
   {
    "duration": 12,
    "start_time": "2023-05-16T15:48:59.908Z"
   },
   {
    "duration": 8,
    "start_time": "2023-05-16T15:48:59.924Z"
   },
   {
    "duration": 5,
    "start_time": "2023-05-16T15:48:59.934Z"
   },
   {
    "duration": 15,
    "start_time": "2023-05-16T15:48:59.941Z"
   },
   {
    "duration": 5,
    "start_time": "2023-05-16T15:48:59.958Z"
   },
   {
    "duration": 17,
    "start_time": "2023-05-16T15:48:59.964Z"
   },
   {
    "duration": 14,
    "start_time": "2023-05-16T15:48:59.987Z"
   },
   {
    "duration": 219,
    "start_time": "2023-05-16T15:49:00.005Z"
   },
   {
    "duration": 217,
    "start_time": "2023-05-16T15:49:00.226Z"
   },
   {
    "duration": 8,
    "start_time": "2023-05-16T15:49:00.445Z"
   },
   {
    "duration": 255,
    "start_time": "2023-05-16T15:49:00.455Z"
   },
   {
    "duration": 15,
    "start_time": "2023-05-16T15:49:00.712Z"
   },
   {
    "duration": 374,
    "start_time": "2023-05-16T15:49:00.729Z"
   },
   {
    "duration": 96,
    "start_time": "2023-05-16T15:49:01.105Z"
   },
   {
    "duration": 14,
    "start_time": "2023-05-16T15:49:01.203Z"
   },
   {
    "duration": 43,
    "start_time": "2023-05-16T15:49:01.222Z"
   },
   {
    "duration": 33,
    "start_time": "2023-05-16T15:49:01.268Z"
   },
   {
    "duration": 39,
    "start_time": "2023-05-16T15:49:01.303Z"
   },
   {
    "duration": 62,
    "start_time": "2023-05-16T15:49:01.343Z"
   },
   {
    "duration": 23,
    "start_time": "2023-05-16T15:49:01.414Z"
   },
   {
    "duration": 24,
    "start_time": "2023-05-16T15:49:01.438Z"
   },
   {
    "duration": 69,
    "start_time": "2023-05-16T15:49:01.464Z"
   },
   {
    "duration": 49,
    "start_time": "2023-05-16T15:49:01.535Z"
   },
   {
    "duration": 68,
    "start_time": "2023-05-16T15:49:01.585Z"
   },
   {
    "duration": 438,
    "start_time": "2023-05-16T15:49:01.654Z"
   },
   {
    "duration": 13,
    "start_time": "2023-05-16T15:49:02.095Z"
   },
   {
    "duration": 36,
    "start_time": "2023-05-16T15:49:02.113Z"
   },
   {
    "duration": 478,
    "start_time": "2023-05-16T15:49:02.150Z"
   },
   {
    "duration": 8,
    "start_time": "2023-05-16T15:49:02.633Z"
   },
   {
    "duration": 13,
    "start_time": "2023-05-16T15:49:02.642Z"
   },
   {
    "duration": 5,
    "start_time": "2023-05-16T15:49:02.657Z"
   },
   {
    "duration": 50,
    "start_time": "2023-05-16T15:49:02.680Z"
   },
   {
    "duration": 12,
    "start_time": "2023-05-16T15:49:02.732Z"
   },
   {
    "duration": 18,
    "start_time": "2023-05-16T15:49:02.746Z"
   },
   {
    "duration": 35,
    "start_time": "2023-05-16T15:49:02.766Z"
   },
   {
    "duration": 60,
    "start_time": "2023-05-16T15:49:02.804Z"
   },
   {
    "duration": 29,
    "start_time": "2023-05-16T15:49:02.866Z"
   },
   {
    "duration": 9,
    "start_time": "2023-05-16T15:49:02.902Z"
   },
   {
    "duration": 1447,
    "start_time": "2023-05-16T15:49:02.914Z"
   },
   {
    "duration": 0,
    "start_time": "2023-05-16T15:49:04.363Z"
   },
   {
    "duration": 0,
    "start_time": "2023-05-16T15:49:04.365Z"
   },
   {
    "duration": 0,
    "start_time": "2023-05-16T15:49:04.367Z"
   },
   {
    "duration": 0,
    "start_time": "2023-05-16T15:49:04.368Z"
   },
   {
    "duration": 0,
    "start_time": "2023-05-16T15:49:04.370Z"
   },
   {
    "duration": 0,
    "start_time": "2023-05-16T15:49:04.372Z"
   },
   {
    "duration": 0,
    "start_time": "2023-05-16T15:49:04.373Z"
   },
   {
    "duration": 0,
    "start_time": "2023-05-16T15:49:04.374Z"
   },
   {
    "duration": 0,
    "start_time": "2023-05-16T15:49:04.375Z"
   },
   {
    "duration": 8,
    "start_time": "2023-05-16T15:49:50.202Z"
   },
   {
    "duration": 13,
    "start_time": "2023-05-16T15:49:59.955Z"
   },
   {
    "duration": 54,
    "start_time": "2023-05-16T15:54:00.611Z"
   },
   {
    "duration": 15,
    "start_time": "2023-05-16T15:54:01.347Z"
   },
   {
    "duration": 14,
    "start_time": "2023-05-16T15:54:07.906Z"
   },
   {
    "duration": 14,
    "start_time": "2023-05-16T15:55:16.248Z"
   },
   {
    "duration": 1261,
    "start_time": "2023-05-16T19:02:14.988Z"
   },
   {
    "duration": 299,
    "start_time": "2023-05-16T19:02:16.251Z"
   },
   {
    "duration": 12,
    "start_time": "2023-05-16T19:02:16.552Z"
   },
   {
    "duration": 12,
    "start_time": "2023-05-16T19:02:16.566Z"
   },
   {
    "duration": 11,
    "start_time": "2023-05-16T19:02:16.579Z"
   },
   {
    "duration": 10,
    "start_time": "2023-05-16T19:02:16.592Z"
   },
   {
    "duration": 10,
    "start_time": "2023-05-16T19:02:16.604Z"
   },
   {
    "duration": 9,
    "start_time": "2023-05-16T19:02:16.625Z"
   },
   {
    "duration": 12,
    "start_time": "2023-05-16T19:02:16.635Z"
   },
   {
    "duration": 10,
    "start_time": "2023-05-16T19:02:16.651Z"
   },
   {
    "duration": 6,
    "start_time": "2023-05-16T19:02:16.662Z"
   },
   {
    "duration": 8,
    "start_time": "2023-05-16T19:02:16.670Z"
   },
   {
    "duration": 46,
    "start_time": "2023-05-16T19:02:16.680Z"
   },
   {
    "duration": 8,
    "start_time": "2023-05-16T19:02:16.728Z"
   },
   {
    "duration": 10,
    "start_time": "2023-05-16T19:02:16.737Z"
   },
   {
    "duration": 23,
    "start_time": "2023-05-16T19:02:16.749Z"
   },
   {
    "duration": 7,
    "start_time": "2023-05-16T19:02:16.773Z"
   },
   {
    "duration": 5,
    "start_time": "2023-05-16T19:02:16.782Z"
   },
   {
    "duration": 6,
    "start_time": "2023-05-16T19:02:16.788Z"
   },
   {
    "duration": 178,
    "start_time": "2023-05-16T19:02:16.796Z"
   },
   {
    "duration": 193,
    "start_time": "2023-05-16T19:02:16.975Z"
   },
   {
    "duration": 9,
    "start_time": "2023-05-16T19:02:17.169Z"
   },
   {
    "duration": 165,
    "start_time": "2023-05-16T19:02:17.179Z"
   },
   {
    "duration": 7,
    "start_time": "2023-05-16T19:02:17.346Z"
   },
   {
    "duration": 243,
    "start_time": "2023-05-16T19:02:17.354Z"
   },
   {
    "duration": 66,
    "start_time": "2023-05-16T19:02:17.598Z"
   },
   {
    "duration": 8,
    "start_time": "2023-05-16T19:02:17.666Z"
   },
   {
    "duration": 18,
    "start_time": "2023-05-16T19:02:17.677Z"
   },
   {
    "duration": 4,
    "start_time": "2023-05-16T19:02:17.696Z"
   },
   {
    "duration": 23,
    "start_time": "2023-05-16T19:02:17.702Z"
   },
   {
    "duration": 4,
    "start_time": "2023-05-16T19:02:17.727Z"
   },
   {
    "duration": 4,
    "start_time": "2023-05-16T19:02:17.733Z"
   },
   {
    "duration": 12,
    "start_time": "2023-05-16T19:02:17.739Z"
   },
   {
    "duration": 12,
    "start_time": "2023-05-16T19:02:17.752Z"
   },
   {
    "duration": 11,
    "start_time": "2023-05-16T19:02:17.766Z"
   },
   {
    "duration": 54,
    "start_time": "2023-05-16T19:02:17.779Z"
   },
   {
    "duration": 330,
    "start_time": "2023-05-16T19:02:17.835Z"
   },
   {
    "duration": 10,
    "start_time": "2023-05-16T19:02:18.167Z"
   },
   {
    "duration": 10,
    "start_time": "2023-05-16T19:02:18.178Z"
   },
   {
    "duration": 419,
    "start_time": "2023-05-16T19:02:18.189Z"
   },
   {
    "duration": 15,
    "start_time": "2023-05-16T19:02:18.610Z"
   },
   {
    "duration": 19,
    "start_time": "2023-05-16T19:02:18.627Z"
   },
   {
    "duration": 4,
    "start_time": "2023-05-16T19:02:18.647Z"
   },
   {
    "duration": 30,
    "start_time": "2023-05-16T19:02:18.653Z"
   },
   {
    "duration": 14,
    "start_time": "2023-05-16T19:02:18.685Z"
   },
   {
    "duration": 28,
    "start_time": "2023-05-16T19:02:18.701Z"
   },
   {
    "duration": 10,
    "start_time": "2023-05-16T19:02:18.731Z"
   },
   {
    "duration": 14,
    "start_time": "2023-05-16T19:02:18.743Z"
   },
   {
    "duration": 125,
    "start_time": "2023-05-16T19:02:18.759Z"
   },
   {
    "duration": 0,
    "start_time": "2023-05-16T19:02:18.885Z"
   },
   {
    "duration": 0,
    "start_time": "2023-05-16T19:02:18.887Z"
   },
   {
    "duration": 0,
    "start_time": "2023-05-16T19:02:18.889Z"
   },
   {
    "duration": 0,
    "start_time": "2023-05-16T19:02:18.890Z"
   },
   {
    "duration": 0,
    "start_time": "2023-05-16T19:02:18.891Z"
   },
   {
    "duration": 0,
    "start_time": "2023-05-16T19:02:18.892Z"
   },
   {
    "duration": 0,
    "start_time": "2023-05-16T19:02:18.893Z"
   },
   {
    "duration": 0,
    "start_time": "2023-05-16T19:02:18.894Z"
   },
   {
    "duration": 0,
    "start_time": "2023-05-16T19:02:18.895Z"
   },
   {
    "duration": 1,
    "start_time": "2023-05-16T19:02:18.896Z"
   },
   {
    "duration": 0,
    "start_time": "2023-05-16T19:02:18.897Z"
   },
   {
    "duration": 0,
    "start_time": "2023-05-16T19:02:18.898Z"
   },
   {
    "duration": 3,
    "start_time": "2023-05-16T19:04:46.823Z"
   },
   {
    "duration": 9,
    "start_time": "2023-05-16T19:04:55.413Z"
   },
   {
    "duration": 3,
    "start_time": "2023-05-16T19:05:09.809Z"
   },
   {
    "duration": 9,
    "start_time": "2023-05-16T19:05:10.305Z"
   },
   {
    "duration": 3,
    "start_time": "2023-05-16T19:05:18.589Z"
   },
   {
    "duration": 36,
    "start_time": "2023-05-16T19:05:19.345Z"
   },
   {
    "duration": 3,
    "start_time": "2023-05-16T19:05:19.905Z"
   },
   {
    "duration": 10,
    "start_time": "2023-05-16T19:05:20.331Z"
   },
   {
    "duration": 4,
    "start_time": "2023-05-16T19:05:26.608Z"
   },
   {
    "duration": 26,
    "start_time": "2023-05-16T19:05:26.961Z"
   },
   {
    "duration": 4,
    "start_time": "2023-05-16T19:05:27.392Z"
   },
   {
    "duration": 11,
    "start_time": "2023-05-16T19:05:28.113Z"
   },
   {
    "duration": 4,
    "start_time": "2023-05-16T19:05:36.749Z"
   },
   {
    "duration": 13,
    "start_time": "2023-05-16T19:05:39.158Z"
   },
   {
    "duration": 14,
    "start_time": "2023-05-16T19:05:51.550Z"
   },
   {
    "duration": 3,
    "start_time": "2023-05-16T19:06:11.064Z"
   },
   {
    "duration": 9,
    "start_time": "2023-05-16T19:06:11.385Z"
   },
   {
    "duration": 3,
    "start_time": "2023-05-16T19:06:15.293Z"
   },
   {
    "duration": 27,
    "start_time": "2023-05-16T19:06:15.619Z"
   },
   {
    "duration": 3,
    "start_time": "2023-05-16T19:06:15.993Z"
   },
   {
    "duration": 10,
    "start_time": "2023-05-16T19:06:16.590Z"
   },
   {
    "duration": 3,
    "start_time": "2023-05-16T19:06:22.085Z"
   },
   {
    "duration": 12,
    "start_time": "2023-05-16T19:06:22.746Z"
   },
   {
    "duration": 26,
    "start_time": "2023-05-16T19:06:31.189Z"
   },
   {
    "duration": 11,
    "start_time": "2023-05-16T19:06:34.109Z"
   },
   {
    "duration": 3,
    "start_time": "2023-05-16T19:06:38.001Z"
   },
   {
    "duration": 3,
    "start_time": "2023-05-16T19:09:00.909Z"
   },
   {
    "duration": 27,
    "start_time": "2023-05-16T19:09:01.244Z"
   },
   {
    "duration": 3,
    "start_time": "2023-05-16T19:09:01.705Z"
   },
   {
    "duration": 9,
    "start_time": "2023-05-16T19:09:02.438Z"
   },
   {
    "duration": 4,
    "start_time": "2023-05-16T19:09:10.444Z"
   },
   {
    "duration": 12,
    "start_time": "2023-05-16T19:09:10.857Z"
   },
   {
    "duration": 3,
    "start_time": "2023-05-16T19:09:15.780Z"
   },
   {
    "duration": 15,
    "start_time": "2023-05-16T19:09:16.189Z"
   },
   {
    "duration": 5,
    "start_time": "2023-05-16T19:09:16.755Z"
   },
   {
    "duration": 12,
    "start_time": "2023-05-16T19:09:17.344Z"
   },
   {
    "duration": 11,
    "start_time": "2023-05-16T19:09:21.289Z"
   },
   {
    "duration": 3,
    "start_time": "2023-05-16T19:09:34.427Z"
   },
   {
    "duration": 26,
    "start_time": "2023-05-16T19:09:34.833Z"
   },
   {
    "duration": 3,
    "start_time": "2023-05-16T19:09:35.385Z"
   },
   {
    "duration": 9,
    "start_time": "2023-05-16T19:09:36.027Z"
   },
   {
    "duration": 4,
    "start_time": "2023-05-16T19:09:40.760Z"
   },
   {
    "duration": 12,
    "start_time": "2023-05-16T19:09:41.457Z"
   },
   {
    "duration": 15,
    "start_time": "2023-05-16T19:09:58.592Z"
   },
   {
    "duration": 4,
    "start_time": "2023-05-16T19:10:05.813Z"
   },
   {
    "duration": 26,
    "start_time": "2023-05-16T19:10:06.302Z"
   },
   {
    "duration": 3,
    "start_time": "2023-05-16T19:10:06.753Z"
   },
   {
    "duration": 10,
    "start_time": "2023-05-16T19:10:07.347Z"
   },
   {
    "duration": 4,
    "start_time": "2023-05-16T19:10:11.076Z"
   },
   {
    "duration": 24,
    "start_time": "2023-05-16T19:10:11.537Z"
   },
   {
    "duration": 12,
    "start_time": "2023-05-16T19:10:12.521Z"
   },
   {
    "duration": 4,
    "start_time": "2023-05-16T19:10:14.424Z"
   },
   {
    "duration": 1072,
    "start_time": "2023-05-16T19:10:37.989Z"
   },
   {
    "duration": 66,
    "start_time": "2023-05-16T19:10:39.063Z"
   },
   {
    "duration": 13,
    "start_time": "2023-05-16T19:10:39.130Z"
   },
   {
    "duration": 11,
    "start_time": "2023-05-16T19:10:39.144Z"
   },
   {
    "duration": 10,
    "start_time": "2023-05-16T19:10:39.157Z"
   },
   {
    "duration": 6,
    "start_time": "2023-05-16T19:10:39.169Z"
   },
   {
    "duration": 9,
    "start_time": "2023-05-16T19:10:39.177Z"
   },
   {
    "duration": 12,
    "start_time": "2023-05-16T19:10:39.187Z"
   },
   {
    "duration": 32,
    "start_time": "2023-05-16T19:10:39.200Z"
   },
   {
    "duration": 11,
    "start_time": "2023-05-16T19:10:39.233Z"
   },
   {
    "duration": 6,
    "start_time": "2023-05-16T19:10:39.246Z"
   },
   {
    "duration": 9,
    "start_time": "2023-05-16T19:10:39.253Z"
   },
   {
    "duration": 6,
    "start_time": "2023-05-16T19:10:39.264Z"
   },
   {
    "duration": 4,
    "start_time": "2023-05-16T19:10:39.274Z"
   },
   {
    "duration": 50,
    "start_time": "2023-05-16T19:10:39.280Z"
   },
   {
    "duration": 13,
    "start_time": "2023-05-16T19:10:39.332Z"
   },
   {
    "duration": 6,
    "start_time": "2023-05-16T19:10:39.346Z"
   },
   {
    "duration": 4,
    "start_time": "2023-05-16T19:10:39.354Z"
   },
   {
    "duration": 5,
    "start_time": "2023-05-16T19:10:39.360Z"
   },
   {
    "duration": 184,
    "start_time": "2023-05-16T19:10:39.367Z"
   },
   {
    "duration": 165,
    "start_time": "2023-05-16T19:10:39.552Z"
   },
   {
    "duration": 7,
    "start_time": "2023-05-16T19:10:39.724Z"
   },
   {
    "duration": 149,
    "start_time": "2023-05-16T19:10:39.733Z"
   },
   {
    "duration": 8,
    "start_time": "2023-05-16T19:10:39.883Z"
   },
   {
    "duration": 252,
    "start_time": "2023-05-16T19:10:39.892Z"
   },
   {
    "duration": 58,
    "start_time": "2023-05-16T19:10:40.145Z"
   },
   {
    "duration": 7,
    "start_time": "2023-05-16T19:10:40.204Z"
   },
   {
    "duration": 24,
    "start_time": "2023-05-16T19:10:40.213Z"
   },
   {
    "duration": 3,
    "start_time": "2023-05-16T19:10:40.238Z"
   },
   {
    "duration": 5,
    "start_time": "2023-05-16T19:10:40.242Z"
   },
   {
    "duration": 4,
    "start_time": "2023-05-16T19:10:40.248Z"
   },
   {
    "duration": 3,
    "start_time": "2023-05-16T19:10:40.253Z"
   },
   {
    "duration": 11,
    "start_time": "2023-05-16T19:10:40.257Z"
   },
   {
    "duration": 11,
    "start_time": "2023-05-16T19:10:40.270Z"
   },
   {
    "duration": 44,
    "start_time": "2023-05-16T19:10:40.282Z"
   },
   {
    "duration": 13,
    "start_time": "2023-05-16T19:10:40.327Z"
   },
   {
    "duration": 304,
    "start_time": "2023-05-16T19:10:40.342Z"
   },
   {
    "duration": 7,
    "start_time": "2023-05-16T19:10:40.647Z"
   },
   {
    "duration": 9,
    "start_time": "2023-05-16T19:10:40.655Z"
   },
   {
    "duration": 353,
    "start_time": "2023-05-16T19:10:40.666Z"
   },
   {
    "duration": 7,
    "start_time": "2023-05-16T19:10:41.027Z"
   },
   {
    "duration": 7,
    "start_time": "2023-05-16T19:10:41.035Z"
   },
   {
    "duration": 3,
    "start_time": "2023-05-16T19:10:41.043Z"
   },
   {
    "duration": 28,
    "start_time": "2023-05-16T19:10:41.047Z"
   },
   {
    "duration": 3,
    "start_time": "2023-05-16T19:10:41.077Z"
   },
   {
    "duration": 10,
    "start_time": "2023-05-16T19:10:41.081Z"
   },
   {
    "duration": 34,
    "start_time": "2023-05-16T19:10:41.092Z"
   },
   {
    "duration": 25,
    "start_time": "2023-05-16T19:10:41.128Z"
   },
   {
    "duration": 10,
    "start_time": "2023-05-16T19:10:41.155Z"
   },
   {
    "duration": 4,
    "start_time": "2023-05-16T19:10:41.167Z"
   },
   {
    "duration": 808,
    "start_time": "2023-05-16T19:10:41.172Z"
   },
   {
    "duration": 0,
    "start_time": "2023-05-16T19:10:41.981Z"
   },
   {
    "duration": 0,
    "start_time": "2023-05-16T19:10:41.983Z"
   },
   {
    "duration": 0,
    "start_time": "2023-05-16T19:10:41.983Z"
   },
   {
    "duration": 0,
    "start_time": "2023-05-16T19:10:41.984Z"
   },
   {
    "duration": 0,
    "start_time": "2023-05-16T19:10:41.985Z"
   },
   {
    "duration": 0,
    "start_time": "2023-05-16T19:10:41.986Z"
   },
   {
    "duration": 0,
    "start_time": "2023-05-16T19:10:41.987Z"
   },
   {
    "duration": 0,
    "start_time": "2023-05-16T19:10:41.987Z"
   },
   {
    "duration": 0,
    "start_time": "2023-05-16T19:10:41.989Z"
   },
   {
    "duration": 21,
    "start_time": "2023-05-16T19:11:45.485Z"
   },
   {
    "duration": 5,
    "start_time": "2023-05-16T19:12:36.248Z"
   },
   {
    "duration": 3,
    "start_time": "2023-05-16T19:12:38.413Z"
   },
   {
    "duration": 13,
    "start_time": "2023-05-16T19:12:40.221Z"
   },
   {
    "duration": 24,
    "start_time": "2023-05-16T19:12:54.941Z"
   },
   {
    "duration": 5,
    "start_time": "2023-05-16T19:14:02.158Z"
   },
   {
    "duration": 3,
    "start_time": "2023-05-16T19:14:05.252Z"
   },
   {
    "duration": 12,
    "start_time": "2023-05-16T19:14:06.089Z"
   },
   {
    "duration": 14,
    "start_time": "2023-05-16T19:14:15.111Z"
   },
   {
    "duration": 6,
    "start_time": "2023-05-16T19:14:31.541Z"
   },
   {
    "duration": 4,
    "start_time": "2023-05-16T19:14:32.121Z"
   },
   {
    "duration": 17,
    "start_time": "2023-05-16T19:14:32.592Z"
   },
   {
    "duration": 15,
    "start_time": "2023-05-16T19:14:37.510Z"
   },
   {
    "duration": 48,
    "start_time": "2023-05-16T19:17:07.209Z"
   },
   {
    "duration": 4,
    "start_time": "2023-05-16T19:17:08.181Z"
   },
   {
    "duration": 96,
    "start_time": "2023-05-16T19:20:04.324Z"
   },
   {
    "duration": 59,
    "start_time": "2023-05-16T19:20:11.484Z"
   },
   {
    "duration": 3,
    "start_time": "2023-05-16T19:20:19.707Z"
   },
   {
    "duration": 5,
    "start_time": "2023-05-16T19:20:28.588Z"
   },
   {
    "duration": 3,
    "start_time": "2023-05-16T19:20:29.129Z"
   },
   {
    "duration": 11,
    "start_time": "2023-05-16T19:20:30.119Z"
   },
   {
    "duration": 8,
    "start_time": "2023-05-16T19:20:46.813Z"
   },
   {
    "duration": 4,
    "start_time": "2023-05-16T19:21:08.089Z"
   },
   {
    "duration": 20,
    "start_time": "2023-05-16T19:21:16.693Z"
   },
   {
    "duration": 4,
    "start_time": "2023-05-16T19:21:36.042Z"
   },
   {
    "duration": 5,
    "start_time": "2023-05-16T19:21:36.508Z"
   },
   {
    "duration": 1049,
    "start_time": "2023-05-16T19:22:23.519Z"
   },
   {
    "duration": 70,
    "start_time": "2023-05-16T19:22:24.570Z"
   },
   {
    "duration": 13,
    "start_time": "2023-05-16T19:22:24.641Z"
   },
   {
    "duration": 12,
    "start_time": "2023-05-16T19:22:24.655Z"
   },
   {
    "duration": 11,
    "start_time": "2023-05-16T19:22:24.669Z"
   },
   {
    "duration": 8,
    "start_time": "2023-05-16T19:22:24.681Z"
   },
   {
    "duration": 11,
    "start_time": "2023-05-16T19:22:24.690Z"
   },
   {
    "duration": 10,
    "start_time": "2023-05-16T19:22:24.703Z"
   },
   {
    "duration": 16,
    "start_time": "2023-05-16T19:22:24.715Z"
   },
   {
    "duration": 13,
    "start_time": "2023-05-16T19:22:24.732Z"
   },
   {
    "duration": 5,
    "start_time": "2023-05-16T19:22:24.746Z"
   },
   {
    "duration": 16,
    "start_time": "2023-05-16T19:22:24.752Z"
   },
   {
    "duration": 15,
    "start_time": "2023-05-16T19:22:24.770Z"
   },
   {
    "duration": 5,
    "start_time": "2023-05-16T19:22:24.788Z"
   },
   {
    "duration": 5,
    "start_time": "2023-05-16T19:22:24.794Z"
   },
   {
    "duration": 24,
    "start_time": "2023-05-16T19:22:24.801Z"
   },
   {
    "duration": 5,
    "start_time": "2023-05-16T19:22:24.827Z"
   },
   {
    "duration": 4,
    "start_time": "2023-05-16T19:22:24.834Z"
   },
   {
    "duration": 6,
    "start_time": "2023-05-16T19:22:24.840Z"
   },
   {
    "duration": 189,
    "start_time": "2023-05-16T19:22:24.847Z"
   },
   {
    "duration": 167,
    "start_time": "2023-05-16T19:22:25.037Z"
   },
   {
    "duration": 7,
    "start_time": "2023-05-16T19:22:25.205Z"
   },
   {
    "duration": 154,
    "start_time": "2023-05-16T19:22:25.213Z"
   },
   {
    "duration": 7,
    "start_time": "2023-05-16T19:22:25.369Z"
   },
   {
    "duration": 252,
    "start_time": "2023-05-16T19:22:25.378Z"
   },
   {
    "duration": 62,
    "start_time": "2023-05-16T19:22:25.631Z"
   },
   {
    "duration": 9,
    "start_time": "2023-05-16T19:22:25.694Z"
   },
   {
    "duration": 33,
    "start_time": "2023-05-16T19:22:25.704Z"
   },
   {
    "duration": 4,
    "start_time": "2023-05-16T19:22:25.739Z"
   },
   {
    "duration": 5,
    "start_time": "2023-05-16T19:22:25.744Z"
   },
   {
    "duration": 4,
    "start_time": "2023-05-16T19:22:25.750Z"
   },
   {
    "duration": 4,
    "start_time": "2023-05-16T19:22:25.755Z"
   },
   {
    "duration": 13,
    "start_time": "2023-05-16T19:22:25.760Z"
   },
   {
    "duration": 11,
    "start_time": "2023-05-16T19:22:25.775Z"
   },
   {
    "duration": 38,
    "start_time": "2023-05-16T19:22:25.788Z"
   },
   {
    "duration": 10,
    "start_time": "2023-05-16T19:22:25.828Z"
   },
   {
    "duration": 339,
    "start_time": "2023-05-16T19:22:25.840Z"
   },
   {
    "duration": 7,
    "start_time": "2023-05-16T19:22:26.180Z"
   },
   {
    "duration": 6,
    "start_time": "2023-05-16T19:22:26.189Z"
   },
   {
    "duration": 370,
    "start_time": "2023-05-16T19:22:26.197Z"
   },
   {
    "duration": 10,
    "start_time": "2023-05-16T19:22:26.572Z"
   },
   {
    "duration": 8,
    "start_time": "2023-05-16T19:22:26.585Z"
   },
   {
    "duration": 4,
    "start_time": "2023-05-16T19:22:26.595Z"
   },
   {
    "duration": 54,
    "start_time": "2023-05-16T19:22:26.601Z"
   },
   {
    "duration": 4,
    "start_time": "2023-05-16T19:22:26.656Z"
   },
   {
    "duration": 11,
    "start_time": "2023-05-16T19:22:26.662Z"
   },
   {
    "duration": 5,
    "start_time": "2023-05-16T19:22:26.675Z"
   },
   {
    "duration": 56,
    "start_time": "2023-05-16T19:22:26.682Z"
   },
   {
    "duration": 15,
    "start_time": "2023-05-16T19:22:26.740Z"
   },
   {
    "duration": 8,
    "start_time": "2023-05-16T19:22:26.757Z"
   },
   {
    "duration": 81,
    "start_time": "2023-05-16T19:22:26.766Z"
   },
   {
    "duration": 4,
    "start_time": "2023-05-16T19:22:26.848Z"
   },
   {
    "duration": 11,
    "start_time": "2023-05-16T19:22:26.854Z"
   },
   {
    "duration": 3,
    "start_time": "2023-05-16T19:22:26.867Z"
   },
   {
    "duration": 12,
    "start_time": "2023-05-16T19:22:26.872Z"
   },
   {
    "duration": 6,
    "start_time": "2023-05-16T19:22:26.885Z"
   },
   {
    "duration": 4,
    "start_time": "2023-05-16T19:22:26.892Z"
   },
   {
    "duration": 31,
    "start_time": "2023-05-16T19:22:26.897Z"
   },
   {
    "duration": 5,
    "start_time": "2023-05-16T19:22:26.929Z"
   },
   {
    "duration": 12,
    "start_time": "2023-05-16T19:22:26.936Z"
   },
   {
    "duration": 5,
    "start_time": "2023-05-16T19:22:26.949Z"
   },
   {
    "duration": 11,
    "start_time": "2023-05-16T19:22:26.955Z"
   },
   {
    "duration": 1242,
    "start_time": "2023-05-17T12:31:31.808Z"
   },
   {
    "duration": 86,
    "start_time": "2023-05-17T12:31:33.052Z"
   },
   {
    "duration": 12,
    "start_time": "2023-05-17T12:31:33.140Z"
   },
   {
    "duration": 19,
    "start_time": "2023-05-17T12:31:33.154Z"
   },
   {
    "duration": 16,
    "start_time": "2023-05-17T12:31:33.175Z"
   },
   {
    "duration": 16,
    "start_time": "2023-05-17T12:31:33.193Z"
   },
   {
    "duration": 11,
    "start_time": "2023-05-17T12:31:33.210Z"
   },
   {
    "duration": 10,
    "start_time": "2023-05-17T12:31:33.222Z"
   },
   {
    "duration": 10,
    "start_time": "2023-05-17T12:31:33.234Z"
   },
   {
    "duration": 36,
    "start_time": "2023-05-17T12:31:33.246Z"
   },
   {
    "duration": 14,
    "start_time": "2023-05-17T12:31:33.291Z"
   },
   {
    "duration": 27,
    "start_time": "2023-05-17T12:31:33.308Z"
   },
   {
    "duration": 7,
    "start_time": "2023-05-17T12:31:33.337Z"
   },
   {
    "duration": 6,
    "start_time": "2023-05-17T12:31:33.348Z"
   },
   {
    "duration": 6,
    "start_time": "2023-05-17T12:31:33.356Z"
   },
   {
    "duration": 32,
    "start_time": "2023-05-17T12:31:33.365Z"
   },
   {
    "duration": 10,
    "start_time": "2023-05-17T12:31:33.398Z"
   },
   {
    "duration": 11,
    "start_time": "2023-05-17T12:31:33.410Z"
   },
   {
    "duration": 6,
    "start_time": "2023-05-17T12:31:33.423Z"
   },
   {
    "duration": 213,
    "start_time": "2023-05-17T12:31:33.431Z"
   },
   {
    "duration": 221,
    "start_time": "2023-05-17T12:31:33.646Z"
   },
   {
    "duration": 28,
    "start_time": "2023-05-17T12:31:33.868Z"
   },
   {
    "duration": 218,
    "start_time": "2023-05-17T12:31:33.900Z"
   },
   {
    "duration": 12,
    "start_time": "2023-05-17T12:31:34.120Z"
   },
   {
    "duration": 375,
    "start_time": "2023-05-17T12:31:34.134Z"
   },
   {
    "duration": 79,
    "start_time": "2023-05-17T12:31:34.515Z"
   },
   {
    "duration": 10,
    "start_time": "2023-05-17T12:31:34.599Z"
   },
   {
    "duration": 17,
    "start_time": "2023-05-17T12:31:34.611Z"
   },
   {
    "duration": 4,
    "start_time": "2023-05-17T12:31:34.629Z"
   },
   {
    "duration": 8,
    "start_time": "2023-05-17T12:31:34.634Z"
   },
   {
    "duration": 9,
    "start_time": "2023-05-17T12:31:34.644Z"
   },
   {
    "duration": 28,
    "start_time": "2023-05-17T12:31:34.654Z"
   },
   {
    "duration": 18,
    "start_time": "2023-05-17T12:31:34.683Z"
   },
   {
    "duration": 25,
    "start_time": "2023-05-17T12:31:34.703Z"
   },
   {
    "duration": 12,
    "start_time": "2023-05-17T12:31:34.729Z"
   },
   {
    "duration": 12,
    "start_time": "2023-05-17T12:31:34.743Z"
   },
   {
    "duration": 386,
    "start_time": "2023-05-17T12:31:34.757Z"
   },
   {
    "duration": 10,
    "start_time": "2023-05-17T12:31:35.145Z"
   },
   {
    "duration": 32,
    "start_time": "2023-05-17T12:31:35.157Z"
   },
   {
    "duration": 446,
    "start_time": "2023-05-17T12:31:35.191Z"
   },
   {
    "duration": 9,
    "start_time": "2023-05-17T12:31:35.641Z"
   },
   {
    "duration": 26,
    "start_time": "2023-05-17T12:31:35.651Z"
   },
   {
    "duration": 10,
    "start_time": "2023-05-17T12:31:35.679Z"
   },
   {
    "duration": 37,
    "start_time": "2023-05-17T12:31:35.693Z"
   },
   {
    "duration": 3,
    "start_time": "2023-05-17T12:31:35.732Z"
   },
   {
    "duration": 15,
    "start_time": "2023-05-17T12:31:35.737Z"
   },
   {
    "duration": 45,
    "start_time": "2023-05-17T12:31:35.754Z"
   },
   {
    "duration": 27,
    "start_time": "2023-05-17T12:31:35.802Z"
   },
   {
    "duration": 12,
    "start_time": "2023-05-17T12:31:35.831Z"
   },
   {
    "duration": 13,
    "start_time": "2023-05-17T12:31:35.845Z"
   },
   {
    "duration": 87,
    "start_time": "2023-05-17T12:31:35.859Z"
   },
   {
    "duration": 4,
    "start_time": "2023-05-17T12:31:35.948Z"
   },
   {
    "duration": 9,
    "start_time": "2023-05-17T12:31:35.954Z"
   },
   {
    "duration": 29,
    "start_time": "2023-05-17T12:31:35.965Z"
   },
   {
    "duration": 16,
    "start_time": "2023-05-17T12:31:35.996Z"
   },
   {
    "duration": 14,
    "start_time": "2023-05-17T12:31:36.014Z"
   },
   {
    "duration": 12,
    "start_time": "2023-05-17T12:31:36.030Z"
   },
   {
    "duration": 8,
    "start_time": "2023-05-17T12:31:36.044Z"
   },
   {
    "duration": 9,
    "start_time": "2023-05-17T12:31:36.053Z"
   },
   {
    "duration": 20,
    "start_time": "2023-05-17T12:31:36.063Z"
   },
   {
    "duration": 8,
    "start_time": "2023-05-17T12:31:36.090Z"
   },
   {
    "duration": 18,
    "start_time": "2023-05-17T12:31:36.099Z"
   },
   {
    "duration": 6,
    "start_time": "2023-05-17T12:35:24.944Z"
   }
  ],
  "kernelspec": {
   "display_name": "Python 3",
   "language": "python",
   "name": "python3"
  },
  "language_info": {
   "codemirror_mode": {
    "name": "ipython",
    "version": 3
   },
   "file_extension": ".py",
   "mimetype": "text/x-python",
   "name": "python",
   "nbconvert_exporter": "python",
   "pygments_lexer": "ipython3",
   "version": "3.8.5"
  },
  "toc": {
   "base_numbering": 1,
   "nav_menu": {},
   "number_sections": true,
   "sideBar": true,
   "skip_h1_title": true,
   "title_cell": "Table of Contents",
   "title_sidebar": "Contents",
   "toc_cell": false,
   "toc_position": {},
   "toc_section_display": true,
   "toc_window_display": false
  }
 },
 "nbformat": 4,
 "nbformat_minor": 5
}
